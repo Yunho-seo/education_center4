{
  "nbformat": 4,
  "nbformat_minor": 0,
  "metadata": {
    "colab": {
      "provenance": [],
      "authorship_tag": "ABX9TyNiit19VnZHsvJQZE4JEGFT",
      "include_colab_link": true
    },
    "kernelspec": {
      "name": "python3",
      "display_name": "Python 3"
    },
    "language_info": {
      "name": "python"
    }
  },
  "cells": [
    {
      "cell_type": "markdown",
      "metadata": {
        "id": "view-in-github",
        "colab_type": "text"
      },
      "source": [
        "<a href=\"https://colab.research.google.com/github/Yunho-seo/education_center4/blob/main/07_mariadb_pymysql.ipynb\" target=\"_parent\"><img src=\"https://colab.research.google.com/assets/colab-badge.svg\" alt=\"Open In Colab\"/></a>"
      ]
    },
    {
      "cell_type": "code",
      "execution_count": 1,
      "metadata": {
        "colab": {
          "base_uri": "https://localhost:8080/"
        },
        "id": "_iIc-rJ69E53",
        "outputId": "40229e10-18f5-43ec-ef39-2427a9e885b1"
      },
      "outputs": [
        {
          "output_type": "stream",
          "name": "stdout",
          "text": [
            "Linux a2200c6852e1 5.10.147+ #1 SMP Sat Dec 10 16:00:40 UTC 2022 x86_64 x86_64 x86_64 GNU/Linux\n"
          ]
        }
      ],
      "source": [
        "!uname -a\n",
        "# 학습 -> 학습 결과를 구글 드라이브에 저장 -> 다시 로딩하여 학습 (딥러닝 : 행렬 가중치를 학습)"
      ]
    },
    {
      "cell_type": "code",
      "source": [
        "# shell 명령 앞에는 ! 붙여야 함 \n",
        "!pip install pymysql  # mysql에 접속하기 위한 패키지를 설치"
      ],
      "metadata": {
        "colab": {
          "base_uri": "https://localhost:8080/"
        },
        "id": "8kgma0Ct-3jq",
        "outputId": "4cd90e7d-448a-41ed-8718-81ffa9f5d23f"
      },
      "execution_count": 3,
      "outputs": [
        {
          "output_type": "stream",
          "name": "stdout",
          "text": [
            "Looking in indexes: https://pypi.org/simple, https://us-python.pkg.dev/colab-wheels/public/simple/\n",
            "Requirement already satisfied: pymysql in /usr/local/lib/python3.9/dist-packages (1.0.3)\n"
          ]
        }
      ]
    },
    {
      "cell_type": "code",
      "source": [
        "import pymysql\n",
        "con = pymysql.connect(host='34.64.86.80', port = 3306, user = 'root', passwd = 'acorn1234',\n",
        "                      db = 'sungjuk', charset = 'utf8', autocommit=True)\n",
        "\n",
        "# DDL : 데이터 정의 (Data difinition) = 데이터베이스나 테이블을 create(생성), drop(삭제), alter(수정)\n",
        "\n",
        "# DML : 데이터 관리 (Data management) = select, insert into, update set, delete from\n",
        "  # insert into, update set, delete from은 트랜잭션의 대상, 트리거의 대상, 커밋(Commit)의 대상 (autocommit = T 설정 시, 커밋하지 않아도 된다)\n",
        "  # 이들은 데이터베이스에 영향을 미치는 명령어들이기 때문이다. \n",
        "  # 반드시 commit을 해주어야 한다. (커밋은 con 객체에)\n",
        "\n",
        "# DCL : 데이터 제어 (Data control language) = grant 등\n",
        "\n",
        "# TCL : 트랜잭션 제어 (Transaction control language) "
      ],
      "metadata": {
        "id": "S6wUkKni_svM"
      },
      "execution_count": 9,
      "outputs": []
    },
    {
      "cell_type": "code",
      "source": [
        "# 예외 처리\n",
        "# connection 객체 (연결 객체)\n",
        "# cursor 객체 (Query문을 실행하는 객체)\n",
        "# cur = con.cursor()\n",
        "try:\n",
        "   with con.cursor() as cur:  # with문 내에서 객체 생성 시, with 문 종료와 더불어 객체도 닫힌다.\n",
        "     cur.execute('select * from student')  # 쿼리문 실행 시 resultset으로 도착하게 된다. (resultset의 형식이 DB와 같음) (명령어를 이용하여 데이터를 가져 와야 함 -> fetchall())\n",
        "     rows = cur.fetchall()   # fetchone(), fetchmany() 등 데이터를 가져오는 명령어\n",
        "     # 파이썬에서 다량의 데이터를 사용하는 방법 : list, dict => default는 list이다.\n",
        "     desc = cur.description\n",
        "     for row in rows:\n",
        "       print(f'{row[0]}, {row[1]}, {row[2]}, {row[3]}')\n",
        "finally:\n",
        "  con.close()  # 운영체제 차원에서 관리 된다, 자원이 한정되어 있음."
      ],
      "metadata": {
        "colab": {
          "base_uri": "https://localhost:8080/"
        },
        "id": "fXx_tt_4-3lp",
        "outputId": "346cb4c7-2e53-491d-8c19-acf115a2670a"
      },
      "execution_count": 5,
      "outputs": [
        {
          "output_type": "stream",
          "name": "stdout",
          "text": [
            "1, 김만덕, 80, 99\n",
            "2, 고려인, 100, 99\n",
            "3, 천공인, 100, 81\n",
            "4, 천공이, 81, 81\n",
            "5, 천공삼, 91, 100\n",
            "6, 천공사, 100, 100\n",
            "7, 종로구, 100, 81\n",
            "8, 만세야, 99, 99\n",
            "9, 만세야, 80, 80\n"
          ]
        }
      ]
    },
    {
      "cell_type": "code",
      "source": [
        "print(desc)\n",
        "# 열 이름만 선택하여 출력\n",
        "print([i[0] for i in cur.description])"
      ],
      "metadata": {
        "colab": {
          "base_uri": "https://localhost:8080/"
        },
        "id": "naaCNx4K-3nx",
        "outputId": "bd375be1-3154-4a30-9fef-a739fdcc0a37"
      },
      "execution_count": 13,
      "outputs": [
        {
          "output_type": "stream",
          "name": "stdout",
          "text": [
            "(('bunho', 3, None, 11, 11, 0, False), ('name', 253, None, 50, 50, 0, False), ('kor', 252, None, 765, 765, 0, True), ('mat', 252, None, 765, 765, 0, True), ('eng', 252, None, 765, 765, 0, True), ('total', 3, None, 11, 11, 0, True), ('average', 4, None, 12, 12, 31, True), ('grade', 254, None, 150, 150, 0, True), ('schoolcode', 254, None, 30, 30, 0, False))\n",
            "['bunho', 'name', 'kor', 'mat', 'eng', 'total', 'average', 'grade', 'schoolcode']\n"
          ]
        }
      ]
    },
    {
      "cell_type": "code",
      "source": [
        "# 문제\n",
        "# 이름을 출력하고 데이터를 출력\n",
        "import pymysql\n",
        "con = pymysql.connect(host='34.64.86.80', port = 3306, user = 'root', passwd = 'acorn1234',\n",
        "                      db = 'sungjuk', charset = 'utf8', autocommit=True)\n",
        "try:\n",
        "   with con.cursor() as cur:\n",
        "     cur.execute('select * from student')\n",
        "     rows = cur.fetchall()\n",
        "     desc = cur.description\n",
        "     print(f'{desc[0][0]:<4} {desc[1][0]:>10} {desc[2][0]:>13} {desc[3][0]:>11}')\n",
        "     for row in rows:\n",
        "       print(f'{row[0]:<4} {row[1]:>10} {row[2]:>10} {row[3]:>10}')\n",
        "finally:\n",
        "  con.close()"
      ],
      "metadata": {
        "colab": {
          "base_uri": "https://localhost:8080/"
        },
        "id": "VmpMe4Pa-3pp",
        "outputId": "7b25123f-a9d1-426e-c621-1ee471f7ce70"
      },
      "execution_count": 15,
      "outputs": [
        {
          "output_type": "stream",
          "name": "stdout",
          "text": [
            "bunho       name           kor         mat\n",
            "1           김만덕         80         99\n",
            "2           고려인        100         99\n",
            "3           천공인        100         81\n",
            "4           천공이         81         81\n",
            "5           천공삼         91        100\n",
            "6           천공사        100        100\n",
            "7           종로구        100         81\n",
            "8           만세야         99         99\n",
            "9           만세야         80         80\n"
          ]
        }
      ]
    },
    {
      "cell_type": "code",
      "source": [
        "# 문제\n",
        "# 번호가 5번 이하인 데이터만 query로 출력 (번호, 이름, 국어, 영어, 수학)\n",
        "import pymysql\n",
        "con = pymysql.connect(host='34.64.86.80', port = 3306, user = 'root', passwd = 'acorn1234',\n",
        "                      db = 'sungjuk', charset = 'utf8', autocommit=True)\n",
        "try:\n",
        "   with con.cursor() as cur:\n",
        "     cur.execute('select * from student where bunho <= 5')\n",
        "     rows = cur.fetchall()\n",
        "     desc = cur.description\n",
        "     print(f'{desc[0][0]:<4} {desc[1][0]:>10} {desc[2][0]:>13} {desc[3][0]:>11} {desc[4][0]:>10}')\n",
        "     for row in rows:\n",
        "       print(f'{row[0]:<4} {row[1]:>10} {row[2]:>10} {row[3]:>10} {row[4]:>11}')\n",
        "finally:\n",
        "  con.close()"
      ],
      "metadata": {
        "colab": {
          "base_uri": "https://localhost:8080/"
        },
        "id": "b0khCYmF-3r5",
        "outputId": "66cce7fd-3d0f-4e3c-946c-6531a7cf011a"
      },
      "execution_count": 18,
      "outputs": [
        {
          "output_type": "stream",
          "name": "stdout",
          "text": [
            "bunho       name           kor         mat        eng\n",
            "1           김만덕         80         99          60\n",
            "2           고려인        100         99          99\n",
            "3           천공인        100         81         100\n",
            "4           천공이         81         81          81\n",
            "5           천공삼         91        100         100\n"
          ]
        }
      ]
    },
    {
      "cell_type": "code",
      "source": [],
      "metadata": {
        "id": "Sk95oQE--3vZ"
      },
      "execution_count": null,
      "outputs": []
    }
  ]
}