{
  "nbformat": 4,
  "nbformat_minor": 0,
  "metadata": {
    "colab": {
      "provenance": [],
      "authorship_tag": "ABX9TyNWQLqZuOjDMhaoqUp3tDDF",
      "include_colab_link": true
    },
    "kernelspec": {
      "name": "python3",
      "display_name": "Python 3"
    },
    "language_info": {
      "name": "python"
    }
  },
  "cells": [
    {
      "cell_type": "markdown",
      "metadata": {
        "id": "view-in-github",
        "colab_type": "text"
      },
      "source": [
        "<a href=\"https://colab.research.google.com/github/Yunho-seo/education_center4/blob/main/05_class.ipynb\" target=\"_parent\"><img src=\"https://colab.research.google.com/assets/colab-badge.svg\" alt=\"Open In Colab\"/></a>"
      ]
    },
    {
      "cell_type": "markdown",
      "source": [
        "# 파이썬 class의 특징\n",
        "- 객체 지향정신의 기준\n",
        " - 캡슐화 : 데이터 보호 => public으로 풀린다.\n",
        " - 추상화 : 메시지에 의한 데이터 송수신 (멤버변수는 고려할 필요 없음), 실세계 => class\n",
        " - 다형성 -\n",
        "   - 오버로딩 : 파이썬 문법구조 속에서 자연적으로 해결 (데이터 타입이 다른 문제 , default 매개변수로 해결\n",
        "   - 오버라이딩 : 더욱 발전\n",
        "     - object(__call__, __init__, __repr__)\n",
        "- 구조적인 면\n",
        " - 생성자는 __init__가 대신\n",
        " - 멤버변수는 함수 안에서만 작성\n",
        " - 클래스의 멤버변수는 공유변수\n",
        " - 멤버 변수나 멤버 함수는 self를 붙여서 사용한다.\n",
        " - 함수에서 정의되는 변수 : 지역변수\n",
        "\n",
        "- 자료구조적 면\n",
        " - 기본적으로 이질적 데이터를 담은 배열\n",
        " - 클래스는 기본적으로 1차원 배열과 같은 역할\n",
        " - 클래스를 리스트에 담으면, 2차원 배열과 같은 효과가 있다."
      ],
      "metadata": {
        "id": "gsrYW_3GTNhr"
      }
    },
    {
      "cell_type": "code",
      "source": [
        "# 이등변 삼각형의 면적을 구하는 프로그램\n",
        "width = 10\n",
        "height = 20\n",
        "area = width * height / 2\n",
        "print(\"삼각형의 넓이는\", area)"
      ],
      "metadata": {
        "colab": {
          "base_uri": "https://localhost:8080/"
        },
        "id": "PLX-LD9-UzJk",
        "outputId": "29f017c5-a827-4cec-afc5-286ec7da9fe1"
      },
      "execution_count": 1,
      "outputs": [
        {
          "output_type": "stream",
          "name": "stdout",
          "text": [
            "삼각형의 넓이는 100.0\n"
          ]
        }
      ]
    },
    {
      "cell_type": "code",
      "source": [
        "# 함수화\n",
        "def calctri(width, height):\n",
        "  area = width * height / 2\n",
        "  return area\n",
        "print(\"삼각형의 넓이는 \", calctri(width, height))"
      ],
      "metadata": {
        "colab": {
          "base_uri": "https://localhost:8080/"
        },
        "id": "nYk8ghZxUzLq",
        "outputId": "7ef76841-dc30-4b09-f2a0-57b5996efded"
      },
      "execution_count": 2,
      "outputs": [
        {
          "output_type": "stream",
          "name": "stdout",
          "text": [
            "삼각형의 넓이는  100.0\n"
          ]
        }
      ]
    },
    {
      "cell_type": "code",
      "source": [
        "# 클래스 내 함수의 첫번째 매개변수는, 반드시 self이여야 함.\n",
        "# 멤버 변수는 초기화할때나 사용할 때에, 항상 self를 붙여야 함.\n",
        "# 클래스화\n",
        "class Triangle:\n",
        "  def setData(self, width, height):  # 초기화 함수\n",
        "    self.width = width  # 멤버 변수 : 일반 함수로 멤버 변수를 만들 수 있다. (클래스가 없어져야 멤버 변수가 없어짐)\n",
        "    self.height = height\n",
        "  def area(self):\n",
        "    return self.width * self.height / 2\n",
        "\n",
        "tri1 = Triangle()\n",
        "tri1.setData(10, 20)\n",
        "print(tri1.width, tri1.height, tri1.area())\n",
        "# 클래스가 메모리에서 사라지는 경우 : 참조가 없어지면 메모리는 자동 청소 (garbage collection)\n",
        "# 참조를 없애는 방법 : 변수 -> 주소 -> 데이터가 있는 메모리  def(변수)"
      ],
      "metadata": {
        "colab": {
          "base_uri": "https://localhost:8080/"
        },
        "id": "g8kKsxgVUzNq",
        "outputId": "c406f893-c52a-4e3b-89b8-0b042da53b2d"
      },
      "execution_count": 5,
      "outputs": [
        {
          "output_type": "stream",
          "name": "stdout",
          "text": [
            "10 20 100.0\n"
          ]
        }
      ]
    },
    {
      "cell_type": "code",
      "source": [
        "# 함수 작성 시 self가 첫번째 매개변수에 오는 것은, 문법이다.(다만 self는 매개변수 개수에 해당되지 않음)\n",
        "class Triangle:\n",
        "  def __init__(self, width, height):  # 생성자 : 인스턴스될 때 자동으로 호출 \n",
        "    self.width = width  # public (default)\n",
        "    self.height = height\n",
        "  def setData(self, width, height):  # 초기화 함수\n",
        "    self.width = width  # 멤버 변수 : 일반 함수로 멤버 변수를 만들 수 있다. (클래스가 없어져야 멤버 변수가 없어짐)\n",
        "    self.height = height\n",
        "  def area(self):\n",
        "    return self.width * self.height / 2\n",
        "\n",
        "tri1 = Triangle(10, 20)\n",
        "tri1.setData(10, 20)\n",
        "print(tri1.width, tri1.height, tri1.area())"
      ],
      "metadata": {
        "colab": {
          "base_uri": "https://localhost:8080/"
        },
        "id": "ATjDCkOJUzPa",
        "outputId": "d52e15ec-0ceb-47f2-d2a4-18889cb44053"
      },
      "execution_count": 6,
      "outputs": [
        {
          "output_type": "stream",
          "name": "stdout",
          "text": [
            "10 20 100.0\n"
          ]
        }
      ]
    },
    {
      "cell_type": "code",
      "source": [
        "# 언더바 두개(__)가 붙으면, private 변수 : 직접 접근이 불가능하다.\n",
        "class C:\n",
        "  def __init__(self):\n",
        "    self.__x = None  # private 변수\n",
        "\n",
        "  def getx(self):\n",
        "    return self.__x\n",
        "\n",
        "  def setx(self, value):\n",
        "    self.__x = value\n",
        "\n",
        "  def delx(self):\n",
        "    del self.__x\n",
        "\n",
        "test = C()\n",
        "test.setx(100)\n",
        "# test.getx()\n",
        "# test.__x"
      ],
      "metadata": {
        "id": "gGNKXy5wUzRC"
      },
      "execution_count": 11,
      "outputs": []
    },
    {
      "cell_type": "code",
      "source": [
        "# 명시적으로 object를 상속한다.\n",
        "# 인스턴스 여부 : 자바에서는 new\n",
        "class MyClass(object):  # template (꼴)\n",
        "  \"\"\"클래스의 예시\"\"\"  # __doc__\n",
        "  i = 12345  # 클래스 변수 : 한번만 메모리를 생성 (static 생성된다는 의미)\n",
        "  def __init__(self):\n",
        "    self.i = 54321\n",
        "    num = 100   # 함수안에서 만들어진 지역변수 (초기화하여도 작동 끝나면 없어진다.)\n",
        "  def f(self):\n",
        "    return self.i\n",
        "\n",
        "print(MyClass.__doc__)  # \"\"\"으로 명시된 설명을 출력 \n",
        "print(MyClass.i)\n",
        "myclass = MyClass()  # 자바에서의 인스턴스 => heap에 데이터가 저장\n",
        "print(myclass.i)\n",
        "myclass.f()  # f 함수 호출로써 self.i가 출력."
      ],
      "metadata": {
        "colab": {
          "base_uri": "https://localhost:8080/"
        },
        "id": "biOeBYJmUzUC",
        "outputId": "ebd307f8-94c5-4ef3-e390-e859a484fb5c"
      },
      "execution_count": 13,
      "outputs": [
        {
          "output_type": "stream",
          "name": "stdout",
          "text": [
            "클래스의 예시\n",
            "12345\n",
            "54321\n"
          ]
        },
        {
          "output_type": "execute_result",
          "data": {
            "text/plain": [
              "54321"
            ]
          },
          "metadata": {},
          "execution_count": 13
        }
      ]
    },
    {
      "cell_type": "code",
      "source": [
        "from time import time, ctime, sleep\n",
        "# 클래스 : 멤버 변수 + 멤버 함수(메서드) 로 구성되어 있음.\n",
        "# 멤버 함수는 정의할 때에 한번 생성되고, 멤버변수만 인스턴스 할 때에 heap 영역에 메모리를 형성한다.\n",
        "class Life:\n",
        "  def __init__(self):  # 생성자\n",
        "    self.birth = ctime()  # ctime() : 시간을 문자열로.\n",
        "    print(\"생성\", self.birth)\n",
        "  def __del__(self):   # 소멸자 : garbage collection에서 없앰\n",
        "    print(\"사망\", ctime())\n",
        "  def test(self):\n",
        "    # mylife = Life()\n",
        "    print(\"3초동안 sleeping\")\n",
        "    sleep(3)\n",
        "\n",
        "li = Life()  # 인스턴스할 때에 Life() 출력. => heap 영역의 주소 / li에는 주소값만 들어있음\n",
        "# 인스턴스한 클래스를 직접 삭제할 수 없고 참조하고 있는 주소만 삭제시킬 수 있다.\n",
        "li.test()    # test() 출력\n",
        "del li       # 주소값을 삭제 = 참조 주소가 없어짐. (del : delete)\n",
        "# time은 1970.1.1 이후로의 tick ( m초 )\n",
        "print(time())"
      ],
      "metadata": {
        "colab": {
          "base_uri": "https://localhost:8080/"
        },
        "id": "ZXWmng2rUzWE",
        "outputId": "56117330-7eef-42a1-8ba5-d929d05edf21"
      },
      "execution_count": 14,
      "outputs": [
        {
          "output_type": "stream",
          "name": "stdout",
          "text": [
            "생성 Fri Apr 14 01:42:28 2023\n",
            "3초동안 sleeping\n",
            "1681436551.0164623\n",
            "사망 Fri Apr 14 01:42:31 2023\n"
          ]
        }
      ]
    },
    {
      "cell_type": "code",
      "source": [
        "# 함수  : 데이터가 밖에 있고, 함수로 전달하여 처리한 다음, return\n",
        "# class : 데이터도 내부에 있고, 처리도 내부에서 한다 ( 자료구조 + 알고리즘 ) \n",
        "# Template : 꼴, 형태\n",
        "class Employee:\n",
        "  empCount = 0  # 클래스 변수 (공유변수 : 해당 클래스를 인스턴스하는 것들끼리 공유)\n",
        "  def __init__(self, name, salary):\n",
        "    self.name = name      # 멤버 변수\n",
        "    self.salary = salary  # 멤버 변수\n",
        "    Employee.empCount += 1  # 클래스 변수는 인스턴스하지 않고도 사용이 가능하다. => 인스턴스할 때마다 숫자가 증가\n",
        "  def displayCount(self):\n",
        "    print(\"직원수: %d\" % Employee.empCount)  # 클래스 변수를 출력\n",
        "  def displayEmployee(self):\n",
        "    print(\"이름: \", self.name, \"급여: \", self.salary)  # 멤버 변수를 출력 \n",
        "  def __call__(self, *pargs, **kargs):  # class를 함수처럼 사용할 수 있게 하기 위해 오버라이딩\n",
        "    print(\"Called\", pargs, kargs)       # pargs : 튜플 / kargs : 딕셔너리 형태.\n",
        "# 함수는, 1급 객체 (함수가 클래스)\n",
        "# 클래스도 함수처럼 사용할 수 있다. ( def __call__(self, *pargs, **kargs): 로 인해. )\n",
        "\n",
        "\n",
        "emp = Employee(\"서윤호\", 500)  # 인스턴스 (초기화 함수 작동)\n",
        "emp.displayCount()  # empCount == 1\n",
        "emp1 = Employee(\"빅데이터\", 500)  # empCount == 2\n",
        "emp1.displayCount()  # 2\n",
        "emp.displayCount()   # 2 (공유)\n",
        "emp(\"빅데이터\", 500, 100, c=100)  # 함수처럼 작성하면, __call__ 함수가 작동함\n",
        "\n",
        "emp1.age = 7  # 멤버변수 추가\n",
        "emp1.age = 8  # 멤버변수 수정\n",
        "\n",
        "hasattr(emp1, 'name')  # emp1에 'name' 변수 있는지?\n",
        "hasattr(emp1, 'age')\n",
        "getattr(emp1, 'age')   # emp1의 'age' 변수의 값 출력\n",
        "setattr(emp1, 'age', 8)  # emp1의 'age' 변수의 값 수정\n",
        "delattr(emp1, 'age')   # emp1의 'age' 변수 삭제"
      ],
      "metadata": {
        "colab": {
          "base_uri": "https://localhost:8080/"
        },
        "id": "4bMqvupYUzXr",
        "outputId": "da488c3a-95f3-476e-8df0-b58bdd3b2ef4"
      },
      "execution_count": 40,
      "outputs": [
        {
          "output_type": "stream",
          "name": "stdout",
          "text": [
            "직원수: 1\n",
            "직원수: 2\n",
            "직원수: 2\n",
            "Called ('빅데이터', 500, 100) {'c': 100}\n"
          ]
        }
      ]
    },
    {
      "cell_type": "code",
      "source": [
        "# 파이썬 자체가 변수들을 지정할 때, dict 형식(검색속도가 빠름)으로 저장된다.\n",
        "print(emp.__dict__)\n",
        "print(emp1.__dict__)\n",
        "\n",
        "# 공유 변수는 직접 접근\n",
        "print(Employee.empCount)\n",
        "\n",
        "print('Employee.__doc__:', Employee.__doc__)\n",
        "print('Employee.__name__:', Employee.__name__)\n",
        "print('Employee.__bases__:', Employee.__bases__)\n",
        "print('Employee.__dict__:', Employee.__dict__)"
      ],
      "metadata": {
        "colab": {
          "base_uri": "https://localhost:8080/"
        },
        "id": "yieIDPGJUzba",
        "outputId": "59829efc-4a1d-4599-903f-1a8582e804bd"
      },
      "execution_count": 43,
      "outputs": [
        {
          "output_type": "stream",
          "name": "stdout",
          "text": [
            "{'name': '서윤호', 'salary': 500}\n",
            "{'name': '빅데이터', 'salary': 500}\n",
            "2\n",
            "Employee.__doc__: None\n",
            "Employee.__name__: Employee\n",
            "Employee.__bases__: (<class 'object'>,)\n",
            "Employee.__dict__: {'__module__': '__main__', 'empCount': 2, '__init__': <function Employee.__init__ at 0x7efef08e0e50>, 'displayCount': <function Employee.displayCount at 0x7efef08e0160>, 'displayEmployee': <function Employee.displayEmployee at 0x7efef08e53a0>, '__call__': <function Employee.__call__ at 0x7efef08e55e0>, '__dict__': <attribute '__dict__' of 'Employee' objects>, '__weakref__': <attribute '__weakref__' of 'Employee' objects>, '__doc__': None}\n"
          ]
        }
      ]
    },
    {
      "cell_type": "code",
      "source": [
        "# 문제\n",
        "# 이름과 나이를 저장하는 Student 클래스를 생성\n",
        "# 이름과 나이를 출력하는 print 함수를 작성.\n",
        "# 저장할 데이터 : 이름, 나이 / 필요한 함수 : __init__, print\n",
        "\n",
        "class Student:\n",
        "  \"\"\"학생관리\"\"\"\n",
        "  def __init__(self, name, age):\n",
        "    self.name = name\n",
        "    self.age = age\n",
        "  def print(self):\n",
        "    print('이름: ', self.name, '나이: ', self.age)\n",
        "  def __repr__(self):  # 문자열을 리턴해야 한다.\n",
        "    return '내 이름: ' + self.name + '나이: ' + str(self.age) + '이다.'\n",
        "\n",
        "stu = Student('서윤호', 23)\n",
        "stu.print()\n",
        "print(stu)\n",
        "stu.__doc__\n",
        "g = stu.__class__  # 어떤 클래스를 사용하는지\n",
        "g = stu.__class__('테스트', 40)\n",
        "print(g)\n"
      ],
      "metadata": {
        "colab": {
          "base_uri": "https://localhost:8080/"
        },
        "id": "Fr2aNqtDUzdK",
        "outputId": "fe24750c-6fbf-4584-a9f1-919d6f5b93ff"
      },
      "execution_count": 52,
      "outputs": [
        {
          "output_type": "stream",
          "name": "stdout",
          "text": [
            "이름:  서윤호 나이:  23\n",
            "내 이름: 서윤호나이: 23이다.\n",
            "내 이름: 테스트나이: 40이다.\n"
          ]
        }
      ]
    },
    {
      "cell_type": "code",
      "source": [
        "class FourCal:\n",
        "  def __init__(self, first, second):\n",
        "    self.first = first    # 멤버 변수\n",
        "    self.second = second  # 멤버 변수\n",
        "  def mul(self):\n",
        "    result = self.first * self.second\n",
        "    return result\n",
        "  def sub(self):\n",
        "    result = self.first - self.second\n",
        "    return result\n",
        "  def div(self):\n",
        "    result = self.first / self.second\n",
        "    return result\n",
        "  def all_cal(self):\n",
        "    result2 = self.mul()\n",
        "    result3 = self.sub()\n",
        "    result4 = self.div()\n",
        "    return result2 + result3 + result4  # 내부 함수 호출 후 결과값을 더하여 리턴\n",
        "\n",
        "fourcal = FourCal(100, 200)\n",
        "fourcal.all_cal()\n",
        "def addnum(a, b):  # 함수도 실시간으로 추가가 가능하다.\n",
        "  return a+b\n",
        "# 파이썬의 함수는 일급객체 : 변수 대입, 매개 변수로 전달 가능, 멤버 변수에도 대입이 가능 \n",
        "fourcal.sum = addnum\n",
        "print(fourcal.sum(fourcal.first, fourcal.second))"
      ],
      "metadata": {
        "colab": {
          "base_uri": "https://localhost:8080/"
        },
        "id": "YVwMAqhvUze6",
        "outputId": "24e73e9f-a624-407d-d2a5-24a040e23f4b"
      },
      "execution_count": 57,
      "outputs": [
        {
          "output_type": "stream",
          "name": "stdout",
          "text": [
            "300\n"
          ]
        }
      ]
    },
    {
      "cell_type": "code",
      "source": [
        "# python에서는 모든 변수가 포인터 -> 복사가 필요할 때가 있음.\n",
        "import copy\n",
        "a = [1, 2, 3]\n",
        "b = [4, 5, a]    # [4, 5, [1, 2, 3]]\n",
        "x = [a, b, 100]  # 주소로 연결한다.\n",
        "# y = x\n",
        "y = copy.copy(x)  # 데이터를 복사 (얕은 복사 / y = x와 같은 역할)\n",
        "a.append(2000)  # [[1, 2, 3, 2000], [4, 5, [1, 2, 3, 2000]], 100]\n",
        "print(\"a=\", a)\n",
        "print(x)\n",
        "print(y)\n",
        "y2 = copy.deepcopy(x)  # 데이터만 가지고 별도의 공간을 만듬 \n",
        "a[0] = 100\n",
        "print(y)\n",
        "print(y2)"
      ],
      "metadata": {
        "colab": {
          "base_uri": "https://localhost:8080/"
        },
        "id": "pxDxy81NUzgy",
        "outputId": "e6e743a0-d8e5-4a15-f270-2376cc42c9e8"
      },
      "execution_count": 62,
      "outputs": [
        {
          "output_type": "stream",
          "name": "stdout",
          "text": [
            "a= [1, 2, 3, 2000]\n",
            "[[1, 2, 3, 2000], [4, 5, [1, 2, 3, 2000]], 100]\n",
            "[[1, 2, 3, 2000], [4, 5, [1, 2, 3, 2000]], 100]\n",
            "[[100, 2, 3, 2000], [4, 5, [100, 2, 3, 2000]], 100]\n",
            "[[1, 2, 3, 2000], [4, 5, [1, 2, 3, 2000]], 100]\n"
          ]
        }
      ]
    },
    {
      "cell_type": "code",
      "source": [
        "# chaining\n",
        "# 일반 함수나 멤버 함수나 동일한 구조에서 실행된다.\n",
        "class Person:\n",
        "  def name(self, value):\n",
        "    self.name = value\n",
        "    return self  # 자바에서는 this, 메모리에서 클래스가 있는 주소를 대입\n",
        "  def age(self, value):\n",
        "    self.age = value\n",
        "    return self\n",
        "  def introduce(self):\n",
        "    print(\"이름: \", self.name, \"나이: \", self.age)\n",
        "person = Person()\n",
        "person.name(\"미래융합교육원\").age(21).introduce()  # self를 리턴하였기에, '.'을 찍어 연속된 출력이 가능 => chaining"
      ],
      "metadata": {
        "colab": {
          "base_uri": "https://localhost:8080/"
        },
        "id": "CTxOu3DtUzil",
        "outputId": "9ff32e4e-8a88-46b3-8bac-1f6ef0385756"
      },
      "execution_count": 64,
      "outputs": [
        {
          "output_type": "stream",
          "name": "stdout",
          "text": [
            "이름:  미래융합교육원 나이:  21\n"
          ]
        }
      ]
    },
    {
      "cell_type": "code",
      "source": [
        "# 클래스 구성 : 클래스 변수 (공유, 인스턴스 안해도 사용 가능) + 멤버 변수 + 멤버 함수\n",
        "# staticmethod (정적 메서드) : 인스턴스하지 않고 사용할 수 있는 함수이다.\n",
        "# decorator( @ )를 이용하여 표현.\n",
        "\n",
        "class StaticTest():\n",
        "  def spam(x, y):\n",
        "    print(\"정적 함수: \", x, y)\n",
        "  spam = staticmethod(spam)\n",
        "\n",
        "  @staticmethod  # decorator(장식)  /  자바에서는 annotation\n",
        "  def spam1(x, y):\n",
        "    print(\"일반 함수: \", x, y)\n",
        "\n",
        "StaticTest.spam(1, 2)\n",
        "StaticTest.spam1(1, 2)"
      ],
      "metadata": {
        "colab": {
          "base_uri": "https://localhost:8080/"
        },
        "id": "AFUlA9ayUzkB",
        "outputId": "394a0d1e-ad20-4bb0-8fca-7931bbf91fbb"
      },
      "execution_count": 65,
      "outputs": [
        {
          "output_type": "stream",
          "name": "stdout",
          "text": [
            "정적 함수:  1 2\n",
            "일반 함수:  1 2\n"
          ]
        }
      ]
    },
    {
      "cell_type": "code",
      "source": [
        "# classmethod : 초기화 방법이 상이해야 하는 경우에 사용한다.\n",
        "from datetime import date\n",
        "class Person:\n",
        "  def __init__(self, name, age):  # 파이썬에서는 오버로딩이 없다.\n",
        "    self.name = name\n",
        "    self.age = age\n",
        "  @classmethod  # cls(class) : 아직 초기화되지 않은 상태에서 초기화가 되기 때문이다.\n",
        "  def fromBirthYear(cls, name, birthYear):\n",
        "    return cls(name, date.today().year - birthYear)  # n년생으로 입력받아 나이를 계산.\n",
        "  def display(self):\n",
        "    print(self.name + '의 나이는' + str(self.age))\n",
        "\n",
        "person = Person('강감찬', 19)\n",
        "person.display()\n",
        "person1 = Person.fromBirthYear('을지문덕', 1985)  # 출생 년도\n",
        "person1.display()"
      ],
      "metadata": {
        "colab": {
          "base_uri": "https://localhost:8080/"
        },
        "id": "dUct22vZUzmC",
        "outputId": "dd8dfd70-5225-4897-fe58-84af512fcd82"
      },
      "execution_count": 66,
      "outputs": [
        {
          "output_type": "stream",
          "name": "stdout",
          "text": [
            "강감찬의 나이는19\n",
            "을지문덕의 나이는38\n"
          ]
        }
      ]
    },
    {
      "cell_type": "code",
      "source": [
        "# 자바에서는 다음 구조를 반드시 상속으로 해결해야 함\n",
        "# 파이썬에서는 데이터 타입을 지정하지 않음 -> 상속 없이 해결이 가능\n",
        "# 상속 구조를 사용하지 않고도 디자인 패턴을 사용할 수 있다.\n",
        "\n",
        "class Guard:\n",
        "  def three_point(self):\n",
        "    print(\"가드는 3점슛 장착\")\n",
        "  def apass(self):\n",
        "    print(\"가드의 핵심은 에이패스\")\n",
        "\n",
        "class Jordan:\n",
        "  def three_point(self):\n",
        "    print(\"조던은 3점슛 장착\")\n",
        "  def apass(self):\n",
        "    print(\"조던은 에이패스 가능\")\n",
        "\n",
        "def inhecourt(duck):\n",
        "  duck.three_point();\n",
        "  duck.apass()\n",
        "gu = Guard()\n",
        "jo = Jordan()\n",
        "# gu.three_point()\n",
        "# gu.apass()\n",
        "# jo.three_point()\n",
        "# jo.apass()\n",
        "inhecourt(gu)\n",
        "inhecourt(jo)"
      ],
      "metadata": {
        "colab": {
          "base_uri": "https://localhost:8080/"
        },
        "id": "aRIr1AyVUzny",
        "outputId": "40436fbd-de39-49d9-f43e-a856c22ce05b"
      },
      "execution_count": 72,
      "outputs": [
        {
          "output_type": "stream",
          "name": "stdout",
          "text": [
            "가드는 3점슛 장착\n",
            "가드의 핵심은 에이패스\n",
            "조던은 3점슛 장착\n",
            "조던은 에이패스 가능\n"
          ]
        }
      ]
    }
  ]
}