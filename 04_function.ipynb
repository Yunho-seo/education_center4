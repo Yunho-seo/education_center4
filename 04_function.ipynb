{
  "nbformat": 4,
  "nbformat_minor": 0,
  "metadata": {
    "colab": {
      "provenance": []
    },
    "kernelspec": {
      "name": "python3",
      "display_name": "Python 3"
    },
    "language_info": {
      "name": "python"
    }
  },
  "cells": [
    {
      "cell_type": "markdown",
      "source": [
        "# 함수\n",
        "- 입력 -> 처리 -> 출력\n",
        "- 매개변수 -> block -> 리턴\n",
        "- def 함수명(매개변수):\n",
        "    처리\n",
        "    return\n"
      ],
      "metadata": {
        "id": "PgwyfKQpKVxF"
      }
    },
    {
      "cell_type": "code",
      "source": [
        "sum = 0  # 전역변수\n",
        "def add(a, b):  # 파이썬의 함수는 전역변수 참조가 가능하다.\n",
        "  sum = a + b   # 함수의 지역변수\n",
        "  print(sum)\n",
        "add(54, 65)\n",
        "print(\"합계: \", sum)"
      ],
      "metadata": {
        "colab": {
          "base_uri": "https://localhost:8080/"
        },
        "id": "NeOfL9lWKWmN",
        "outputId": "24cb1a14-94f8-4615-95ec-133cbc547a99"
      },
      "execution_count": 2,
      "outputs": [
        {
          "output_type": "stream",
          "name": "stdout",
          "text": [
            "119\n",
            "합계:  0\n"
          ]
        }
      ]
    },
    {
      "cell_type": "code",
      "source": [
        "# 함수화, 클래스화\n",
        "# 가위바위보 게임, 성적 프로그래밍"
      ],
      "metadata": {
        "id": "gGJeb-wAKWom"
      },
      "execution_count": 3,
      "outputs": []
    },
    {
      "cell_type": "code",
      "source": [
        "# 가위바위보 게임\n",
        "# 선택요소 : 리스트\n",
        "import random\n",
        "\n",
        "sel = ['가위', '바위', '보']\n",
        "judge = ['이겼다', '졌다', '비겼다']\n",
        "com = random.randint(0, 2) % 3\n",
        "person = input(\"가위(0), 바위(1), 보(2) 입력하세요 \")\n",
        "person = int(person) % 3\n",
        "# if문으로 게임을 작성\n",
        "result = 0\n",
        "if person == 0:  # 가위\n",
        "  if com == 0:\n",
        "    result = 2\n",
        "  elif com == 1:\n",
        "    result = 1\n",
        "  else:\n",
        "    result = 0\n",
        "\n",
        "elif person == 1:  # 바위\n",
        "  if com == 0:\n",
        "    result = 0\n",
        "  elif com == 1:\n",
        "    result = 2\n",
        "  else:\n",
        "    result = 1\n",
        "\n",
        "elif person == 2:  # 보\n",
        "  if com == 0:\n",
        "    result = 1\n",
        "  elif com == 1:\n",
        "    result = 0\n",
        "  else:\n",
        "    result = 2\n",
        "\n",
        "print(\"당신은\" + sel[person] + \"을 냈고 \" + \" 컴퓨터는\" + sel[com] + \"을 냈다. \" +judge[result])"
      ],
      "metadata": {
        "colab": {
          "base_uri": "https://localhost:8080/"
        },
        "id": "5ZfbRjF7Ls9O",
        "outputId": "8373d867-be7e-4025-9c94-0a019a9d0847"
      },
      "execution_count": 10,
      "outputs": [
        {
          "output_type": "stream",
          "name": "stdout",
          "text": [
            "가위(0), 바위(1), 보(2) 입력하세요 1\n",
            "당신은바위을 냈고  컴퓨터는가위을 냈다. 이겼다\n"
          ]
        }
      ]
    },
    {
      "cell_type": "code",
      "source": [
        "# 위의 가위바위보 게임을 단 세 번의 판단으로 줄이기\n",
        "import random\n",
        "\n",
        "sel = ['가위', '바위', '보']\n",
        "judge = ['이겼다', '졌다', '비겼다']\n",
        "com = random.randint(0, 2) % 3\n",
        "person = input(\"가위(0), 바위(1), 보(2) 입력하세요 \")\n",
        "person = int(person) % 3\n",
        "result = 0\n",
        "if person == com:\n",
        "  result = 2\n",
        "elif (person+1) % 3 == com:\n",
        "  result = 1\n",
        "else:\n",
        "  result = 0\n",
        "print(\"컴퓨터가 \" + sel[com] + \"을 낼때 당신은 \" + sel[person] + \"을 내었고 \" + judge[result])"
      ],
      "metadata": {
        "colab": {
          "base_uri": "https://localhost:8080/"
        },
        "id": "fh9nt0mHLtY-",
        "outputId": "ca3327cc-b0f3-47ce-85cd-eaa8cadb7406"
      },
      "execution_count": 11,
      "outputs": [
        {
          "output_type": "stream",
          "name": "stdout",
          "text": [
            "가위(0), 바위(1), 보(2) 입력하세요 2\n",
            "컴퓨터가 가위을 낼때 당신은 보을 내었고 졌다\n"
          ]
        }
      ]
    },
    {
      "cell_type": "code",
      "source": [
        "# 문제\n",
        "# if문 없이 작성.\n",
        "judge = [['비김', '짐', '이김'], ['이김', '비김', '짐'], ['짐', '이김', '비김']]  # 이러한 방법은 메모리가 낭비됨\n",
        "com = random.randint(0, 2) % 3\n",
        "person = input(\"가위(0), 바위(1), 보(2) 입력하세요 \")\n",
        "person = int(person) % 3\n",
        "print(judge[person][com])"
      ],
      "metadata": {
        "colab": {
          "base_uri": "https://localhost:8080/"
        },
        "id": "-3ksG82cLtbM",
        "outputId": "1c8c2fea-e4f6-4b54-cd96-62ff779582a8"
      },
      "execution_count": 12,
      "outputs": [
        {
          "output_type": "stream",
          "name": "stdout",
          "text": [
            "가위(0), 바위(1), 보(2) 입력하세요 1\n",
            "짐\n"
          ]
        }
      ]
    },
    {
      "cell_type": "code",
      "source": [
        "# 문제\n",
        "# 무한 반복하게 만들고, 알파벡이 들어오면 게임을 종료시키고\n",
        "# 게임이 끝나면 전적(승 무 패)을 출력\n",
        "import random\n",
        "import sys\n",
        "judge = [['비김', '짐', '이김'], ['이김', '비김', '짐'], ['짐', '이김', '비김']]  # 이러한 방법은 메모리가 낭비됨\n",
        "tot = 0\n",
        "win = 0\n",
        "lose = 0\n",
        "draw = 0\n",
        "\n",
        "while (1):\n",
        "  com = random.randint(0, 2) % 3\n",
        "  person = input(\"가위(0), 바위(1), 보(2) 입력하세요 \")\n",
        "  if person.isalpha():  # 알파벳 입력하면 정지\n",
        "    print(\"게임 종료\")\n",
        "    print(tot, \"전 \", win, \"승\", draw, \"무\", lose, \"패\")\n",
        "    if (win > 0 and tot > 0):\n",
        "      print(\"승률: \", (win / tot) * 100, \"%\")\n",
        "    break\n",
        "  person = int(person) % 3\n",
        "  tot += 1\n",
        "  if person == com:\n",
        "    draw += 1\n",
        "  elif (person+1) % 3 == com:\n",
        "    lose += 1\n",
        "  else:\n",
        "    win += 1\n",
        "\n",
        "  print(judge[person][com])"
      ],
      "metadata": {
        "colab": {
          "base_uri": "https://localhost:8080/"
        },
        "id": "eewE2kJSLtdE",
        "outputId": "400e51e3-bbf6-44ed-9ae2-6f2dd9874f78"
      },
      "execution_count": 18,
      "outputs": [
        {
          "output_type": "stream",
          "name": "stdout",
          "text": [
            "가위(0), 바위(1), 보(2) 입력하세요 1\n",
            "비김\n",
            "가위(0), 바위(1), 보(2) 입력하세요 2\n",
            "이김\n",
            "가위(0), 바위(1), 보(2) 입력하세요 a\n",
            "게임 종료\n",
            "2 전  1 승 1 무 0 패\n",
            "승률:  50.0 %\n"
          ]
        }
      ]
    },
    {
      "cell_type": "code",
      "source": [
        "# 성적 프로그래밍\n",
        "# 3명의 이름, 국어, 영어, 수학 점수를 2차원 리스트에 저장\n",
        "\n",
        "final = []\n",
        "for i in range(3):\n",
        "  sungjuk = []\n",
        "  name = input(\"이름 \")\n",
        "  kor = int(input(\"국어점수 \"))\n",
        "  eng = int(input(\"영어점수 \"))\n",
        "  mat = int(input(\"수학점수 \"))\n",
        "  sungjuk.append(name)  # 형태를 유지, extend는 리스트가 풀어져서 입력이 된다.\n",
        "  sungjuk.append(kor)\n",
        "  sungjuk.append(eng)\n",
        "  sungjuk.append(mat)\n",
        "  final.append(sungjuk)\n",
        "print(final)"
      ],
      "metadata": {
        "colab": {
          "base_uri": "https://localhost:8080/"
        },
        "id": "Zl8sX2UeLtfV",
        "outputId": "e84d2264-90ed-4829-af01-59b7383cb3e6"
      },
      "execution_count": 21,
      "outputs": [
        {
          "output_type": "stream",
          "name": "stdout",
          "text": [
            "이름 서윤호\n",
            "국어점수 100\n",
            "영어점수 100\n",
            "수학점수 100\n",
            "이름 이순신\n",
            "국어점수 100\n",
            "영어점수 90\n",
            "수학점수 100\n",
            "이름 홍길동\n",
            "국어점수 100\n",
            "영어점수 100\n",
            "수학점수 90\n",
            "[['서윤호', 100, 100, 100], ['이순신', 100, 90, 100], ['홍길동', 100, 100, 90]]\n"
          ]
        }
      ]
    },
    {
      "cell_type": "code",
      "source": [
        "# 합계, 평균, 학점을 계산하여 추가하고 입력된 데이터에 대하여 등수를 추가하기 \n",
        "\n",
        "final = []\n",
        "for i in range(3):\n",
        "  sungjuk = []\n",
        "  name = input(\"이름 \")\n",
        "  kor = int(input(\"국어점수 \"))\n",
        "  eng = int(input(\"영어점수 \"))\n",
        "  mat = int(input(\"수학점수 \"))\n",
        "  sungjuk.append(name)  # 형태를 유지, extend는 리스트가 풀어져서 입력이 된다.\n",
        "  sungjuk.append(kor)\n",
        "  sungjuk.append(eng)\n",
        "  sungjuk.append(mat)\n",
        "  tot = kor + eng + mat\n",
        "  avg = round(tot/3, 2)\n",
        "  if avg >= 90:\n",
        "    grade = \"A\"\n",
        "  elif avg >= 80:\n",
        "    grade = \"B\"\n",
        "  elif avg >= 70:\n",
        "    grade = \"C\"\n",
        "  elif avg >= 60:\n",
        "    grade = \"D\"\n",
        "  else:\n",
        "    grade = \"F\"\n",
        "  sungjuk.append(tot)\n",
        "  sungjuk.append(avg)\n",
        "  sungjuk.append(grade)\n",
        "  final.append(sungjuk)\n",
        "print(final)\n",
        "final.sort(key = lambda row:row[4], reverse=True)  # 합계를 기준으로 정렬\n",
        "rank = 0\n",
        "for i in range(len(final)):\n",
        "  rank = rank + 1\n",
        "  final[i].append(rank)"
      ],
      "metadata": {
        "colab": {
          "base_uri": "https://localhost:8080/"
        },
        "id": "UxARH5xCLthV",
        "outputId": "9a23f219-1dbd-49ec-c525-15ca4fc2b808"
      },
      "execution_count": 24,
      "outputs": [
        {
          "output_type": "stream",
          "name": "stdout",
          "text": [
            "이름 서윤호\n",
            "국어점수 90\n",
            "영어점수 90\n",
            "수학점수 90\n",
            "이름 홍길동\n",
            "국어점수 100\n",
            "영어점수 100\n",
            "수학점수 100\n",
            "이름 이순신\n",
            "국어점수 95\n",
            "영어점수 95\n",
            "수학점수 95\n",
            "[['서윤호', 90, 90, 90, 270, 90.0, 'A'], ['홍길동', 100, 100, 100, 300, 100.0, 'A'], ['이순신', 95, 95, 95, 285, 95.0, 'A']]\n"
          ]
        }
      ]
    },
    {
      "cell_type": "code",
      "source": [
        "# 문제\n",
        "# 2중 for문으로 데이터를 순서대로 출력\n",
        "tot_list=['이름','국어','수학','영어','총점','평균','등급','석차']\n",
        "for j in range(len(tot_list)):\n",
        "  print(tot_list[j],end=\" \")\n",
        "for i in range(len(final)): # 행수\n",
        "  print('\\n')\n",
        "  for j in range(len(final[0])): # 열수\n",
        "    print(final[i][j], end=\"\\t\")"
      ],
      "metadata": {
        "colab": {
          "base_uri": "https://localhost:8080/"
        },
        "id": "h3dDLcKtb2fb",
        "outputId": "57710149-110d-4d5a-bd3b-c6b08457cbb0"
      },
      "execution_count": 26,
      "outputs": [
        {
          "output_type": "stream",
          "name": "stdout",
          "text": [
            "이름 국어 수학 영어 총점 평균 등급 석차 \n",
            "\n",
            "홍길동\t100\t100\t100\t300\t100.0\tA\t1\t\n",
            "\n",
            "이순신\t95\t95\t95\t285\t95.0\tA\t2\t\n",
            "\n",
            "서윤호\t90\t90\t90\t270\t90.0\tA\t3\t"
          ]
        }
      ]
    },
    {
      "cell_type": "markdown",
      "source": [
        "# 함수"
      ],
      "metadata": {
        "id": "x2KUCUZmbYkt"
      }
    },
    {
      "cell_type": "code",
      "source": [
        "a = 10\n",
        "b = 20\n",
        "result = a+b\n",
        "print(result)\n",
        "\n",
        "a = 30\n",
        "b = 40\n",
        "result = a+b\n",
        "print(result)\n",
        "\n",
        "def addvalue(a, b):\n",
        "  return a+b\n",
        "\n",
        "result = addvalue(10, 20)  # 복귀 주소\n",
        "print(result)\n",
        "result = addvalue(30, 40)  # 리턴값을 가지고 호출한 곳으로 복귀\n",
        "print(result)\n",
        "\n",
        "# 어떤 데이터이든지 전달이 가능하다 (데이터 타입을 지정하지 않음)\n",
        "print(addvalue([10,20,30], [30,40,50]))\n",
        "print(addvalue(\"abc\", \"def\"))"
      ],
      "metadata": {
        "colab": {
          "base_uri": "https://localhost:8080/"
        },
        "id": "JtJxnwMVLtjF",
        "outputId": "aabb8338-5c61-4720-b2f1-a4d893796a4f"
      },
      "execution_count": 30,
      "outputs": [
        {
          "output_type": "stream",
          "name": "stdout",
          "text": [
            "30\n",
            "70\n",
            "30\n",
            "70\n",
            "[10, 20, 30, 30, 40, 50]\n",
            "abcdef\n"
          ]
        }
      ]
    },
    {
      "cell_type": "code",
      "source": [
        "# 일반화된 작업업\n",
        "def sqr_list(list):  # sqr_list 함수의 목적 : 리스트 처리\n",
        "  emp_list = []\n",
        "  for i in list:  # Collections, iterator, range, generator, enumerate, zip\n",
        "    emp_list.append(i**2)  # 어떠한 수가 들어와도, 제곱된 값을 리턴한다.\n",
        "  print(emp_list)\n",
        "lista = [1, 2, 3, 4]\n",
        "sqr_list(lista)\n",
        "lista = [1, 2, 3, 4, 5, 6, 7, 8, 9, 10]\n",
        "sqr_list(lista)"
      ],
      "metadata": {
        "colab": {
          "base_uri": "https://localhost:8080/"
        },
        "id": "s7hv3u-uLtk8",
        "outputId": "09dc930f-5593-4da7-ec29-cb9c316625b8"
      },
      "execution_count": 32,
      "outputs": [
        {
          "output_type": "stream",
          "name": "stdout",
          "text": [
            "[1, 4, 9, 16]\n",
            "[1, 4, 9, 16, 25, 36, 49, 64, 81, 100]\n"
          ]
        }
      ]
    },
    {
      "cell_type": "code",
      "source": [
        "# 디폴트(Dafault) 매개변수\n",
        "# 오버로딩은 매개변수의 타입이 다르거나 매개변수의 개수가 다르면, 다른 함수로 인식한다.\n",
        "# 매개변수가 다르면 default 매개변수가 해결한다.\n",
        "# 디폴트 매개변수는, 뒤에 있어야 한다.\n",
        "# 함수를 오버로딩하면 안된다.\n",
        "def student(name, age=21, weight=10):\n",
        "  print('이름: ', name)\n",
        "  print('나이: ', age)\n",
        "\n",
        "def student(name, age=21):  # 같은 이름으로 선언은 되나, 앞의 함수는 적용되지 않는다.\n",
        "  print('이름: ', name)\n",
        "  print('나이: ', age)\n",
        "\n",
        "student('김일')\n",
        "student('김이', 25)\n",
        "# student('김이', 25, 80)"
      ],
      "metadata": {
        "colab": {
          "base_uri": "https://localhost:8080/"
        },
        "id": "GY4HGhztLto8",
        "outputId": "0a48ed10-ed6a-49dd-bd9a-8b985f00db30"
      },
      "execution_count": 33,
      "outputs": [
        {
          "output_type": "stream",
          "name": "stdout",
          "text": [
            "이름:  김일\n",
            "나이:  21\n",
            "이름:  김이\n",
            "나이:  25\n"
          ]
        }
      ]
    },
    {
      "cell_type": "code",
      "source": [
        "a = 10\n",
        "b = 20\n",
        "def swap(x, y):  # temp를 사용하지 않고, 멀티리턴을 이용하여 처리\n",
        "  return y, x\n",
        "a, b = swap(b, a)\n",
        "x = swap(a, b)\n",
        "print(x)"
      ],
      "metadata": {
        "colab": {
          "base_uri": "https://localhost:8080/"
        },
        "id": "HHNT6VGTLtqt",
        "outputId": "9c1ad0c5-07af-4a7c-c89f-736b47a90f22"
      },
      "execution_count": 34,
      "outputs": [
        {
          "output_type": "stream",
          "name": "stdout",
          "text": [
            "(20, 10)\n"
          ]
        }
      ]
    },
    {
      "cell_type": "code",
      "source": [
        "def add(a, b):\n",
        "  return a + b\n",
        "\n",
        "def subtract(a, b):\n",
        "  return a - b\n",
        "\n",
        "def multiply(a, b):\n",
        "  return a * b\n",
        "\n",
        "def divide(a, b):\n",
        "  return a / b\n",
        "\n",
        "print('add의 결과: ', add(10, 20))\n",
        "addition = add  # 함수를 변수에 대입\n",
        "print('addition의 결과: ', addition(10, 20))\n",
        "def changefun(g, a, b):\n",
        "  return g(a, b)\n",
        "print('결과: ', changefun(add, 10, 20))  # 함수를 다른 함수의 매개변수로 전달할 수 있음 \n",
        "print('결과: ', changefun(multiply, 10, 20))"
      ],
      "metadata": {
        "colab": {
          "base_uri": "https://localhost:8080/"
        },
        "id": "GrjxeArALtst",
        "outputId": "58de01b8-1428-420d-f4f4-93ac9f3bdcb5"
      },
      "execution_count": 35,
      "outputs": [
        {
          "output_type": "stream",
          "name": "stdout",
          "text": [
            "add의 결과:  30\n",
            "addition의 결과:  30\n",
            "결과:  30\n",
            "결과:  200\n"
          ]
        }
      ]
    },
    {
      "cell_type": "code",
      "source": [
        "def func_test4():  # 협업을 위해 만듦\n",
        "  pass\n",
        "\n",
        "result = func_test4()\n",
        "result is None  # 객체를 비교 (func_test4() 함수는 비어있는가?)"
      ],
      "metadata": {
        "colab": {
          "base_uri": "https://localhost:8080/"
        },
        "id": "j2vvnWX8LtvE",
        "outputId": "f25c2a4f-1584-48e3-d7ec-784fd4fadb25"
      },
      "execution_count": 38,
      "outputs": [
        {
          "output_type": "execute_result",
          "data": {
            "text/plain": [
              "True"
            ]
          },
          "metadata": {},
          "execution_count": 38
        }
      ]
    },
    {
      "cell_type": "code",
      "source": [
        "# 파이썬 : object(객체) 부모가 있다. ( ) : __class__ 속성.\n",
        "result.__class__  # class type"
      ],
      "metadata": {
        "colab": {
          "base_uri": "https://localhost:8080/"
        },
        "id": "fO1vK6QqLtw3",
        "outputId": "71f91423-6952-402e-ef27-3c4b869fd9e6"
      },
      "execution_count": 39,
      "outputs": [
        {
          "output_type": "execute_result",
          "data": {
            "text/plain": [
              "NoneType"
            ]
          },
          "metadata": {},
          "execution_count": 39
        }
      ]
    },
    {
      "cell_type": "code",
      "source": [
        "# call-by-reference : 데이터 원본이 변경되고 있음\n",
        "a=10\n",
        "b=a\n",
        "print(b)\n",
        "a=20\n",
        "print(b)\n",
        "# 파이썬의 변수는 전부 포인터(pointer)이다 (변수가 주소를 저장하고 있음 - 데이터를 저장하지 않음)\n",
        "# mylist2 스택에서의 위치 : 들어있는 데이터는 mylist의 주소값이다.\n",
        "def changeme( mylist2 ):      # list 되고, tuple은 안된다.\n",
        "  mylist2.append([1,2,3,4]);  # 변화를 시킴 (추가)\n",
        "  print(\"함수 내부에서 출력: \", mylist2)\n",
        "  return\n",
        "mylist = [10, 20, 30];  # 힙(Heap) -> 주소가 저장 / 함수에서의 mylist2 : 스택 / mylist : 전역 스택\n",
        "changeme( mylist );\n",
        "changeme(mylist)\n",
        "changeme(mylist)\n",
        "changeme(mylist)\n",
        "print(\"함수 외부에서 출력: \", mylist)"
      ],
      "metadata": {
        "colab": {
          "base_uri": "https://localhost:8080/"
        },
        "id": "TWYpVc7PLty8",
        "outputId": "c76fb5bd-09b8-4905-eb7c-eb226c48b8d8"
      },
      "execution_count": 43,
      "outputs": [
        {
          "output_type": "stream",
          "name": "stdout",
          "text": [
            "10\n",
            "10\n",
            "함수 내부에서 출력:  [10, 20, 30, [1, 2, 3, 4]]\n",
            "함수 내부에서 출력:  [10, 20, 30, [1, 2, 3, 4], [1, 2, 3, 4]]\n",
            "함수 내부에서 출력:  [10, 20, 30, [1, 2, 3, 4], [1, 2, 3, 4], [1, 2, 3, 4]]\n",
            "함수 내부에서 출력:  [10, 20, 30, [1, 2, 3, 4], [1, 2, 3, 4], [1, 2, 3, 4], [1, 2, 3, 4]]\n",
            "함수 외부에서 출력:  [10, 20, 30, [1, 2, 3, 4], [1, 2, 3, 4], [1, 2, 3, 4], [1, 2, 3, 4]]\n"
          ]
        }
      ]
    },
    {
      "cell_type": "code",
      "source": [
        "# call-by-value와 같이 작동하려면\n",
        "def changeme(mylist):\n",
        "  mylist = [1, 2, 3, 4]  # 대입을 통해 전달(힙) : 주소가 변경되었음\n",
        "  mylist.append([1,2])\n",
        "  print(\"함수 내부에서 출력: \", mylist)\n",
        "  return\n",
        "mylist = [10, 20, 30];\n",
        "changeme(mylist);\n",
        "print(\"함수 외부에서 출력: \", mylist)"
      ],
      "metadata": {
        "colab": {
          "base_uri": "https://localhost:8080/"
        },
        "id": "WIPnOqe_Lt00",
        "outputId": "9942816a-8184-4505-e504-e59f030babf9"
      },
      "execution_count": 45,
      "outputs": [
        {
          "output_type": "stream",
          "name": "stdout",
          "text": [
            "함수 내부에서 출력:  [1, 2, 3, 4, [1, 2]]\n",
            "함수 외부에서 출력:  [10, 20, 30]\n"
          ]
        }
      ]
    },
    {
      "cell_type": "markdown",
      "source": [
        "# 변동 매개변수"
      ],
      "metadata": {
        "id": "Bpl7ZAVimqcr"
      }
    },
    {
      "cell_type": "code",
      "source": [
        "def func1(*args):  # list / 매개변수가 여러개가 들어와도 *args 선언 시 리스트로 받는다.\n",
        "  for i in args:\n",
        "    print(i, end = '.')\n",
        "  print()\n",
        "print('시작')\n",
        "func1(1, 2, 3)\n",
        "func1(1, 2, 3, 4, 5)\n",
        "func1(1, 2, 3, 4, 5, 6, 7)"
      ],
      "metadata": {
        "colab": {
          "base_uri": "https://localhost:8080/"
        },
        "id": "XMUUtw8JLt29",
        "outputId": "6781b93f-aa83-48eb-974e-17651fb89c08"
      },
      "execution_count": 47,
      "outputs": [
        {
          "output_type": "stream",
          "name": "stdout",
          "text": [
            "시작\n",
            "1.2.3.\n",
            "1.2.3.4.5.\n",
            "1.2.3.4.5.6.7.\n"
          ]
        }
      ]
    },
    {
      "cell_type": "code",
      "source": [
        "def var_parameter(*args, **kwargs):  # list, dict\n",
        "  print('list 매개변수들 ', args)\n",
        "  print('key 매개변수는 ', kwargs)  # 딕셔너리 형태 {}\n",
        "  return\n",
        "var_parameter(1, 2, 3, z=5.)"
      ],
      "metadata": {
        "colab": {
          "base_uri": "https://localhost:8080/"
        },
        "id": "ssKFY_x9Lt48",
        "outputId": "75f3233b-0e9e-42fb-a6d0-72d2a22bf8de"
      },
      "execution_count": 50,
      "outputs": [
        {
          "output_type": "stream",
          "name": "stdout",
          "text": [
            "list 매개변수들  (1, 2, 3)\n",
            "key 매개변수는  {'z': 5.0}\n"
          ]
        }
      ]
    },
    {
      "cell_type": "code",
      "source": [
        "def say_hello_then_call(f, *args, **kwargs):  # 매개변수 받을 때에는 묶기\n",
        "  print('list 매개변수들', args)\n",
        "  print('key 매개변수는', kwargs)\n",
        "  print('함수를 호출 %s' % f)\n",
        "  return f(*args, **kwargs)  # 사용시에는 해제\n",
        "\n",
        "def g(x, y, z=1):  # x=1, y=2가 들어감 / z는 디폴트 매개변수, 5로 대체\n",
        "  print(x)\n",
        "  print(y)\n",
        "  print(z)\n",
        "  return (x+y) / z\n",
        "\n",
        "say_hello_then_call(g, 1, 2, z=5.)"
      ],
      "metadata": {
        "colab": {
          "base_uri": "https://localhost:8080/"
        },
        "id": "h3q_eyykLt6k",
        "outputId": "92e60ff6-f859-45af-9988-c53b2c457684"
      },
      "execution_count": 52,
      "outputs": [
        {
          "output_type": "stream",
          "name": "stdout",
          "text": [
            "list 매개변수들 (1, 2)\n",
            "key 매개변수는 {'z': 5.0}\n",
            "함수를 호출 <function g at 0x7f2b2ce71af0>\n",
            "1\n",
            "2\n",
            "5.0\n"
          ]
        },
        {
          "output_type": "execute_result",
          "data": {
            "text/plain": [
              "0.6"
            ]
          },
          "metadata": {},
          "execution_count": 52
        }
      ]
    },
    {
      "cell_type": "markdown",
      "source": [
        "# 멀티 리턴"
      ],
      "metadata": {
        "id": "tBTVV3Phoyo7"
      }
    },
    {
      "cell_type": "code",
      "source": [
        "def func_test3(a, b):\n",
        "  return a+b, a-b, a*b  # 튜플() 형태로 리턴한다.\n",
        "\n",
        "a = func_test3(10, 5)\n",
        "print(a)\n",
        "a, b, c = func_test3(10, 5)\n",
        "print(a, b, c)"
      ],
      "metadata": {
        "colab": {
          "base_uri": "https://localhost:8080/"
        },
        "id": "qpFhADZpLt8d",
        "outputId": "e1fc611a-2383-48f6-e427-dface63d0d39"
      },
      "execution_count": 53,
      "outputs": [
        {
          "output_type": "stream",
          "name": "stdout",
          "text": [
            "(15, 5, 50)\n",
            "15 5 50\n"
          ]
        }
      ]
    },
    {
      "cell_type": "code",
      "source": [
        "# 재귀 함수\n",
        "def power(r, n):\n",
        "  value = 1  # 초기화 / 지역변수\n",
        "  for i in range(1, n+1):\n",
        "    value = r * value  # 2 * 1, 2 * 2, 2 * 4 = 8이 리턴되어 출력.\n",
        "  return value\n",
        "print(power(2, 3))\n",
        "\n",
        "def power(r, n):\n",
        "  if n == 1:  # 반드시 종료조건을 넣어야 함 => 넣지 않으면, 무한루프 => stack overflow => 프로그램이 중단됨.\n",
        "    return r\n",
        "  else:\n",
        "    return r * power(r, n-1)  # 함수가 자기 자신을 호출 / 2 * 2 * power(2, 1) == 2 => 2 * 2 * 2 = 8.\n",
        "print(power(2, 3))"
      ],
      "metadata": {
        "colab": {
          "base_uri": "https://localhost:8080/"
        },
        "id": "txn3FQL2Lt-m",
        "outputId": "8871120c-ac9e-4236-f06a-3da5e90acdfb"
      },
      "execution_count": 55,
      "outputs": [
        {
          "output_type": "stream",
          "name": "stdout",
          "text": [
            "8\n",
            "8\n"
          ]
        }
      ]
    },
    {
      "cell_type": "code",
      "source": [
        "def power(r, n):\n",
        "  if n == 1: \n",
        "    return r\n",
        "  else:\n",
        "    return r * power(r, n-1)  \n",
        "print(power(2, 4))"
      ],
      "metadata": {
        "colab": {
          "base_uri": "https://localhost:8080/"
        },
        "id": "28ZWti0SLuAN",
        "outputId": "eda019bd-3261-48e6-a92c-e3821033a768"
      },
      "execution_count": 56,
      "outputs": [
        {
          "output_type": "stream",
          "name": "stdout",
          "text": [
            "16\n"
          ]
        }
      ]
    },
    {
      "cell_type": "code",
      "source": [
        "# 수학에서의 factorial(5)? => 5*4*3*2*1\n",
        "# 문제\n",
        "# 팩토리얼을 함수의 재귀 호출 방법을 이용하여 출력\n",
        "\n",
        "def factorial(n):\n",
        "  if n <= 1:  # 종료조건\n",
        "    return 1\n",
        "  else:\n",
        "    return n * factorial(n-1)\n",
        "print(factorial(5))"
      ],
      "metadata": {
        "colab": {
          "base_uri": "https://localhost:8080/"
        },
        "id": "ED_j42GALuB0",
        "outputId": "c4cb8200-5b64-4e35-917b-952248751497"
      },
      "execution_count": 64,
      "outputs": [
        {
          "output_type": "stream",
          "name": "stdout",
          "text": [
            "120\n"
          ]
        }
      ]
    },
    {
      "cell_type": "code",
      "source": [
        "# 내부 함수 \n",
        "def outer():\n",
        "  def inner():\n",
        "    print('inner')\n",
        "  inner()\n",
        "outer()"
      ],
      "metadata": {
        "colab": {
          "base_uri": "https://localhost:8080/"
        },
        "id": "oz3sdjafLuD9",
        "outputId": "7152232a-d3d8-44d2-a59a-f137e1c49209"
      },
      "execution_count": 65,
      "outputs": [
        {
          "output_type": "stream",
          "name": "stdout",
          "text": [
            "inner\n"
          ]
        }
      ]
    },
    {
      "cell_type": "code",
      "source": [
        "# generator : 메모리 낭비가 심한 경우에 사용하거나 데이터가 너무 많아 직접 입력하기 어려운 경우 사용\n",
        "import random\n",
        "def gaus_dist(n):  # gaus_dist : 정규분포\n",
        "  while n > 0:\n",
        "    yield random.random()  # n이 0보다 크면 0~1 사이 난수를 리턴 (yield : 중지, 대기상태)\n",
        "    n -= 1  # 4\n",
        "gd = gaus_dist(5)\n",
        "for i in gd:\n",
        "  print(i)"
      ],
      "metadata": {
        "colab": {
          "base_uri": "https://localhost:8080/"
        },
        "id": "0QC_IhTeKWq-",
        "outputId": "afb1c343-0094-42cf-cb94-18beb0f68eec"
      },
      "execution_count": 68,
      "outputs": [
        {
          "output_type": "stream",
          "name": "stdout",
          "text": [
            "0.10336676656185773\n",
            "0.5801178482217468\n",
            "0.20887361190504095\n",
            "0.7708638042642432\n",
            "0.11474262853029116\n"
          ]
        }
      ]
    },
    {
      "cell_type": "code",
      "source": [
        "# closure : 외부 함수가 종료된 후에도 내부 함수가 외부 함수의 변수를 참조할 수 있도록 어딘가에 저장하는 함수\n",
        "def make_closer(a):\n",
        "  b = 10\n",
        "  def closure():\n",
        "    print('나는 호출한 함수의 매개변수와 지역변수를 알고 있다: %d %d' % (a, b))\n",
        "  return closure  # 내부 함수를 리턴\n",
        "\n",
        "closure = make_closer(5)  # 내부 함수를 참조하고 있어서, 외부함수를 메모리에서 삭제할 수 없다.\n",
        "closure()\n",
        "closure()\n",
        "closure()"
      ],
      "metadata": {
        "colab": {
          "base_uri": "https://localhost:8080/"
        },
        "id": "AvU1ZIdFKWtl",
        "outputId": "141e47fa-7754-4d21-a5bb-cbea355887fc"
      },
      "execution_count": 69,
      "outputs": [
        {
          "output_type": "stream",
          "name": "stdout",
          "text": [
            "나는 호출한 함수의 매개변수와 지역변수를 알고 있다: 5 10\n",
            "나는 호출한 함수의 매개변수와 지역변수를 알고 있다: 5 10\n",
            "나는 호출한 함수의 매개변수와 지역변수를 알고 있다: 5 10\n"
          ]
        }
      ]
    },
    {
      "cell_type": "code",
      "source": [
        "# closure의 활용 <장식자>\n",
        "def format_and_pad(template, space):  # 출력 형태, 출력 자릿수\n",
        "  def formatter(x):\n",
        "    return (template % x).rjust(space)\n",
        "  return formatter\n",
        "\n",
        "fmt = format_and_pad('%.4f', 15)  # float, 소수점 4째 자리까지 출력 / 15칸 우측정렬하여 출력\n",
        "print(fmt(1.756))\n",
        "print(fmt(2.222))\n",
        "fmt2 = format_and_pad('%d', 15)   # 정수형으로 출력 / 15칸 우측정렬하여 출력\n",
        "print(fmt2(1.756))"
      ],
      "metadata": {
        "colab": {
          "base_uri": "https://localhost:8080/"
        },
        "id": "aatesFiVw9ya",
        "outputId": "09bf93ce-b7eb-4700-aa6e-041d0bf270a2"
      },
      "execution_count": 71,
      "outputs": [
        {
          "output_type": "stream",
          "name": "stdout",
          "text": [
            "         1.7560\n",
            "         2.2220\n",
            "              1\n"
          ]
        }
      ]
    },
    {
      "cell_type": "code",
      "source": [
        "# 문제\n",
        "# 총 근무시간(hours)과 시간당 급여(wage)를 입력받아 주급을 계산하는 프로그램을 작성\n",
        "# 조건 : 40시간이 넘으면 2배로 지급\n",
        "# 함수의 매개변수는 시간당 급여와 주 작업시간\n",
        "\n",
        "# 계산 : 40시간\n",
        "# 40시간 이하면, hours + wage\n",
        "# 40시간 이상이면, 40 * wage + ((hours - 40) * wage * 2)\n",
        "basictime = 40\n",
        "multiple = 2\n",
        "def pay(wage, hours):\n",
        "  if hours <= basictime:\n",
        "    amount = wage * hours\n",
        "  else:\n",
        "    amount = (wage * basictime) + (wage * multiple * (hours - basictime))\n",
        "  return amount\n",
        "\n",
        "hourlywage = eval(input(\"시간당 급여는 \"))\n",
        "hoursworked = eval(input(\"주간 총 근무시간 \"))\n",
        "earnings = pay(hourlywage, hoursworked)\n",
        "print('주간 수입은 : {0:,.2f}원'.format(earnings))"
      ],
      "metadata": {
        "colab": {
          "base_uri": "https://localhost:8080/"
        },
        "id": "5QuZkysEw90Y",
        "outputId": "2b040c7a-1001-416b-eb30-32a46443537d"
      },
      "execution_count": 80,
      "outputs": [
        {
          "output_type": "stream",
          "name": "stdout",
          "text": [
            "시간당 급여는 9000\n",
            "주간 총 근무시간 40\n",
            "주간 수입은 : 360,000.00원\n"
          ]
        }
      ]
    },
    {
      "cell_type": "code",
      "source": [
        "# 문제\n",
        "# 이자율이 주어졌을 때 거치 후의 총액과 이자수익 출력 (복리 계산)\n",
        "# (월복리, 연복리)\n",
        "# 원금 * ((1 + 이자율) ** 거치기간)  # 자연대수 2.718\n",
        "# 이자율 : 상수 변수\n",
        "# 함수 (원금, 거치기간)\n",
        "# 이자율은 2.25 / 100\n",
        "\n",
        "INTEREST_RATE = 2.25 / 100\n",
        "# principal : 원금\n",
        "# balance : 잔액\n",
        "def balanceAndInterest(principal, numYears):\n",
        "  balance = principal * (( 1+INTEREST_RATE) ** numYears )\n",
        "  interestEarned = balance - principal\n",
        "  return balance, interestEarned\n",
        "def main():\n",
        "  origin = eval(input(\"예금액: \"))\n",
        "  numberOfYears = eval(input(\"기간: \"))\n",
        "  (bal, intEarned) = balanceAndInterest(origin, numberOfYears)\n",
        "  print(\"총금액 : {0:,.2f}원 / 이자수익 : {1:,.2f}원\".format(bal, intEarned))\n",
        "  averagevalueofChage = (bal - origin) / numberOfYears\n",
        "  print('평균변화액은 ', averagevalueofChage)\n",
        "  print('평균이자율은 ', round(averagevalueofChage / origin, 3))\n",
        "main()"
      ],
      "metadata": {
        "colab": {
          "base_uri": "https://localhost:8080/"
        },
        "id": "gVfQele5w92g",
        "outputId": "1b48e720-c7be-419f-f2bf-e224127c1ae2"
      },
      "execution_count": 86,
      "outputs": [
        {
          "output_type": "stream",
          "name": "stdout",
          "text": [
            "예금액: 30000\n",
            "기간: 5\n",
            "총금액 : 33,530.33원 / 이자수익 : 3,530.33원\n",
            "평균변화액은  706.0661607708971\n",
            "평균이자율은  0.024\n"
          ]
        }
      ]
    },
    {
      "cell_type": "code",
      "source": [
        "# 문제\n",
        "# 위의 프로그램을 입력, 처리, 출력 함수로 분할하여 처리 (최소단위의 함수 작성)\n",
        "\n",
        "# 입력 함수\n",
        "def getInput():\n",
        "  origin = eval(input(\"예금액: \"))\n",
        "  numberOfYears = eval(input(\"기간: \"))\n",
        "  return (origin, numberOfYears)\n",
        "\n",
        "# 처리 함수\n",
        "def balanceAndInterest(origin, numYears):\n",
        "  INTEREST_RATE = .04\n",
        "  balance = origin * (( 1+INTEREST_RATE) ** numYears )\n",
        "  interestEarned = balance - origin\n",
        "  return (balance, interestEarned)\n",
        "\n",
        "# 출력 함수\n",
        "def displayOutput(bal, intEarned):\n",
        "  print(\"예금 총액: {0:,.2f}원 / 이자수익 : {1:,.2f}원\".format(bal, intEarned))\n",
        "\n",
        "def main():\n",
        "  origin, numberOfYears = getInput()\n",
        "  bal, intEarned = balanceAndInterest(origin, numberOfYears)\n",
        "  displayOutput(bal, intEarned)\n",
        "main()"
      ],
      "metadata": {
        "colab": {
          "base_uri": "https://localhost:8080/"
        },
        "id": "Hi0YfJ4Vw94a",
        "outputId": "e67879db-fe6e-4e2d-bacf-916f0ea12424"
      },
      "execution_count": 87,
      "outputs": [
        {
          "output_type": "stream",
          "name": "stdout",
          "text": [
            "예금액: 50000\n",
            "기간: 5\n",
            "예금 총액: 60,832.65원 / 이자수익 : 10,832.65원\n"
          ]
        }
      ]
    },
    {
      "cell_type": "code",
      "source": [
        "# 문제\n",
        "# main() 함수 아래의 세 줄을, 한 줄로 간략화하기\n",
        "def main():\n",
        "  displayOutput(*balanceAndInterest(*getInput()))  # tuple로 리턴\n",
        "main()"
      ],
      "metadata": {
        "colab": {
          "base_uri": "https://localhost:8080/"
        },
        "id": "tPMlDnmHw96P",
        "outputId": "a6c077a4-be08-4caa-bda9-c10daa5afa3a"
      },
      "execution_count": 91,
      "outputs": [
        {
          "output_type": "stream",
          "name": "stdout",
          "text": [
            "예금액: 50000\n",
            "기간: 5\n",
            "예금 총액: 60,832.65원 / 이자수익 : 10,832.65원\n"
          ]
        }
      ]
    },
    {
      "cell_type": "code",
      "source": [
        "# 문제\n",
        "# 2차원 좌표 두 점 사이의 거리를 구하는 함수를 작성\n",
        "# a = (x1, y1)\n",
        "# b = (x2, y2)\n",
        "import math\n",
        "\n",
        "def distance_between_points(x1, y1, x2, y2):\n",
        "  # 두 점 사이의 거리를 구하는 함수\n",
        "  # 입력은 모두 두 점의 x, y 좌표\n",
        "  dx = x1 - x2\n",
        "  dy = y1 - y2\n",
        "  dist = math.sqrt(dx**2 + dy**2)\n",
        "  dist = math.sqrt(math.pow(dx, 2) + math.pow(dy, 2))\n",
        "  return dist\n",
        "\n",
        "print(distance_between_points(1, 1, 2, 2))\n",
        "a = (1, 1)\n",
        "b = (2, 2)\n",
        "print(distance_between_points(*a, *b))"
      ],
      "metadata": {
        "colab": {
          "base_uri": "https://localhost:8080/"
        },
        "id": "bRPrkDPBw973",
        "outputId": "e567a873-8a85-4c74-a051-4a2ad6ffd9a6"
      },
      "execution_count": 93,
      "outputs": [
        {
          "output_type": "stream",
          "name": "stdout",
          "text": [
            "1.4142135623730951\n",
            "1.4142135623730951\n"
          ]
        }
      ]
    },
    {
      "cell_type": "code",
      "source": [
        "# 가위바위보 게임을 입력 (player, com) , 게임 (두개를 판단), 출력 (결과 출력) 으로 함수화\n",
        "dicision = ['이겼다', '비겼다', '졌다']\n",
        "\n",
        "def input_game():\n",
        "  player = input(\"가위(0), 바위(1), 보(2) 입력 \")\n",
        "  com = random.randint(0, 2)\n",
        "  if player.isdigit():\n",
        "    player = int(player) % 3\n",
        "  else:  # 문자로 값이 들어오면, 숫자로 변환\n",
        "    player = 9\n",
        "    return player, com\n",
        "  return player, com\n",
        "\n",
        "def judge(player, com, play, win, lose, draw):\n",
        "  if player == com:\n",
        "    result = 1\n",
        "    draw += 1\n",
        "  elif player == (com+1) % 3:\n",
        "    win += 1\n",
        "    result = 0\n",
        "  else:\n",
        "    lose += 1\n",
        "    result = 2\n",
        "  play += 1\n",
        "  return result, player, com, play, win, lose, draw\n",
        "\n",
        "def printgame(result):\n",
        "  print(\"당신이\", dicision[result])\n",
        "\n",
        "def lastprint(play, win, lose, draw):\n",
        "  print(\"게임 종료\")\n",
        "  print(\"전적은\", play, \"전\", win, \"승\", lose, \"패\", draw, \"무\")\n",
        "  if(win > 0 and play > 0):\n",
        "    print(\"승률: \", round(win/play, 4)*100)\n",
        "\n",
        "play = 0\n",
        "win = 0\n",
        "lose = 0\n",
        "draw = 0\n",
        "while 1:\n",
        "  player, com=input_game()\n",
        "  if player == 9:\n",
        "    lastprint(play, win, lose, draw)\n",
        "    break\n",
        "  playerwin, player, com, play, win, lose, draw = judge(player, com, play, win, lose, draw)\n",
        "  printgame(playerwin)"
      ],
      "metadata": {
        "colab": {
          "base_uri": "https://localhost:8080/"
        },
        "id": "vMhC-2awSZw1",
        "outputId": "3a7c30b4-d583-4dce-fa18-fb290847d9a3"
      },
      "execution_count": 102,
      "outputs": [
        {
          "output_type": "stream",
          "name": "stdout",
          "text": [
            "가위(0), 바위(1), 보(2) 입력 0\n",
            "당신이 비겼다\n",
            "가위(0), 바위(1), 보(2) 입력 1\n",
            "당신이 이겼다\n",
            "가위(0), 바위(1), 보(2) 입력 2\n",
            "당신이 이겼다\n",
            "가위(0), 바위(1), 보(2) 입력 0\n",
            "당신이 비겼다\n",
            "가위(0), 바위(1), 보(2) 입력 1\n",
            "당신이 이겼다\n",
            "가위(0), 바위(1), 보(2) 입력 2\n",
            "당신이 이겼다\n",
            "가위(0), 바위(1), 보(2) 입력 ㅂ\n",
            "게임 종료\n",
            "전적은 6 전 4 승 0 패 2 무\n",
            "승률:  66.67\n"
          ]
        }
      ]
    }
  ]
}