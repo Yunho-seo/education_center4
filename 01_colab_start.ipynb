{
  "nbformat": 4,
  "nbformat_minor": 0,
  "metadata": {
    "colab": {
      "provenance": [],
      "mount_file_id": "1_7p-eJKCkQaDuEpxmYGl4MZZSOurOzXb",
      "authorship_tag": "ABX9TyMMipYPOgsyLPt5TOzw98aD",
      "include_colab_link": true
    },
    "kernelspec": {
      "name": "python3",
      "display_name": "Python 3"
    },
    "language_info": {
      "name": "python"
    }
  },
  "cells": [
    {
      "cell_type": "markdown",
      "metadata": {
        "id": "view-in-github",
        "colab_type": "text"
      },
      "source": [
        "<a href=\"https://colab.research.google.com/github/Yunho-seo/education_center4/blob/main/01_colab_start.ipynb\" target=\"_parent\"><img src=\"https://colab.research.google.com/assets/colab-badge.svg\" alt=\"Open In Colab\"/></a>"
      ]
    },
    {
      "cell_type": "code",
      "execution_count": null,
      "metadata": {
        "colab": {
          "base_uri": "https://localhost:8080/"
        },
        "id": "im8s9z_FGzbk",
        "outputId": "2c31d3dd-1174-4716-b477-a9a68b8bc1ee"
      },
      "outputs": [
        {
          "output_type": "stream",
          "name": "stdout",
          "text": [
            "DISTRIB_ID=Ubuntu\n",
            "DISTRIB_RELEASE=20.04\n",
            "DISTRIB_CODENAME=focal\n",
            "DISTRIB_DESCRIPTION=\"Ubuntu 20.04.5 LTS\"\n",
            "NAME=\"Ubuntu\"\n",
            "VERSION=\"20.04.5 LTS (Focal Fossa)\"\n",
            "ID=ubuntu\n",
            "ID_LIKE=debian\n",
            "PRETTY_NAME=\"Ubuntu 20.04.5 LTS\"\n",
            "VERSION_ID=\"20.04\"\n",
            "HOME_URL=\"https://www.ubuntu.com/\"\n",
            "SUPPORT_URL=\"https://help.ubuntu.com/\"\n",
            "BUG_REPORT_URL=\"https://bugs.launchpad.net/ubuntu/\"\n",
            "PRIVACY_POLICY_URL=\"https://www.ubuntu.com/legal/terms-and-policies/privacy-policy\"\n",
            "VERSION_CODENAME=focal\n",
            "UBUNTU_CODENAME=focal\n"
          ]
        }
      ],
      "source": [
        "!cat /etc/*release  # 제어판\n",
        "# Ubuntu : 20.04"
      ]
    },
    {
      "cell_type": "code",
      "source": [
        "!uname -a"
      ],
      "metadata": {
        "id": "x-bmG6ShHyEp"
      },
      "execution_count": null,
      "outputs": []
    },
    {
      "cell_type": "code",
      "source": [
        "# 현재 디렉터리의 리스트 확인\n",
        "# linux는 multi user용 : home에 개별적으로 director 하나씩을 생성한다.\n",
        "!ls -a\n",
        "# '.' : 현재 디렉터리 / '..' : 상위 디렉터리 / '.config' : 히든 파일 (숨겨진 파일)"
      ],
      "metadata": {
        "colab": {
          "base_uri": "https://localhost:8080/"
        },
        "id": "_1zbE3HYHzHP",
        "outputId": "9f735f87-2cde-4b82-8f9b-f2db0c850fee"
      },
      "execution_count": null,
      "outputs": [
        {
          "output_type": "stream",
          "name": "stdout",
          "text": [
            ".  ..  .config\tsample_data\n"
          ]
        }
      ]
    },
    {
      "cell_type": "code",
      "source": [
        "!from google.colab import drive\n"
      ],
      "metadata": {
        "colab": {
          "base_uri": "https://localhost:8080/"
        },
        "id": "mKB1Yx6XHzm_",
        "outputId": "b5be4e0f-1fd8-422d-b5c8-974112b45820"
      },
      "execution_count": null,
      "outputs": [
        {
          "output_type": "stream",
          "name": "stdout",
          "text": [
            "from: can't read /var/mail/google.colab\n"
          ]
        }
      ]
    },
    {
      "cell_type": "code",
      "source": [
        "from google.colab import drive\n",
        "drive.mount('/content/drive')  # 마운트 == 연결시킨다 (나의 장치로) (코랩과 구글 드라이브가 연결)"
      ],
      "metadata": {
        "colab": {
          "base_uri": "https://localhost:8080/"
        },
        "id": "jgpsWe6XJVDn",
        "outputId": "18cb8a0e-7448-45cc-feb0-15cef224ff34"
      },
      "execution_count": null,
      "outputs": [
        {
          "output_type": "stream",
          "name": "stdout",
          "text": [
            "Drive already mounted at /content/drive; to attempt to forcibly remount, call drive.mount(\"/content/drive\", force_remount=True).\n"
          ]
        }
      ]
    },
    {
      "cell_type": "code",
      "source": [
        "!pwd  # present working directory (현재 디렉터리)"
      ],
      "metadata": {
        "colab": {
          "base_uri": "https://localhost:8080/"
        },
        "id": "mqMBFGAJMYxv",
        "outputId": "f6d7db83-8b4a-4efc-9d50-4b23419edd22"
      },
      "execution_count": null,
      "outputs": [
        {
          "output_type": "stream",
          "name": "stdout",
          "text": [
            "/content\n"
          ]
        }
      ]
    },
    {
      "cell_type": "code",
      "source": [
        "!df -h"
      ],
      "metadata": {
        "colab": {
          "base_uri": "https://localhost:8080/"
        },
        "id": "VGC_BDS1MgHO",
        "outputId": "fd920c25-db33-4283-f3a4-6ce624aa9033"
      },
      "execution_count": null,
      "outputs": [
        {
          "output_type": "stream",
          "name": "stdout",
          "text": [
            "Filesystem      Size  Used Avail Use% Mounted on\n",
            "overlay         108G   27G   82G  25% /\n",
            "tmpfs            64M     0   64M   0% /dev\n",
            "shm             5.8G     0  5.8G   0% /dev/shm\n",
            "/dev/root       2.0G  1.1G  841M  58% /usr/sbin/docker-init\n",
            "tmpfs           6.4G  204K  6.4G   1% /var/colab\n",
            "/dev/sda1        70G   43G   28G  61% /etc/hosts\n",
            "tmpfs           6.4G     0  6.4G   0% /proc/acpi\n",
            "tmpfs           6.4G     0  6.4G   0% /proc/scsi\n",
            "tmpfs           6.4G     0  6.4G   0% /sys/firmware\n",
            "drive            15G     0   15G   0% /content/drive\n"
          ]
        }
      ]
    },
    {
      "cell_type": "code",
      "source": [
        "!du"
      ],
      "metadata": {
        "colab": {
          "base_uri": "https://localhost:8080/"
        },
        "id": "mm7QWm5uMzEX",
        "outputId": "50b406be-4186-44ea-832e-d018d9baa18e"
      },
      "execution_count": null,
      "outputs": [
        {
          "output_type": "stream",
          "name": "stdout",
          "text": [
            "72\t./.config/logs/2023.03.31\n",
            "76\t./.config/logs\n",
            "8\t./.config/configurations\n",
            "108\t./.config\n",
            "1192\t./drive/MyDrive/Colab Notebooks\n",
            "10\t./drive/MyDrive/daejeon_1\n",
            "1207\t./drive/MyDrive\n",
            "4\t./drive/.shortcut-targets-by-id\n",
            "4\t./drive/.file-revisions-by-id\n",
            "4\t./drive/.Trash-0/files\n",
            "4\t./drive/.Trash-0/info\n",
            "12\t./drive/.Trash-0\n",
            "1231\t./drive\n",
            "55508\t./sample_data\n",
            "56851\t.\n"
          ]
        }
      ]
    },
    {
      "cell_type": "code",
      "source": [
        "!mkdir deeplearning\n",
        "!ls"
      ],
      "metadata": {
        "colab": {
          "base_uri": "https://localhost:8080/"
        },
        "id": "z-uUx_2rMgPF",
        "outputId": "7dc10938-5d71-4db5-968f-bda956d09ba7"
      },
      "execution_count": null,
      "outputs": [
        {
          "output_type": "stream",
          "name": "stdout",
          "text": [
            "deeplearning  drive  sample_data\n"
          ]
        }
      ]
    },
    {
      "cell_type": "code",
      "source": [
        "%cd deeplearning\n",
        "!pwd"
      ],
      "metadata": {
        "colab": {
          "base_uri": "https://localhost:8080/"
        },
        "id": "nhVUHY-gNGMO",
        "outputId": "e52f459e-d8e7-42a5-cc93-c74b43a09e3c"
      },
      "execution_count": null,
      "outputs": [
        {
          "output_type": "stream",
          "name": "stdout",
          "text": [
            "/content\n"
          ]
        }
      ]
    },
    {
      "cell_type": "code",
      "source": [
        "# %cd content\n",
        "!pwd"
      ],
      "metadata": {
        "colab": {
          "base_uri": "https://localhost:8080/"
        },
        "id": "YTl6ykpdMgPl",
        "outputId": "2ed5c561-408c-40ad-e9f9-9e9cbbfdd6dc"
      },
      "execution_count": null,
      "outputs": [
        {
          "output_type": "stream",
          "name": "stdout",
          "text": [
            "/content\n"
          ]
        }
      ]
    },
    {
      "cell_type": "code",
      "source": [
        "# !rmdir deeplearning\n",
        "!ls"
      ],
      "metadata": {
        "colab": {
          "base_uri": "https://localhost:8080/"
        },
        "id": "VX6rmJzVMgQQ",
        "outputId": "7a6326e2-6fea-48b6-dd24-581a08c2c257"
      },
      "execution_count": null,
      "outputs": [
        {
          "output_type": "stream",
          "name": "stdout",
          "text": [
            "rmdir: failed to remove 'deeplearning': No such file or directory\n",
            "drive  sample_data\n"
          ]
        }
      ]
    },
    {
      "cell_type": "code",
      "source": [
        "!ps  # 실행중인 파일 내용을 출력함.\n",
        "# bash shell : 커널에 명령을 인터페이스하는 프로그램이다."
      ],
      "metadata": {
        "colab": {
          "base_uri": "https://localhost:8080/"
        },
        "id": "UCgRjeetMgQv",
        "outputId": "118aa891-8ead-40da-a065-5cf1b0d36174"
      },
      "execution_count": null,
      "outputs": [
        {
          "output_type": "stream",
          "name": "stdout",
          "text": [
            "    PID TTY          TIME CMD\n",
            "      1 ?        00:00:00 docker-init\n",
            "      7 ?        00:00:02 node\n",
            "     20 ?        00:00:00 tail\n",
            "     30 ?        00:00:00 oom_monitor.sh\n",
            "     32 ?        00:00:00 run.sh\n",
            "     34 ?        00:00:00 kernel_manager_\n",
            "     60 ?        00:00:06 python3 <defunct>\n",
            "     61 ?        00:00:00 colab-fileshim.\n",
            "     82 ?        00:00:05 jupyter-noteboo\n",
            "     83 ?        00:00:01 dap_multiplexer\n",
            "    169 ?        00:00:11 python3\n",
            "    211 ?        00:00:02 python3\n",
            "    242 ?        00:00:23 node\n",
            "    401 ?        00:00:00 bash\n",
            "    403 ?        00:00:00 drive\n",
            "    404 ?        00:00:00 grep\n",
            "    501 ?        00:00:00 drive\n",
            "    534 ?        00:00:00 fusermount <defunct>\n",
            "    586 ?        00:00:00 bash\n",
            "    587 ?        00:00:00 directoryprefet\n",
            "    588 ?        00:00:00 tail\n",
            "    589 ?        00:00:00 python3\n",
            "   4987 ?        00:00:00 sleep\n",
            "   4988 ?        00:00:00 ps\n"
          ]
        }
      ]
    },
    {
      "cell_type": "code",
      "source": [],
      "metadata": {
        "id": "w8Ne9NkKMgRP"
      },
      "execution_count": null,
      "outputs": []
    }
  ]
}