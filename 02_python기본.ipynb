{
  "nbformat": 4,
  "nbformat_minor": 0,
  "metadata": {
    "colab": {
      "provenance": [],
      "authorship_tag": "ABX9TyMexu46zbKt3fAv0IfDrg4F",
      "include_colab_link": true
    },
    "kernelspec": {
      "name": "python3",
      "display_name": "Python 3"
    },
    "language_info": {
      "name": "python"
    }
  },
  "cells": [
    {
      "cell_type": "markdown",
      "metadata": {
        "id": "view-in-github",
        "colab_type": "text"
      },
      "source": [
        "<a href=\"https://colab.research.google.com/github/Yunho-seo/education_center4/blob/main/02_python%EA%B8%B0%EB%B3%B8.ipynb\" target=\"_parent\"><img src=\"https://colab.research.google.com/assets/colab-badge.svg\" alt=\"Open In Colab\"/></a>"
      ]
    },
    {
      "cell_type": "markdown",
      "source": [
        "# 파이썬의 변수\n",
        "- 데이터 타입을 지정하지 않음 : 모두가 주소이다.\n",
        "- 파이썬의 변수는 주소값을 가지고 있음.\n",
        "- 데이터를 확인하는 함수가 필요하다 (type)\n",
        "- 파이썬에서 변수의 대입은 주소 (포인터(C), 레퍼런스(Java))\n",
        "- 데이터 타입\n",
        " - list(수정이 가능), tuple(수정이 불가능 : 함수의 매개변수와 리턴값으로 사용)\n",
        " - dict(키:데이터 형식으로 저장), set(키)\n",
        " - [] : 리스트, {} : dict / set, () : tuple\n",
        " - 파이썬에서 블록은 indent(들여쓰기) \n",
        "- 변수(함수) : stack, heap\n",
        " - stack : 함수의 복귀주소, 함수가 실행될 때 필요한 데이터\n",
        " - heap : 동적 메모리 할당으로 데이터를 저장할 때 사용한다."
      ],
      "metadata": {
        "id": "isHE6RAU4rZC"
      }
    },
    {
      "cell_type": "code",
      "source": [
        "a = 10  # 10은 heap에 저장되고, 그 주소를 a가 가리키는 메모리 위치에 저장\n",
        "b = a   # 주소값이 대입된다.\n",
        "print(a)\n",
        "print(b)\n",
        "print(\"주소값 대입\", id(a)), print(id(b))  # id() : 주소값을 확인하는 함수\n",
        "a = 20  # 대입\n",
        "print(a)\n",
        "print(b)\n",
        "print(\"주소값 대입\", id(a)), print(id(b))\n",
        "# c  # NameError: name 'c' is not defined  => 변수는 반드시 초기화되어야 한다."
      ],
      "metadata": {
        "colab": {
          "base_uri": "https://localhost:8080/"
        },
        "id": "TJNf-YhS55pS",
        "outputId": "66eb2133-7426-4049-f3c7-db67c71feb66"
      },
      "execution_count": 7,
      "outputs": [
        {
          "output_type": "stream",
          "name": "stdout",
          "text": [
            "10\n",
            "10\n",
            "주소값 대입 140259722623568\n",
            "140259722623568\n",
            "20\n",
            "10\n",
            "주소값 대입 140259722623888\n",
            "140259722623568\n"
          ]
        },
        {
          "output_type": "execute_result",
          "data": {
            "text/plain": [
              "(None, None)"
            ]
          },
          "metadata": {},
          "execution_count": 7
        }
      ]
    },
    {
      "cell_type": "code",
      "source": [
        "a"
      ],
      "metadata": {
        "colab": {
          "base_uri": "https://localhost:8080/"
        },
        "id": "i1oTkvKL7Gjb",
        "outputId": "7097d7ab-baee-4666-f8a7-93102826acc1"
      },
      "execution_count": 3,
      "outputs": [
        {
          "output_type": "execute_result",
          "data": {
            "text/plain": [
              "20"
            ]
          },
          "metadata": {},
          "execution_count": 3
        }
      ]
    },
    {
      "cell_type": "code",
      "source": [
        "type(a)\n",
        "print(type(a))  # 데이터 타입도 클래스이다. <class 'int'>, None도 클래스이다. => 모두가 class => 객체지향 프로그래밍 언어"
      ],
      "metadata": {
        "colab": {
          "base_uri": "https://localhost:8080/"
        },
        "id": "FpCWcO037HQh",
        "outputId": "4768e270-f22c-4436-b689-a86d6dbe97b7"
      },
      "execution_count": 5,
      "outputs": [
        {
          "output_type": "stream",
          "name": "stdout",
          "text": [
            "<class 'int'>\n"
          ]
        }
      ]
    },
    {
      "cell_type": "code",
      "source": [
        "# 파이썬은 대소문자를 구분한다.\n",
        "a = 10\n",
        "A = 20\n",
        "print(a)\n",
        "print(A)"
      ],
      "metadata": {
        "colab": {
          "base_uri": "https://localhost:8080/"
        },
        "id": "bB0djY_-7g0z",
        "outputId": "60f6075e-3ef8-4435-ed1b-be0c1278ce1e"
      },
      "execution_count": 6,
      "outputs": [
        {
          "output_type": "stream",
          "name": "stdout",
          "text": [
            "10\n",
            "20\n"
          ]
        }
      ]
    },
    {
      "cell_type": "code",
      "source": [
        "# 파이썬에서의 casting (형 변환)\n",
        "problem = input(\"수식을 입력하세요\")  # 데이터 입출력은 문자열 (데이터 타입)\n",
        "print(problem)  # 문자열\n",
        "print(eval(problem))  # eval() : 문자형을 int형으로 변환 (int(), int도 클래스이다)"
      ],
      "metadata": {
        "colab": {
          "base_uri": "https://localhost:8080/"
        },
        "id": "3HVhfWbO7m7z",
        "outputId": "7d7747ac-2a1a-4436-fd1a-13146be515fa"
      },
      "execution_count": 9,
      "outputs": [
        {
          "output_type": "stream",
          "name": "stdout",
          "text": [
            "수식을 입력하세요10*90\n",
            "10*90\n",
            "900\n"
          ]
        }
      ]
    },
    {
      "cell_type": "code",
      "source": [
        "# casting\n",
        "print(int(\"23\"))\n",
        "print(float(\"23\"))\n",
        "print(eval(\"23\"))\n",
        "print(eval(\"23.5\"))"
      ],
      "metadata": {
        "colab": {
          "base_uri": "https://localhost:8080/"
        },
        "id": "wq3MuYTo72gy",
        "outputId": "b634c446-9153-424c-99ec-a8201e318b8f"
      },
      "execution_count": 10,
      "outputs": [
        {
          "output_type": "stream",
          "name": "stdout",
          "text": [
            "23\n",
            "23.0\n",
            "23\n",
            "23.5\n"
          ]
        }
      ]
    },
    {
      "cell_type": "code",
      "source": [
        "x = 5\n",
        "print(eval(\"23 + (2 * x)\"))"
      ],
      "metadata": {
        "colab": {
          "base_uri": "https://localhost:8080/"
        },
        "id": "dWUinz4Z7HTJ",
        "outputId": "7f80ca2d-1824-487b-b01e-c0baad543071"
      },
      "execution_count": 11,
      "outputs": [
        {
          "output_type": "stream",
          "name": "stdout",
          "text": [
            "33\n"
          ]
        }
      ]
    },
    {
      "cell_type": "code",
      "source": [
        "# 메모리 : 2진수 => 8진수, 16진수 (메모리의 내용을 사람이 이해하기 좋게 하기 위해 8진수, 16진수를 사용)\n",
        "a3 = 4.24e-3  # 지수 (exponent)\n",
        "a4 = 0o177    # octal\n",
        "a5 = 0x8f     # hexa\n",
        "print(a3)\n",
        "print(a4)\n",
        "print(a5)"
      ],
      "metadata": {
        "colab": {
          "base_uri": "https://localhost:8080/"
        },
        "id": "E1SsIyxF7HYx",
        "outputId": "16665d3c-4567-42c0-ae43-83bad0a2f7ba"
      },
      "execution_count": 13,
      "outputs": [
        {
          "output_type": "stream",
          "name": "stdout",
          "text": [
            "0.00424\n",
            "127\n",
            "143\n"
          ]
        }
      ]
    },
    {
      "cell_type": "markdown",
      "source": [
        "# 문자열\n",
        "- \", \"\", \"\"\" \"\"\" : 입력하는 형태대로 문자열을 생성\n",
        "- 문자열 연산자 : +(결합 연산자), *(반복 연산자)\n",
        "- 인덱스 -는, 뒤에서부터 (R에서는 '제외하고' 의미)\n",
        "- 입력 순서를 보장한다."
      ],
      "metadata": {
        "id": "4bJOcMuW-uY6"
      }
    },
    {
      "cell_type": "code",
      "source": [
        "# C(% : String, integer, float), C#(), f 문자열\n",
        "print('My name is %s and I am from %s, %i , ' %('AI', '4차산업혁명', 10))\n",
        "print('My name is {1} and I am from {0} and I like {thing}'.format('딥러닝', 'AI', thing='cats'))\n",
        "name = '김종호'\n",
        "age = 20\n",
        "print(f\"이름은 {name} 나이는 {age}\")  # f : 문자열"
      ],
      "metadata": {
        "colab": {
          "base_uri": "https://localhost:8080/"
        },
        "id": "srMWCDdj9W9y",
        "outputId": "48b00ba2-e301-48a4-b505-688f8643844d"
      },
      "execution_count": 15,
      "outputs": [
        {
          "output_type": "stream",
          "name": "stdout",
          "text": [
            "My name is AI and I am from 4차산업혁명, 10 , \n",
            "My name is AI and I am from 딥러닝 and I like cats\n",
            "이름은 김종호 나이는 20\n"
          ]
        }
      ]
    },
    {
      "cell_type": "code",
      "source": [
        "# 문자열은, 기본적으로 1차원 배열이다.\n",
        "fullName = input(\"이름을 입력하세요: \")\n",
        "print(type(fullName))  # 데이터 타입 'str'\n",
        "n = fullName.rfind(\" \")  # reverse find (뒤에서부터 찾기) (인덱스는 0번부터)\n",
        "\n",
        "print(fullName[0])\n",
        "print(fullName[1])\n",
        "print(fullName[2])\n",
        "print(n)\n",
        "print(\"이름:\", fullName[n+1:])  # ':' : 끝까지 (slicing) - 부분 문자열\n",
        "print(\"성(s):\", fullName[:n])   # 처음부터 첫번째까지."
      ],
      "metadata": {
        "colab": {
          "base_uri": "https://localhost:8080/"
        },
        "id": "DpDWXxBm9UEc",
        "outputId": "292c42ea-d9af-4fa0-96ba-44376a0e8328"
      },
      "execution_count": 20,
      "outputs": [
        {
          "output_type": "stream",
          "name": "stdout",
          "text": [
            "이름을 입력하세요: 김 종호\n",
            "<class 'str'>\n",
            "김\n",
            " \n",
            "종\n",
            "1\n",
            "이름: 종호\n",
            "성(s): 김\n"
          ]
        }
      ]
    },
    {
      "cell_type": "code",
      "source": [
        "s = 'korea'  # str class (파이썬에는 문자열을 str 이라고 함)\n",
        "print(s+s)   # 문자열 결합 연산자\n",
        "print(s * 3) # 문자열 반복 연산자\n",
        "print(s[0:])\n",
        "print(s[4])\n",
        "print(s[-1])   # 뒤에서 첫번째\n",
        "print(s[1:3])  # OR 뒤에 있는 숫자는, 제외한다. (1:3이면, 1, 2번째 숫자 출력)\n",
        "\n",
        "print(s[-2:])\n",
        "print(s[-2:5])  # 5는 제외\n",
        "# print(s[7])   # out of index\n",
        "print(s[3:-1])  # -1은 'a'인데 출력 안됨\n",
        "print(len(s))   # 문자열의 길이\n",
        "s.split('r')    # 분리문자를 기준으로 분리"
      ],
      "metadata": {
        "colab": {
          "base_uri": "https://localhost:8080/"
        },
        "id": "aDJN0SmV7HaZ",
        "outputId": "fabf508d-3627-4f50-e948-f593d9e6e868"
      },
      "execution_count": 24,
      "outputs": [
        {
          "output_type": "stream",
          "name": "stdout",
          "text": [
            "koreakorea\n",
            "koreakoreakorea\n",
            "korea\n",
            "a\n",
            "a\n",
            "or\n",
            "ea\n",
            "ea\n",
            "e\n",
            "5\n"
          ]
        },
        {
          "output_type": "execute_result",
          "data": {
            "text/plain": [
              "['ko', 'ea']"
            ]
          },
          "metadata": {},
          "execution_count": 24
        }
      ]
    },
    {
      "cell_type": "code",
      "source": [
        "t = 'Seoul, Incheon, won'.split(',')  # '.'를 분리문자로 선언\n",
        "print(t)\n",
        "t = ','.join(t) \n",
        "print(t.upper())\n",
        "print(t.lower()) "
      ],
      "metadata": {
        "colab": {
          "base_uri": "https://localhost:8080/"
        },
        "id": "E9XC9NWJAyQj",
        "outputId": "be1296b1-c77a-412c-dd8c-525fa925f3da"
      },
      "execution_count": 31,
      "outputs": [
        {
          "output_type": "stream",
          "name": "stdout",
          "text": [
            "['Seoul', ' Incheon', ' won']\n",
            "SEOUL, INCHEON, WON\n",
            "seoul, incheon, won\n"
          ]
        }
      ]
    },
    {
      "cell_type": "code",
      "source": [
        "# 숫자를 문자열로 변환 (str(), repr())\n",
        "f = 1.23\n",
        "g = str(f)\n",
        "h = repr(f)  # 정밀도가 더 높다.\n",
        "print(g, \"   \", h)"
      ],
      "metadata": {
        "colab": {
          "base_uri": "https://localhost:8080/"
        },
        "id": "ZZOFSyfd7Hca",
        "outputId": "761d3fc5-6469-4aac-fa3e-fb4a9f1c0753"
      },
      "execution_count": 32,
      "outputs": [
        {
          "output_type": "stream",
          "name": "stdout",
          "text": [
            "1.23     1.23\n"
          ]
        }
      ]
    },
    {
      "cell_type": "code",
      "source": [
        "a = 3\n",
        "b = 4\n",
        "\n",
        "print(a+b, a-b, a*b, a/b)\n",
        "print(a % b)   # 나머지 연산자\n",
        "print(1 % 2)\n",
        "print(7 // 4)  # 정수 나눗셈"
      ],
      "metadata": {
        "colab": {
          "base_uri": "https://localhost:8080/"
        },
        "id": "C5eOJNIY7HeZ",
        "outputId": "849713e7-7e2e-440a-c1f7-10b254b0788e"
      },
      "execution_count": 33,
      "outputs": [
        {
          "output_type": "stream",
          "name": "stdout",
          "text": [
            "7 -1 12 0.75\n",
            "3\n",
            "1\n",
            "1\n"
          ]
        }
      ]
    },
    {
      "cell_type": "code",
      "source": [
        "sum([1,2,3,4])  # R에서 vector처럼, list가 들어감"
      ],
      "metadata": {
        "colab": {
          "base_uri": "https://localhost:8080/"
        },
        "id": "c71bFQY47HhZ",
        "outputId": "7269128b-98bc-4ac5-c27a-ad30d4167345"
      },
      "execution_count": 34,
      "outputs": [
        {
          "output_type": "execute_result",
          "data": {
            "text/plain": [
              "10"
            ]
          },
          "metadata": {},
          "execution_count": 34
        }
      ]
    },
    {
      "cell_type": "code",
      "source": [
        "min([1,2,3])"
      ],
      "metadata": {
        "colab": {
          "base_uri": "https://localhost:8080/"
        },
        "id": "lZvvdhc17Hjx",
        "outputId": "d1cf6396-4abd-45dd-ee92-0825010c2222"
      },
      "execution_count": 35,
      "outputs": [
        {
          "output_type": "execute_result",
          "data": {
            "text/plain": [
              "1"
            ]
          },
          "metadata": {},
          "execution_count": 35
        }
      ]
    },
    {
      "cell_type": "code",
      "source": [
        "abs(-11)"
      ],
      "metadata": {
        "colab": {
          "base_uri": "https://localhost:8080/"
        },
        "id": "BymMAz1M7Hlp",
        "outputId": "65c0d51c-f278-4159-d8da-0d6cd2ff69ec"
      },
      "execution_count": 37,
      "outputs": [
        {
          "output_type": "execute_result",
          "data": {
            "text/plain": [
              "11"
            ]
          },
          "metadata": {},
          "execution_count": 37
        }
      ]
    },
    {
      "cell_type": "code",
      "source": [
        "pow(2, 10)  # 2의 10승 (2 ** 10)"
      ],
      "metadata": {
        "colab": {
          "base_uri": "https://localhost:8080/"
        },
        "id": "jjUL_SSNGqKx",
        "outputId": "bc466328-0297-4f3c-d7a9-57269bc00015"
      },
      "execution_count": 39,
      "outputs": [
        {
          "output_type": "execute_result",
          "data": {
            "text/plain": [
              "1024"
            ]
          },
          "metadata": {},
          "execution_count": 39
        }
      ]
    },
    {
      "cell_type": "code",
      "source": [
        "print(round(3.141592, 2))  # 소수점 셋째 자리에서 반올림하고 둘째 자리까지 표현된다.\n",
        "print(round(3.141592))  # 소수점 첫째 자리에서 반올림, 정수로 표현"
      ],
      "metadata": {
        "colab": {
          "base_uri": "https://localhost:8080/"
        },
        "id": "fz_A9zphGwJh",
        "outputId": "5b3a1050-70f9-4e9c-9c81-33bdef23a78b"
      },
      "execution_count": 43,
      "outputs": [
        {
          "output_type": "stream",
          "name": "stdout",
          "text": [
            "3.14\n",
            "3\n"
          ]
        }
      ]
    },
    {
      "cell_type": "code",
      "source": [
        "# 리스트([]) 자료구조 +(결합 연산자), *(반복 연산자) : 문자열과 같다.\n",
        "li = [4, 7, 8]   # li 리스트 \n",
        "lj = [5, 6, 7]   # lj 리스트\n",
        "print(type(li))  # class 'list'\n",
        "print(li + lj)   # R에서는 요소끼리 더해주었는데, 파이썬은 연속적으로 표현(결합됨)\n",
        "print(sum(li))  # li 요소들의 덧셈\n",
        "li * 3  # li 리스트가 3번 반복되어 새 리스트를 만듬 (반복된 리스트 생성)"
      ],
      "metadata": {
        "colab": {
          "base_uri": "https://localhost:8080/"
        },
        "id": "xA-r7l8iGrOR",
        "outputId": "3e389e9c-48d1-4679-9fe2-c3c39e733182"
      },
      "execution_count": 45,
      "outputs": [
        {
          "output_type": "stream",
          "name": "stdout",
          "text": [
            "<class 'list'>\n",
            "[4, 7, 8, 5, 6, 7]\n",
            "19\n"
          ]
        },
        {
          "output_type": "execute_result",
          "data": {
            "text/plain": [
              "[4, 7, 8, 4, 7, 8, 4, 7, 8]"
            ]
          },
          "metadata": {},
          "execution_count": 45
        }
      ]
    },
    {
      "cell_type": "code",
      "source": [
        "num1 = input(\"정수를 입력하세요: \")\n",
        "num2 = input(\"정수를 입력하세요: \")\n",
        "hab = int(num1) + int(num2)\n",
        "quotient = hab // 2\n",
        "remainder = hab % 2\n",
        "print(\"입력된 수를 2로 나눈 결과의 몫 =\", quotient, \"나머지 =\", remainder)\n",
        "\n",
        "if remainder == 0:  # ()가 없어도 된다.\n",
        "  print(\"짝수입니다. \")\n",
        "else:\n",
        "  print(\"홀수입니다. \")"
      ],
      "metadata": {
        "colab": {
          "base_uri": "https://localhost:8080/"
        },
        "id": "IbLGwhUM7Hnx",
        "outputId": "a973c5db-54a4-4a17-8761-14c7791c6bea"
      },
      "execution_count": 47,
      "outputs": [
        {
          "output_type": "stream",
          "name": "stdout",
          "text": [
            "정수를 입력하세요: 28\n",
            "정수를 입력하세요: 10\n",
            "입력된 수를 2로 나눈 결과의 몫 = 19 나머지 = 0\n",
            "짝수입니다. \n"
          ]
        }
      ]
    },
    {
      "cell_type": "code",
      "source": [
        "print(hash(object))  # hash() : 지정된 위치 찾기, 파이썬의 부모는 object, 모든 클래스가 상속받음. (모든 클래스의 최상위 부모)\n",
        "print(object)"
      ],
      "metadata": {
        "colab": {
          "base_uri": "https://localhost:8080/"
        },
        "id": "1dR-jqeB7Hpx",
        "outputId": "22002a9f-964e-4705-bf83-b81c8847979f"
      },
      "execution_count": 48,
      "outputs": [
        {
          "output_type": "stream",
          "name": "stdout",
          "text": [
            "609858\n",
            "<class 'object'>\n"
          ]
        }
      ]
    },
    {
      "cell_type": "code",
      "source": [
        "x = 300  # 전역변수 - 함수 밖에서 선언된 변수이다. (java에서는 불가능)\n",
        "def myfunc():  # myfunc() 함수 생성\n",
        "  x = 200      # 내부선언된 변수 -> 지역변수 -> 지역변수가 우선시된다.\n",
        "  print(x)     # 매개변수로 전달하지 않아도, 그냥 사용이 가능함\n",
        "myfunc()\n",
        "print(x)"
      ],
      "metadata": {
        "colab": {
          "base_uri": "https://localhost:8080/"
        },
        "id": "U9qgAyt_7Hr5",
        "outputId": "837e617d-cff5-4fa4-8441-4340f7df5373"
      },
      "execution_count": 50,
      "outputs": [
        {
          "output_type": "stream",
          "name": "stdout",
          "text": [
            "200\n",
            "300\n"
          ]
        }
      ]
    },
    {
      "cell_type": "code",
      "source": [
        "# 전역변수를 함수 안에서 사용하려면 함수의 매개변수로 전달하는 것이 좋다.\n",
        "x = 300 \n",
        "def myfunc(x):\n",
        "  # global x\n",
        "  x += 200   # 전역변수를 함수 내에서 수정할 수 없다. / global x 혹은 def myfunc(x): 로 선언하면 가능.\n",
        "  print(x)\n",
        "myfunc(x)\n",
        "print(x)"
      ],
      "metadata": {
        "colab": {
          "base_uri": "https://localhost:8080/"
        },
        "id": "B_kIt9rE7HuB",
        "outputId": "856f8a86-d1bc-4115-fc57-283ab2a67555"
      },
      "execution_count": 57,
      "outputs": [
        {
          "output_type": "stream",
          "name": "stdout",
          "text": [
            "500\n",
            "300\n"
          ]
        }
      ]
    },
    {
      "cell_type": "code",
      "source": [
        "# 문제\n",
        "# 어떠한 정수를 입력받아 0이면 가위, 1이면 바위, 2면 보를 출력\n",
        "a = int(input(\"정수를 입력하세요 (0, 1, 2) \"))\n",
        "if a == 0:\n",
        "  print(\"가위 입니다.\")\n",
        "elif a == 1:\n",
        "  print(\"바위 입니다.\")\n",
        "else:\n",
        "  print(\"보 입니다.\")"
      ],
      "metadata": {
        "colab": {
          "base_uri": "https://localhost:8080/"
        },
        "id": "CgZB9WGG7HwA",
        "outputId": "a16f8309-f68f-4205-f014-498a6b8fd872"
      },
      "execution_count": 55,
      "outputs": [
        {
          "output_type": "stream",
          "name": "stdout",
          "text": [
            "정수를 입력하세요1\n",
            "바위 입니다.\n"
          ]
        }
      ]
    },
    {
      "cell_type": "code",
      "source": [
        "# 혼용 문자열\n",
        "name = input(\"이름을 입력하세요\")\n",
        "kor = input(\"국어점수를 입력하세요\")\n",
        "mat = input(\"수학점수를 입력하세요\")\n",
        "eng = input(\"영어점수를 입력하세요\")\n",
        "\n",
        "tot = int(kor) + int(mat) + int(eng)\n",
        "avr = round(tot/3, 2)\n",
        "print(\"이름\".center(10), \"국어\".center(10), \"수학\".center(10), \"영어\".center(10),\n",
        "      \"합계\".center(10), \"평균\".center(10), sep=\"   \")  # seperator 분리자 \n",
        "print(name.center(10), kor.rjust(10), mat.rjust(10), eng.rjust(10),\n",
        "      str(tot).rjust(12), str(avr).rjust(12), sep=\"   \", end=\" \")  # end=\" \"는 연속해서 출력하라는 의미1\n"
      ],
      "metadata": {
        "colab": {
          "base_uri": "https://localhost:8080/"
        },
        "id": "w0tOJVZv7HyT",
        "outputId": "82ab48fb-5c92-4d56-9fbd-d8d4cacb08ea"
      },
      "execution_count": 60,
      "outputs": [
        {
          "output_type": "stream",
          "name": "stdout",
          "text": [
            "이름을 입력하세요김\n",
            "국어점수를 입력하세요100\n",
            "수학점수를 입력하세요00\n",
            "영어점수를 입력하세요110\n",
            "    이름           국어           수학           영어           합계           평균    \n",
            "    김               100           00          110            210           70.0 "
          ]
        }
      ]
    },
    {
      "cell_type": "code",
      "source": [
        "# 리스트 : 문자열(배열) 인덱스와 같다.\n",
        "t = [5, 7, 6, 2]\n",
        "t = list([5, 6, 7, 2])  # 캐스팅(casting)\n",
        "\n",
        "print(t)\n",
        "print(len(t), max(t), min(t), sum(t))  # 리스트를 매개변수로 받는다.\n",
        "print(t[0], t[-1], t[:2], t[1:3])\n",
        "\n",
        "t = [5, 7, 6, 2]\n",
        "print(t)"
      ],
      "metadata": {
        "colab": {
          "base_uri": "https://localhost:8080/"
        },
        "id": "EPLxPegM7H1A",
        "outputId": "d91cfd02-feb1-44cb-b696-49aa458b4d04"
      },
      "execution_count": 61,
      "outputs": [
        {
          "output_type": "stream",
          "name": "stdout",
          "text": [
            "[5, 6, 7, 2]\n",
            "4 7 2 20\n",
            "5 2 [5, 6] [6, 7]\n",
            "[5, 7, 6, 2]\n"
          ]
        }
      ]
    },
    {
      "cell_type": "code",
      "source": [
        "a = 20\n",
        "b = 10\n",
        "print(a > b)  # true\n",
        "c = a > 10 and b < 50\n",
        "print(c)  # true\n",
        "c = 10 < a < 50  # 파이썬의 독특한 표현\n",
        "print(c)  # true"
      ],
      "metadata": {
        "colab": {
          "base_uri": "https://localhost:8080/"
        },
        "id": "ZFsKUG-jNX6Q",
        "outputId": "ac4e40d0-9b07-4b34-87e2-0bcf5530ad44"
      },
      "execution_count": 62,
      "outputs": [
        {
          "output_type": "stream",
          "name": "stdout",
          "text": [
            "True\n",
            "True\n",
            "True\n"
          ]
        }
      ]
    },
    {
      "cell_type": "code",
      "source": [
        "# 두 수를 교환 (swaping)\n",
        "a = 10\n",
        "b = 20\n",
        "# temp = 10\n",
        "# a = b\n",
        "# b = temp\n",
        "\n",
        "a, b = b, a  # 멀티 리턴이 가능하기에 스왑핑이 가능하다.\n",
        "print(a, b)"
      ],
      "metadata": {
        "colab": {
          "base_uri": "https://localhost:8080/"
        },
        "id": "BarzylyLNX8P",
        "outputId": "5fdef834-8041-4e04-8fe3-371caf8403fc"
      },
      "execution_count": 63,
      "outputs": [
        {
          "output_type": "stream",
          "name": "stdout",
          "text": [
            "20 10\n"
          ]
        }
      ]
    },
    {
      "cell_type": "code",
      "source": [
        "# 중첩 리스트(2차원)\n",
        "a = [1, 2, 3, ['a', 'b', 'c'], 4, 5]\n",
        "print(a[2:5])\n",
        "print(a[3])  # 리스트 전체를 하나의 요소로 본다.\n",
        "print(a[3][:2])"
      ],
      "metadata": {
        "colab": {
          "base_uri": "https://localhost:8080/"
        },
        "id": "7VayPBOSNX-f",
        "outputId": "929e563a-2cad-452b-ff54-3a4419a6f3f7"
      },
      "execution_count": 66,
      "outputs": [
        {
          "output_type": "stream",
          "name": "stdout",
          "text": [
            "[3, ['a', 'b', 'c'], 4]\n",
            "['a', 'b', 'c']\n",
            "['a', 'b']\n"
          ]
        }
      ]
    },
    {
      "cell_type": "code",
      "source": [
        "# 3차원\n",
        "a = [1, 2, ['a', 'b', ['Life', 'is']]]  # 3차원 리스트\n",
        "print(a[0])\n",
        "print(a[2])\n",
        "print(a[2][2])\n",
        "print(a[2][2][0])"
      ],
      "metadata": {
        "colab": {
          "base_uri": "https://localhost:8080/"
        },
        "id": "Iv0cyac-PKXg",
        "outputId": "43861a6f-f73a-4c94-f076-08a36379c8ad"
      },
      "execution_count": 71,
      "outputs": [
        {
          "output_type": "stream",
          "name": "stdout",
          "text": [
            "1\n",
            "['a', 'b', ['Life', 'is']]\n",
            "['Life', 'is']\n",
            "Life\n"
          ]
        }
      ]
    },
    {
      "cell_type": "code",
      "source": [
        "a = [1, 2, 3]\n",
        "a[2] = 4  # 요소 바꾸기\n",
        "print(a)\n",
        "\n",
        "a[1:2] = ['a', 'b', 'c']  # [1]을 ['a', 'b', 'c']로 변경 / 틀어져서 입력이 된다.(범위값 준다면 []가 풀려서 요소로 들어간다)\n",
        "print(a)\n",
        "a[2] = ['하나', '둘', '셋']  # 인덱스 하나를 지정하여 변경한다면 리스트 그대로 입력이 된다.\n",
        "print(a)"
      ],
      "metadata": {
        "colab": {
          "base_uri": "https://localhost:8080/"
        },
        "id": "uYxwUhbsNYAZ",
        "outputId": "b2eff098-d751-45d3-d290-664cd7c98c1c"
      },
      "execution_count": 73,
      "outputs": [
        {
          "output_type": "stream",
          "name": "stdout",
          "text": [
            "[1, 2, 4]\n",
            "[1, 'a', 'b', 'c', 4]\n",
            "[1, 'a', ['하나', '둘', '셋'], 'c', 4]\n"
          ]
        }
      ]
    },
    {
      "cell_type": "code",
      "source": [
        "# 초기값, 한계값, 증감값 => 독립적인 데이터 타입을 유지 => 출력이 안됨.\n",
        "b = range(1, 6, 1)  # for in 문 (for(int i=0; i<10; i++) : 인덱스)\n",
        "print(b)\n",
        "print([b])      # 출력이 안됨\n",
        "print(list(b))  # 리스트로 바꿔 주어야 (캐스팅) 출력이 된다."
      ],
      "metadata": {
        "colab": {
          "base_uri": "https://localhost:8080/"
        },
        "id": "oJHh8Q3hNYCO",
        "outputId": "c22a4276-05ef-4f04-de9b-dc69c4cf997d"
      },
      "execution_count": 75,
      "outputs": [
        {
          "output_type": "stream",
          "name": "stdout",
          "text": [
            "range(1, 6)\n",
            "[range(1, 6)]\n",
            "[1, 2, 3, 4, 5]\n"
          ]
        }
      ]
    },
    {
      "cell_type": "code",
      "source": [
        "# 문자열에서 검색\n",
        "streaming = ['netflix', 'hulu', 'disney+', 'appletv+']\n",
        "index = streaming.index('disney+')  # 데이터의 위치를 검색\n",
        "print(index)\n",
        "streaming[2]  # streaming[index]"
      ],
      "metadata": {
        "colab": {
          "base_uri": "https://localhost:8080/",
          "height": 54
        },
        "id": "vzQCdKuPNYET",
        "outputId": "6b5ef275-1f9f-4f8c-91d3-3298a3239420"
      },
      "execution_count": 76,
      "outputs": [
        {
          "output_type": "stream",
          "name": "stdout",
          "text": [
            "2\n"
          ]
        },
        {
          "output_type": "execute_result",
          "data": {
            "text/plain": [
              "'disney+'"
            ],
            "application/vnd.google.colaboratory.intrinsic+json": {
              "type": "string"
            }
          },
          "metadata": {},
          "execution_count": 76
        }
      ]
    },
    {
      "cell_type": "code",
      "source": [
        "# 요소 삭제\n",
        "if 'disney+' in streaming:\n",
        "  streaming.remove('disney+')  # 데이터를 입력하여 삭제 / 'disney+'를 삭제\n",
        "print(streaming)\n",
        "\n",
        "if streaming:\n",
        "  del(streaming[0])  # 인덱스를 이용하여 삭제 / 0번째 인덱스의 요소 삭제 ('netflix')\n",
        "print(streaming)"
      ],
      "metadata": {
        "colab": {
          "base_uri": "https://localhost:8080/"
        },
        "id": "Me20DU-nNYGJ",
        "outputId": "db07188b-8796-481c-c19d-893fbe6a7522"
      },
      "execution_count": 77,
      "outputs": [
        {
          "output_type": "stream",
          "name": "stdout",
          "text": [
            "['netflix', 'hulu', 'appletv+']\n",
            "['hulu', 'appletv+']\n"
          ]
        }
      ]
    },
    {
      "cell_type": "code",
      "source": [
        "# 데이터 수정\n",
        "streaming[0] = 'netflix';\n",
        "print(streaming)"
      ],
      "metadata": {
        "colab": {
          "base_uri": "https://localhost:8080/"
        },
        "id": "oAqk720eNYH-",
        "outputId": "88f70214-aa45-4c4b-bcd4-381e60f7c57e"
      },
      "execution_count": 79,
      "outputs": [
        {
          "output_type": "stream",
          "name": "stdout",
          "text": [
            "['netflix', 'appletv+']\n"
          ]
        }
      ]
    },
    {
      "cell_type": "code",
      "source": [
        "# 데이터 추가\n",
        "streaming.append(\"다람쥐\")\n",
        "streaming.pop(0)  # 앞뒤에서만 추가가 가능 / pop()은 리스트의 맨 마지막 요소를 리턴하고 그 요소는 삭제한다. / 0번째 요소 삭제\n",
        "print(streaming)"
      ],
      "metadata": {
        "colab": {
          "base_uri": "https://localhost:8080/"
        },
        "id": "LlQwqv-wUv-v",
        "outputId": "b2e296f9-d624-4aea-be5c-b51dc64390b4"
      },
      "execution_count": 80,
      "outputs": [
        {
          "output_type": "stream",
          "name": "stdout",
          "text": [
            "['appletv+', '다람쥐']\n"
          ]
        }
      ]
    },
    {
      "cell_type": "code",
      "source": [
        "# 함수의 멀티 리턴 (R에서는 function, 파이썬에서는 def) : 다른 언어에서는 1개만 리턴하거나 배열을 만들어서 리턴\n",
        "# 파이썬에서는 함수의 매개변수 개수가 반드시 일치하여야 한다.\n",
        "def calc(a, b):     # 일반화 프로그래밍\n",
        "  return a+b, a*b   # tuples로 리턴 \n",
        "x, y = calc(3, 4)\n",
        "print(x, y)\n",
        "print(x)\n",
        "x, y\n",
        "args = (4, 5)  # () : 튜플 (수정이 불가능)\n",
        "calc(*args)    # 변동 매개변수"
      ],
      "metadata": {
        "colab": {
          "base_uri": "https://localhost:8080/"
        },
        "id": "tUf0mzS9NYKC",
        "outputId": "291bae50-2882-43f2-a9b5-0c11085b3005"
      },
      "execution_count": 82,
      "outputs": [
        {
          "output_type": "stream",
          "name": "stdout",
          "text": [
            "7 12\n",
            "7\n"
          ]
        },
        {
          "output_type": "execute_result",
          "data": {
            "text/plain": [
              "(9, 20)"
            ]
          },
          "metadata": {},
          "execution_count": 82
        }
      ]
    },
    {
      "cell_type": "code",
      "source": [
        "# enumerate() : 리스트의 원소에 순서값을 부여해주는 함수\n",
        "seasons = ['Spring', 'Summer', 'Fall', 'Winter']\n",
        "print(enumerate(seasons))  # 자체 타입\n",
        "print(list(enumerate(seasons)))  # 순서를 지정\n",
        "print(list(enumerate(seasons, start=1)))  # start : 번호의 시작점을 달리할 수 있음."
      ],
      "metadata": {
        "colab": {
          "base_uri": "https://localhost:8080/"
        },
        "id": "zDd1oMe8NYL_",
        "outputId": "b3d6f0f2-eb53-4913-ba0b-031916b89e9e"
      },
      "execution_count": 86,
      "outputs": [
        {
          "output_type": "stream",
          "name": "stdout",
          "text": [
            "<enumerate object at 0x7f9077990b40>\n",
            "[(0, 'Spring'), (1, 'Summer'), (2, 'Fall'), (3, 'Winter')]\n",
            "[(1, 'Spring'), (2, 'Summer'), (3, 'Fall'), (4, 'Winter')]\n"
          ]
        }
      ]
    },
    {
      "cell_type": "code",
      "source": [
        "# 리스트 정렬 (list sort) - 포인터\n",
        "monarchs = [(\"대한\", 1), (\"민국\", 3), (\"만세\", 6), (\"야호\", 1)]\n",
        "monarchs.sort()  # 앞의 문자를 기준으로 정렬\n",
        "# reverse = False : 디폴트 매개변수 => 디폴트 매개변수는 생략이 가능하다.\n",
        "# monarchs.sort(key = lambda row : row[0], reverse=False)\n",
        "print(monarchs)"
      ],
      "metadata": {
        "colab": {
          "base_uri": "https://localhost:8080/"
        },
        "id": "56pLZiZ8XYWO",
        "outputId": "a96a77bf-2434-43dd-e3d5-e7fdbb3e7b0a"
      },
      "execution_count": 90,
      "outputs": [
        {
          "output_type": "stream",
          "name": "stdout",
          "text": [
            "[('대한', 1), ('만세', 6), ('민국', 3), ('야호', 1)]\n"
          ]
        }
      ]
    },
    {
      "cell_type": "code",
      "source": [
        "# 키 값으로 정렬 \n",
        "# lambda 함수 : 무명함수 (함수 이름이 없음, 간단함)\n",
        "monarchs.sort(key = lambda row : row[1], reverse=True)  # row[1] : 첫번째 요소(key)를 기준으로 정렬 / reverse=True : 내림차순 (False가 default)\n",
        "print(monarchs)"
      ],
      "metadata": {
        "colab": {
          "base_uri": "https://localhost:8080/"
        },
        "id": "RDSzdAVZYGWu",
        "outputId": "7dec60f3-e1f4-438e-b183-e18a59fcff7b"
      },
      "execution_count": 92,
      "outputs": [
        {
          "output_type": "stream",
          "name": "stdout",
          "text": [
            "[('만세', 6), ('민국', 3), ('대한', 1), ('야호', 1)]\n"
          ]
        }
      ]
    },
    {
      "cell_type": "code",
      "source": [
        "# 문제\n",
        "# 이름, 국어 점수를 입력받아 school 리스트에 입력하고 점수로 정렬하여 출력하기.\n",
        "school = []\n",
        "name = input(\"이름을 입력하세요 \")\n",
        "kor = eval(input(\"국어 점수를 입력하세요 \"))\n",
        "school.append([name, kor])\n",
        "\n",
        "name = input(\"이름을 입력하세요 \")\n",
        "kor = eval(input(\"국어 점수를 입력하세요 \"))\n",
        "school.append([name, kor])\n",
        "\n",
        "name = input(\"이름을 입력하세요 \")\n",
        "kor = eval(input(\"국어 점수를 입력하세요 \"))\n",
        "school.append([name, kor])\n",
        "\n",
        "school.sort(key=lambda row:row[1], reverse=True)  # 점수를 기준으로 출력 / 내림차순 정렬\n",
        "print(school)"
      ],
      "metadata": {
        "colab": {
          "base_uri": "https://localhost:8080/"
        },
        "id": "8qc4QfM1YsNm",
        "outputId": "f17a19b3-b49c-42b1-eaa4-a5ee3361e947"
      },
      "execution_count": 94,
      "outputs": [
        {
          "output_type": "stream",
          "name": "stdout",
          "text": [
            "이름을 입력하세요 서윤호1\n",
            "국어 점수를 입력하세요 90\n",
            "이름을 입력하세요 서윤호2\n",
            "국어 점수를 입력하세요 80\n",
            "이름을 입력하세요 서윤호3\n",
            "국어 점수를 입력하세요 100\n",
            "[['서윤호3', 100], ['서윤호1', 90], ['서윤호2', 80]]\n"
          ]
        }
      ]
    },
    {
      "cell_type": "code",
      "source": [
        "school = []\n",
        "\n",
        "for i in range(3):  # 반복 횟수를 지정 [0, 1, 2]\n",
        "  name = input(\"이름을 입력하세요 \")\n",
        "  kor = eval(input(\"국어점수를 입력하세요 \"))\n",
        "  pair = []  # 매 횟수마다 초기화가 되어야 하기에, for문 안에서 초기화를 한다.\n",
        "  pair.append(name)    # 1차 리스트\n",
        "  pair.append(kor)\n",
        "  school.append(pair)  # 2차 리스트 / 리스트에 입력되는 것은 주소값 / 똑같은 주소가 3번 반복된다.\n",
        "school.sort(key=lambda row:row[1], reverse=True)\n",
        "print(school)"
      ],
      "metadata": {
        "colab": {
          "base_uri": "https://localhost:8080/"
        },
        "id": "7qqweAmLXV8f",
        "outputId": "0722cb27-1786-43a8-967c-cca40e9c493d"
      },
      "execution_count": 95,
      "outputs": [
        {
          "output_type": "stream",
          "name": "stdout",
          "text": [
            "이름을 입력하세요 서윤호\n",
            "국어점수를 입력하세요 100\n",
            "이름을 입력하세요 서윤호1\n",
            "국어점수를 입력하세요 100\n",
            "이름을 입력하세요 서윤호2\n",
            "국어점수를 입력하세요 100\n",
            "[['서윤호', 100], ['서윤호1', 100], ['서윤호2', 100]]\n"
          ]
        }
      ]
    },
    {
      "cell_type": "code",
      "source": [
        "# 튜플 : 삽입, 삭제, 수정이 불가능하다. (검색은 가능)\n",
        "tupl = ('K', 'o', 'r', 'e', 'a')\n",
        "tupl = tuple('Korea')  # 캐스팅 가능\n",
        "tupl"
      ],
      "metadata": {
        "colab": {
          "base_uri": "https://localhost:8080/"
        },
        "id": "BB90IGPZNYN-",
        "outputId": "835260e5-8ee3-4d64-e3ed-79df9071b361"
      },
      "execution_count": 97,
      "outputs": [
        {
          "output_type": "execute_result",
          "data": {
            "text/plain": [
              "('K', 'o', 'r', 'e', 'a')"
            ]
          },
          "metadata": {},
          "execution_count": 97
        }
      ]
    },
    {
      "cell_type": "code",
      "source": [
        "tupl[0]\n",
        "tupl[-1]\n",
        "tupl[-2:]\n",
        "len(tupl)"
      ],
      "metadata": {
        "colab": {
          "base_uri": "https://localhost:8080/"
        },
        "id": "X6OwzygfsZ18",
        "outputId": "6e4912e6-e807-44ef-f91f-054045b2f49b"
      },
      "execution_count": 98,
      "outputs": [
        {
          "output_type": "execute_result",
          "data": {
            "text/plain": [
              "5"
            ]
          },
          "metadata": {},
          "execution_count": 98
        }
      ]
    },
    {
      "cell_type": "code",
      "source": [
        "cities = ('seoul', 'incheon', 'suwon')"
      ],
      "metadata": {
        "id": "5S7LOsKJNYP3"
      },
      "execution_count": 99,
      "outputs": []
    },
    {
      "cell_type": "code",
      "source": [
        "cities.index('suwon')  # 'suwon'은 몇 번 인덱스인가?"
      ],
      "metadata": {
        "colab": {
          "base_uri": "https://localhost:8080/"
        },
        "id": "i_dJH-J3svKb",
        "outputId": "a4b6429d-63e8-4c64-e338-38f26c766a11"
      },
      "execution_count": 100,
      "outputs": [
        {
          "output_type": "execute_result",
          "data": {
            "text/plain": [
              "2"
            ]
          },
          "metadata": {},
          "execution_count": 100
        }
      ]
    },
    {
      "cell_type": "code",
      "source": [
        "'incheon' in cities  # 'Incheon'이 cities에 있는지?"
      ],
      "metadata": {
        "colab": {
          "base_uri": "https://localhost:8080/"
        },
        "id": "ptWSFFf_sxFb",
        "outputId": "59c33e88-136c-4bfc-db18-9adfff34a5b2"
      },
      "execution_count": 101,
      "outputs": [
        {
          "output_type": "execute_result",
          "data": {
            "text/plain": [
              "True"
            ]
          },
          "metadata": {},
          "execution_count": 101
        }
      ]
    },
    {
      "cell_type": "code",
      "source": [
        "cities.count('seoul')  # 'seoul'의 개수 세기 "
      ],
      "metadata": {
        "colab": {
          "base_uri": "https://localhost:8080/"
        },
        "id": "XpkPssqRsznL",
        "outputId": "1e291ab8-3502-4d90-98ca-c56706896b71"
      },
      "execution_count": 102,
      "outputs": [
        {
          "output_type": "execute_result",
          "data": {
            "text/plain": [
              "1"
            ]
          },
          "metadata": {},
          "execution_count": 102
        }
      ]
    },
    {
      "cell_type": "code",
      "source": [
        "sorted(cities)\n",
        "sorted(cities, reverse=True)  # 내림차순 정렬"
      ],
      "metadata": {
        "colab": {
          "base_uri": "https://localhost:8080/"
        },
        "id": "Rn0gLBBqNYSH",
        "outputId": "dc6b29eb-2988-4a62-b85e-1f9d6b0407c4"
      },
      "execution_count": 103,
      "outputs": [
        {
          "output_type": "execute_result",
          "data": {
            "text/plain": [
              "['suwon', 'seoul', 'incheon']"
            ]
          },
          "metadata": {},
          "execution_count": 103
        }
      ]
    },
    {
      "cell_type": "code",
      "source": [
        "sungjuk = [['하하', 100, 100, 100], ['유재석', 99, 99, 98], ['추신수', 90, 98, 91]]\n",
        "sungjuk.sort()\n",
        "print(sungjuk)\n",
        "# 문제\n",
        "# 세번째에 있는 점수를 중심으로 정렬\n",
        "sungjuk.sort(key=lambda row:row[3])  # 람다 함수\n",
        "\n",
        "def getKey(row):  # \n",
        "  return row[3]\n",
        "sungjuk.sort(key=getKey)"
      ],
      "metadata": {
        "colab": {
          "base_uri": "https://localhost:8080/"
        },
        "id": "nHGj8aDmNYT_",
        "outputId": "0236c27f-efb6-428a-9f4b-a57348bdeef2"
      },
      "execution_count": 138,
      "outputs": [
        {
          "output_type": "stream",
          "name": "stdout",
          "text": [
            "[['유재석', 99, 99, 98], ['추신수', 90, 98, 91], ['하하', 100, 100, 100]]\n"
          ]
        }
      ]
    },
    {
      "cell_type": "code",
      "source": [
        "# 문제\n",
        "# 각 리스트의 점수 합계를 내고 리스트에 추가하여 합계를 기준으로 정렬\n",
        "\n",
        "total = sungjuk[0][1] + sungjuk[0][2] + sungjuk[0][3]   # 하하의 총점\n",
        "sungjuk[0].append(total)\n",
        "\n",
        "total = sungjuk[1][1] + sungjuk[1][2] + sungjuk[1][3]  # 유재석의 총점\n",
        "sungjuk[1].append(total)\n",
        "\n",
        "total = sungjuk[2][1] + sungjuk[2][2] + sungjuk[2][3]  # 추신수의 총점\n",
        "sungjuk[2].append(total)\n",
        "\n",
        "sungjuk.sort(key=lambda row:row[4], reverse=True)\n",
        "print(sungjuk)"
      ],
      "metadata": {
        "colab": {
          "base_uri": "https://localhost:8080/"
        },
        "id": "akeYt4ZHNYWH",
        "outputId": "698637b7-f5f9-4779-b0db-85cb2d024430"
      },
      "execution_count": 139,
      "outputs": [
        {
          "output_type": "stream",
          "name": "stdout",
          "text": [
            "[['하하', 100, 100, 100, 300], ['유재석', 99, 99, 98, 296], ['추신수', 90, 98, 91, 279]]\n"
          ]
        }
      ]
    },
    {
      "cell_type": "code",
      "source": [
        "for sung in sungjuk:\n",
        "  total = sung[1] + sung[2] + sung[3]\n",
        "  sung.append(total)\n",
        "sungjuk.sort(key=lambda row:row[4], reverse=True)\n",
        "sungjuk"
      ],
      "metadata": {
        "colab": {
          "base_uri": "https://localhost:8080/"
        },
        "id": "yxZggSIoNYYY",
        "outputId": "318e034e-ea02-4eca-a6e4-092c16613b14"
      },
      "execution_count": 135,
      "outputs": [
        {
          "output_type": "execute_result",
          "data": {
            "text/plain": [
              "[['하하', 100, 100, 100, 300, 300],\n",
              " ['유재석', 99, 99, 98, 296, 296],\n",
              " ['추신수', 90, 98, 91, 279, 279]]"
            ]
          },
          "metadata": {},
          "execution_count": 135
        }
      ]
    },
    {
      "cell_type": "code",
      "source": [
        "for sung in sungjuk:\n",
        "  total = 0\n",
        "  for i in range(1, 4):\n",
        "    total += sung[i]\n",
        "  sung.append(total)"
      ],
      "metadata": {
        "id": "oQ2XOaR1NYcx"
      },
      "execution_count": 132,
      "outputs": []
    },
    {
      "cell_type": "code",
      "source": [
        "# 등수 입력하기 (6번째 데이터로 등수 입력하기)\n",
        "print(sungjuk)\n",
        "i = 0\n",
        "for sung in sungjuk:\n",
        "  i+=1\n",
        "  sung.append(i)\n",
        "print(sungjuk)"
      ],
      "metadata": {
        "colab": {
          "base_uri": "https://localhost:8080/"
        },
        "id": "kyBCDsubwpxF",
        "outputId": "50b3fba7-598f-4626-aa9f-15cd90fc92f8"
      },
      "execution_count": 141,
      "outputs": [
        {
          "output_type": "stream",
          "name": "stdout",
          "text": [
            "[['하하', 100, 100, 100, 300], ['유재석', 99, 99, 98, 296], ['추신수', 90, 98, 91, 279]]\n",
            "[['하하', 100, 100, 100, 300, 1], ['유재석', 99, 99, 98, 296, 2], ['추신수', 90, 98, 91, 279, 3]]\n"
          ]
        }
      ]
    },
    {
      "cell_type": "code",
      "source": [
        "# list를 이용하여 Stack(스택) 만들기\n",
        "# LIFO (Last In, First Out) : 밑이 막힘\n",
        "myStack = []  # list => if myStack : false\n",
        "# 데이터 운용을 append, pop으로만 사용한다.\n",
        "myStack.append('a')\n",
        "myStack.append('b')\n",
        "myStack.append('c')\n",
        "\n",
        "print(myStack)\n",
        "print(myStack.pop())\n",
        "print(myStack.pop())\n",
        "print(myStack.pop())"
      ],
      "metadata": {
        "colab": {
          "base_uri": "https://localhost:8080/"
        },
        "id": "sURT9nIvwp1D",
        "outputId": "6c956bc8-ed75-489a-d69c-89955db56998"
      },
      "execution_count": 142,
      "outputs": [
        {
          "output_type": "stream",
          "name": "stdout",
          "text": [
            "['a', 'b', 'c']\n",
            "c\n",
            "b\n",
            "a\n"
          ]
        }
      ]
    },
    {
      "cell_type": "code",
      "source": [
        "# 리스트를 이용한 Queue (First In, First Out 대기열)\n",
        "printer = []\n",
        "if not printer:  # 비어 있으면(데이터 없으면) 실행\n",
        "  print(\"리스트가 비어 있습니다.\")\n",
        "printer.append(60)\n",
        "printer.append(50)\n",
        "if not printer:\n",
        "  printer.pop()\n",
        "printer.append(40)\n",
        "print(printer.pop(0))  # 선두에서 데이터 삭제\n",
        "printer"
      ],
      "metadata": {
        "colab": {
          "base_uri": "https://localhost:8080/"
        },
        "id": "KfLFupgpwp3E",
        "outputId": "6b976756-31a4-4684-901f-b3a859f699ef"
      },
      "execution_count": 143,
      "outputs": [
        {
          "output_type": "stream",
          "name": "stdout",
          "text": [
            "리스트가 비어 있습니다.\n",
            "60\n"
          ]
        },
        {
          "output_type": "execute_result",
          "data": {
            "text/plain": [
              "[50, 40]"
            ]
          },
          "metadata": {},
          "execution_count": 143
        }
      ]
    },
    {
      "cell_type": "code",
      "source": [
        "# 관계 연산자\n",
        "a = 13\n",
        "b = 33\n",
        "print(a > b)   # F\n",
        "print(a < b)   # T\n",
        "print(a == b)  # F\n",
        "print(a != b)  # T\n",
        "print(a >= b)  # F\n",
        "print(a <= b)  # T"
      ],
      "metadata": {
        "colab": {
          "base_uri": "https://localhost:8080/"
        },
        "id": "7ptBbBd6wp4j",
        "outputId": "19321746-5545-4c88-99ab-f186cf7de41e"
      },
      "execution_count": 144,
      "outputs": [
        {
          "output_type": "stream",
          "name": "stdout",
          "text": [
            "False\n",
            "True\n",
            "False\n",
            "True\n",
            "False\n",
            "True\n"
          ]
        }
      ]
    },
    {
      "cell_type": "code",
      "source": [
        " # 논리 연산자\n",
        " a = True\n",
        " b = False\n",
        " print(a and b)  # F\n",
        " print(a or b)   # T\n",
        " print(not a)    # F"
      ],
      "metadata": {
        "colab": {
          "base_uri": "https://localhost:8080/"
        },
        "id": "rkqRSmxQwp6j",
        "outputId": "dfde85f7-0069-4bd7-8e65-8d89196bcad9"
      },
      "execution_count": 145,
      "outputs": [
        {
          "output_type": "stream",
          "name": "stdout",
          "text": [
            "False\n",
            "True\n",
            "False\n"
          ]
        }
      ]
    },
    {
      "cell_type": "code",
      "source": [
        "# 비트 연산자\n",
        "a = 10\n",
        "b = 4\n",
        "print(bin(a))  # 00001010\n",
        "print(bin(b))  # 00000100\n",
        "print(a & b)   # AND, False, 0\n",
        "print(a | b)   # OR, 00001110 (14)\n",
        "print(~a)      # NOT, 11110101 (-11)\n",
        "print(a ^ b)   # XOR, 00001110 (두개가 다르면 참)\n",
        "print(a >> 2)  # 오른쪽 shift, 00000010 (2) => shift 한번의 의미는, 2로 나눔\n",
        "print(a << 2)  # 왼  쪽 shift, 00101000 (40)\n",
        "\n",
        "# 67을 2진수로 표현 : 01000011\n",
        "# 108을 2진수로 표현 : 01101100"
      ],
      "metadata": {
        "colab": {
          "base_uri": "https://localhost:8080/"
        },
        "id": "U60dTbYZwp8K",
        "outputId": "00b6754d-33d0-446f-a07a-5141287178da"
      },
      "execution_count": 148,
      "outputs": [
        {
          "output_type": "stream",
          "name": "stdout",
          "text": [
            "0b1010\n",
            "0b100\n",
            "0\n",
            "14\n",
            "-11\n",
            "14\n",
            "2\n",
            "40\n"
          ]
        }
      ]
    },
    {
      "cell_type": "code",
      "source": [
        "import statistics as s\n",
        "print(\"mean([1, 2, 3, 4, 4]) :\", s.mean([1, 2, 3, 4, 4]))  # 평균\n",
        "print(\"median([1, 3, 5, 7]) :\", s.median([1, 3, 5, 7]))    # 중위수\n",
        "data = [2.75, 1.75, 1.25, 0.25, 0.5, 1.25, 3.5]\n",
        "print(\"variance(data) : \", s.variance(data))  # 분산\n",
        "print(\"stdev(data) : \", s.stdev(data))  # 표준편차"
      ],
      "metadata": {
        "colab": {
          "base_uri": "https://localhost:8080/"
        },
        "id": "IrxCUL5ywp-G",
        "outputId": "0a7ea7fc-50d2-425a-b418-3a64fa421863"
      },
      "execution_count": 149,
      "outputs": [
        {
          "output_type": "stream",
          "name": "stdout",
          "text": [
            "mean([1, 2, 3, 4, 4]) : 2.8\n",
            "median([1, 3, 5, 7]) : 4.0\n",
            "variance(data) :  1.3720238095238095\n",
            "stdev(data) :  1.171334200612195\n"
          ]
        }
      ]
    },
    {
      "cell_type": "code",
      "source": [
        "# random 함수\n",
        "# 의사난수 (이미 정해져 있는 데이터(난수)가 출력 => seed값 (시작지점을 달리하여 진짜 random인 것 처럼 설정)\n",
        "\n",
        "import random\n",
        "random.seed(1000)\n",
        "print(random.randint(1, 5))\n",
        "elements = [\"earth\", \"air\", \"fire\", \"water\"]\n",
        "elements[0] = \"earths\"\n",
        "# choice와 sample의 차이?\n",
        "# choice = 복원 (항상 4개를 선택)\n",
        "# sample = 비복원 (R에서는, 7:3으로 데이터 분할 시 사용)\n",
        "print(random.choice(elements))\n",
        "print(random.sample(elements, 2))  # 랜덤하게 요소 중 2개 추출\n",
        "random.shuffle(elements)  # 랜덤하게 요소 섞기\n",
        "print(elements)"
      ],
      "metadata": {
        "colab": {
          "base_uri": "https://localhost:8080/"
        },
        "id": "AHpqIffSwp_8",
        "outputId": "ab4fd6ca-68a2-466e-cacc-8e7e5e5375e8"
      },
      "execution_count": 150,
      "outputs": [
        {
          "output_type": "stream",
          "name": "stdout",
          "text": [
            "4\n",
            "earths\n",
            "['water', 'air']\n",
            "['fire', 'water', 'air', 'earths']\n"
          ]
        }
      ]
    },
    {
      "cell_type": "code",
      "source": [
        "for i in range(100):\n",
        "  print(random.randint(1,5))"
      ],
      "metadata": {
        "colab": {
          "base_uri": "https://localhost:8080/"
        },
        "id": "tUe9fD329Vkk",
        "outputId": "755981a3-9f13-4e4c-8916-b57b71818aa3"
      },
      "execution_count": 154,
      "outputs": [
        {
          "output_type": "stream",
          "name": "stdout",
          "text": [
            "4\n",
            "2\n",
            "2\n",
            "2\n",
            "3\n",
            "4\n",
            "2\n",
            "3\n",
            "2\n",
            "4\n",
            "2\n",
            "1\n",
            "4\n",
            "2\n",
            "4\n",
            "4\n",
            "2\n",
            "1\n",
            "5\n",
            "4\n",
            "2\n",
            "5\n",
            "2\n",
            "1\n",
            "3\n",
            "2\n",
            "3\n",
            "1\n",
            "1\n",
            "3\n",
            "1\n",
            "3\n",
            "3\n",
            "5\n",
            "5\n",
            "1\n",
            "2\n",
            "3\n",
            "4\n",
            "3\n",
            "2\n",
            "2\n",
            "3\n",
            "5\n",
            "4\n",
            "1\n",
            "3\n",
            "4\n",
            "4\n",
            "3\n",
            "4\n",
            "5\n",
            "3\n",
            "4\n",
            "3\n",
            "1\n",
            "1\n",
            "2\n",
            "4\n",
            "1\n",
            "2\n",
            "3\n",
            "1\n",
            "3\n",
            "2\n",
            "2\n",
            "2\n",
            "5\n",
            "3\n",
            "3\n",
            "3\n",
            "3\n",
            "4\n",
            "2\n",
            "4\n",
            "1\n",
            "2\n",
            "2\n",
            "3\n",
            "3\n",
            "4\n",
            "3\n",
            "1\n",
            "5\n",
            "5\n",
            "2\n",
            "1\n",
            "4\n",
            "4\n",
            "5\n",
            "4\n",
            "4\n",
            "4\n",
            "5\n",
            "1\n",
            "3\n",
            "1\n",
            "1\n",
            "2\n",
            "2\n"
          ]
        }
      ]
    },
    {
      "cell_type": "code",
      "source": [
        "random.random()"
      ],
      "metadata": {
        "colab": {
          "base_uri": "https://localhost:8080/"
        },
        "id": "74O1w-EwwqCC",
        "outputId": "c749d3fc-6b86-47bf-cf8b-5ecd1d55f079"
      },
      "execution_count": 151,
      "outputs": [
        {
          "output_type": "execute_result",
          "data": {
            "text/plain": [
              "0.5346837414708775"
            ]
          },
          "metadata": {},
          "execution_count": 151
        }
      ]
    },
    {
      "cell_type": "code",
      "source": [
        "# time\n",
        "import time;\n",
        "ticks = time.time()\n",
        "print(\"Number of ticks since 12:00am, January 1, 1970:\", ticks)  # 초당 1000번씩\n",
        "print(time.localtime());"
      ],
      "metadata": {
        "colab": {
          "base_uri": "https://localhost:8080/"
        },
        "id": "0Z_SSBmlwqD1",
        "outputId": "99fe2c77-6609-4c34-f0ef-16b5033cde4c"
      },
      "execution_count": 153,
      "outputs": [
        {
          "output_type": "stream",
          "name": "stdout",
          "text": [
            "Number of ticks since 12:00am, January 1, 1970: 1681193773.1767218\n",
            "time.struct_time(tm_year=2023, tm_mon=4, tm_mday=11, tm_hour=6, tm_min=16, tm_sec=13, tm_wday=1, tm_yday=101, tm_isdst=0)\n"
          ]
        }
      ]
    },
    {
      "cell_type": "code",
      "source": [
        "time.localtime(ticks)"
      ],
      "metadata": {
        "colab": {
          "base_uri": "https://localhost:8080/"
        },
        "id": "RIJlQ6ynwqFq",
        "outputId": "11aaa3bc-d954-46bc-e986-b1ce326c3647"
      },
      "execution_count": 155,
      "outputs": [
        {
          "output_type": "execute_result",
          "data": {
            "text/plain": [
              "time.struct_time(tm_year=2023, tm_mon=4, tm_mday=11, tm_hour=6, tm_min=16, tm_sec=13, tm_wday=1, tm_yday=101, tm_isdst=0)"
            ]
          },
          "metadata": {},
          "execution_count": 155
        }
      ]
    },
    {
      "cell_type": "code",
      "source": [
        "import calendar\n",
        "cal = calendar.month(2023, 4)\n",
        "print(type(cal))  # class 'str'\n",
        "print(cal)"
      ],
      "metadata": {
        "colab": {
          "base_uri": "https://localhost:8080/"
        },
        "id": "mweQ-nohwqI7",
        "outputId": "247f882d-47e7-4821-c542-4e19ae6ce050"
      },
      "execution_count": 158,
      "outputs": [
        {
          "output_type": "stream",
          "name": "stdout",
          "text": [
            "<class 'str'>\n",
            "     April 2023\n",
            "Mo Tu We Th Fr Sa Su\n",
            "                1  2\n",
            " 3  4  5  6  7  8  9\n",
            "10 11 12 13 14 15 16\n",
            "17 18 19 20 21 22 23\n",
            "24 25 26 27 28 29 30\n",
            "\n"
          ]
        }
      ]
    },
    {
      "cell_type": "code",
      "source": [
        "# 태어난 년도를 입력하면 나이를 계산하고 미성년자 여부를 판단하시오 (미성년자 기준은 20)\n",
        "year = int(input(\"태어난 년도를 입력하세요: \"))\n",
        "age = time.localtime().tm_year - year + 1\n",
        "if age > 20:\n",
        "  print(age, \"세\", \"당신은 성년 입니다\")\n",
        "else:\n",
        "  print(age, \"세\", \"당신은 미성년자\")"
      ],
      "metadata": {
        "colab": {
          "base_uri": "https://localhost:8080/"
        },
        "id": "1I5Z3_HuwqLL",
        "outputId": "732c9a1e-a7c2-4522-c182-4aaf3ef314f2"
      },
      "execution_count": 162,
      "outputs": [
        {
          "output_type": "stream",
          "name": "stdout",
          "text": [
            "태어난 년도를 입력하세요: 2001\n",
            "23 세 당신은 성년 입니다\n"
          ]
        }
      ]
    },
    {
      "cell_type": "code",
      "source": [
        "import datetime\n",
        "dt = datetime.datetime.now()\n",
        "print(dt.year)\n",
        "print(dt.month)\n",
        "print(dt.day)\n",
        "dt"
      ],
      "metadata": {
        "colab": {
          "base_uri": "https://localhost:8080/"
        },
        "id": "QLrUs2E591HQ",
        "outputId": "3f6cb4ab-e285-4b96-cb67-aa4561ac00e8"
      },
      "execution_count": 163,
      "outputs": [
        {
          "output_type": "stream",
          "name": "stdout",
          "text": [
            "2023\n",
            "4\n",
            "11\n"
          ]
        },
        {
          "output_type": "execute_result",
          "data": {
            "text/plain": [
              "datetime.datetime(2023, 4, 11, 6, 25, 17, 414314)"
            ]
          },
          "metadata": {},
          "execution_count": 163
        }
      ]
    },
    {
      "cell_type": "code",
      "source": [
        "# 문제\n",
        "# 생년월일을 20010203 형식으로 입력받아 출생년도 월 일 변수에 대입하고 현재 날짜를 기준으로 나이를 계산하고 18살 미만이면 미성년자로 출력\n",
        "import datetime\n",
        "\n",
        "dt = datetime.datetime.now()\n",
        "print(dt)\n",
        "age = input(\"생년월일을 입력하세요 >> \")\n",
        "year = int(age[:4])\n",
        "month = int(age[4:6])\n",
        "day = int(age[6:])\n",
        "\n",
        "year_diff = dt.year - year\n",
        "month_diff = dt.month - month\n",
        "day_diff = dt.day - day\n",
        "\n",
        "if day_diff < 0:\n",
        "  month_diff -= 1\n",
        "if month_diff < 0:\n",
        "  year_diff -= 1\n",
        "print(\"당신의 나이는 >> \", year_diff+1)\n",
        "\n",
        "if year_diff < 18:\n",
        "  print(\"당신은 미성년자입니다.\")\n",
        "else:\n",
        "  print(\"당신은 성년 입니다.\")\n",
        "\n",
        "# import datetime\n",
        "\n",
        "# birth = input(\"생년월일을 입력하세요 >> \")\n",
        "# year = int(birth[:4])\n",
        "# month = int(birth[4:6])\n",
        "# day = int(birth[6:])\n",
        "\n",
        "# today = datetime.date.today()\n",
        "\n",
        "# age = today.year - year - ((today.month, today.day) < (month, day))\n",
        "# if age < 18:\n",
        "#   print(age, \"세\", \"미성년자\")\n",
        "# else:\n",
        "#   print(age, \"세\", \"성년\")"
      ],
      "metadata": {
        "colab": {
          "base_uri": "https://localhost:8080/"
        },
        "id": "MC-uA-1t91J6",
        "outputId": "c4190391-d7ac-4e73-f39a-05e0aaed4609"
      },
      "execution_count": 174,
      "outputs": [
        {
          "output_type": "stream",
          "name": "stdout",
          "text": [
            "2023-04-11 06:47:37.485370\n",
            "생년월일을 입력하세요 >> 19760523\n",
            "당신의 나이는 >>  47\n",
            "당신은 성년 입니다.\n"
          ]
        }
      ]
    }
  ]
}