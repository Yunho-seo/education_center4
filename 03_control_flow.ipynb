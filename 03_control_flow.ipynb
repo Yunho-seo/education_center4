{
  "nbformat": 4,
  "nbformat_minor": 0,
  "metadata": {
    "colab": {
      "provenance": [],
      "authorship_tag": "ABX9TyMLy4acaPsg3/PGDd+4fMa2",
      "include_colab_link": true
    },
    "kernelspec": {
      "name": "python3",
      "display_name": "Python 3"
    },
    "language_info": {
      "name": "python"
    }
  },
  "cells": [
    {
      "cell_type": "markdown",
      "metadata": {
        "id": "view-in-github",
        "colab_type": "text"
      },
      "source": [
        "<a href=\"https://colab.research.google.com/github/Yunho-seo/education_center4/blob/main/03_control_flow.ipynb\" target=\"_parent\"><img src=\"https://colab.research.google.com/assets/colab-badge.svg\" alt=\"Open In Colab\"/></a>"
      ]
    },
    {
      "cell_type": "markdown",
      "source": [
        "# if문\n",
        "## false인 것들\n",
        "- '', \"\", 0, [], {}, (), None 등\n",
        "- if문을 사용하는 방법\n",
        " - 단일 if문\n",
        " - if else\n",
        " - if elif else\n",
        " - 중첩(nested) if문\n",
        "- for in\n",
        " - in 뒤에 올 수 있는 것들\n",
        " - Collections(list, dict, set, tuple, bytes, str)\n",
        " - iterator\n",
        " - range\n",
        " - generator\n",
        " - enumerate (단일 입력 -> 2개 출력)\n",
        " - zip (2개 입력 -> 2개 출력)"
      ],
      "metadata": {
        "id": "MZj76-_f_5i5"
      }
    },
    {
      "cell_type": "code",
      "source": [
        "score = 70\n",
        "if score >= 80:\n",
        "  print(\"80 이상\")\n",
        "else:\n",
        "  print(\"80 이하\")"
      ],
      "metadata": {
        "colab": {
          "base_uri": "https://localhost:8080/"
        },
        "id": "iDUFThR4_5Pq",
        "outputId": "047c3052-f094-4a4b-fa99-32703879f573"
      },
      "execution_count": 1,
      "outputs": [
        {
          "output_type": "stream",
          "name": "stdout",
          "text": [
            "80 이하\n"
          ]
        }
      ]
    },
    {
      "cell_type": "code",
      "source": [
        "city = ''  # false\n",
        "if not city:\n",
        "  print(\"빈 문자열\")"
      ],
      "metadata": {
        "colab": {
          "base_uri": "https://localhost:8080/"
        },
        "id": "ypYCEx6B_5SC",
        "outputId": "10046ffa-e841-421f-91d2-11fa99b10d08"
      },
      "execution_count": 4,
      "outputs": [
        {
          "output_type": "stream",
          "name": "stdout",
          "text": [
            "빈 문자열\n"
          ]
        }
      ]
    },
    {
      "cell_type": "code",
      "source": [
        "# 삼항 연산자\n",
        "x = 5\n",
        "ans = '양수' if x >= 0 else '음수'  # x의 값이 0 이상이면 '양수', 그렇지 않으면 '음수'를 출력\n",
        "print(ans)"
      ],
      "metadata": {
        "colab": {
          "base_uri": "https://localhost:8080/"
        },
        "id": "ZCqfWLgLBJqy",
        "outputId": "b31bac45-4a9f-4aa4-c118-b6904625eb29"
      },
      "execution_count": 5,
      "outputs": [
        {
          "output_type": "stream",
          "name": "stdout",
          "text": [
            "양수\n"
          ]
        }
      ]
    },
    {
      "cell_type": "code",
      "source": [
        "# 문제\n",
        "# 수입(income)과 지출(costs)을 입력받아 순수입을 출력하는 프로그램 작성\n",
        "# 경우의 수 : 3가지 (순수입(profit), 손익분기점(break_even_point), 순손실(loss))\n",
        "\n",
        "income = int(input(\"수입을 입력하세요 \"))\n",
        "costs = int(input(\"지출을 입력하세요 \"))\n",
        "\n",
        "if costs == income:\n",
        "  result = \"손익분기점\"\n",
        "elif costs < income:\n",
        "  profit = income - costs\n",
        "  result = \"순수익 = {0:,.2f}\".format(round(profit, 2))  # 자리수 표현\n",
        "else:\n",
        "  loss = costs - income\n",
        "  result = \"순손실 = {0:,.2f}\".format(round(loss, 2))\n",
        "print(result)"
      ],
      "metadata": {
        "colab": {
          "base_uri": "https://localhost:8080/"
        },
        "id": "SZueRNgjBgpU",
        "outputId": "cec35231-45be-4a10-99ea-5b57cc291387"
      },
      "execution_count": 16,
      "outputs": [
        {
          "output_type": "stream",
          "name": "stdout",
          "text": [
            "수입을 입력하세요 30\n",
            "지출을 입력하세요 50\n",
            "순손실 = 20.00\n"
          ]
        }
      ]
    },
    {
      "cell_type": "code",
      "source": [
        "# 문제\n",
        "# 위 코드를 내포된 if문으로 수정 (중첩 if문)\n",
        "revenue = eval(input(\"수익을 입력하세요 \"))\n",
        "costs = eval(input(\"지출을 입력하세요 \"))\n",
        "\n",
        "if costs == revenue:\n",
        "  result = \"손익분기점\"\n",
        "else:\n",
        "  if costs < revenue:\n",
        "    profit = revenue - costs\n",
        "    result = \"순수익 = {0:,.2f}\".format(round(profit, 2))\n",
        "  else:\n",
        "    loss = costs - revenue\n",
        "    result = \"순손실 = {0:,.2f}\".format(round(loss, 2))\n",
        "print(result)"
      ],
      "metadata": {
        "colab": {
          "base_uri": "https://localhost:8080/"
        },
        "id": "stnbHF9iBJtB",
        "outputId": "5b90a519-2c91-4e1e-cee9-a8f431b6279c"
      },
      "execution_count": 17,
      "outputs": [
        {
          "output_type": "stream",
          "name": "stdout",
          "text": [
            "지출을 입력하세요 30\n",
            "수익을 입력하세요 50\n",
            "순수익 = 20.00\n"
          ]
        }
      ]
    },
    {
      "cell_type": "code",
      "source": [
        "# - 반응에 따른 날씨 예측 프로그램\n",
        "# -           BLUE            RED\n",
        "# - STEADY    화창       비오는날\n",
        "# - FLASHING  구름       눈오는날\n",
        "\n",
        "# 문제\n",
        "# 반응에 따른 날씨 예측 표를 참고하여 color와 mode를 입력받아 처리하는 프로그램을 if문을 이용하여 처리\n",
        "\n",
        "color = input(\"컬러 입력하세요(blue/red) \")\n",
        "mode = input(\"모드 입력하세요(steady/flashing) \")\n",
        "\n",
        "result = \"\"\n",
        "if color == 'blue' and mode == 'steady':\n",
        "  result = '화창한 날'\n",
        "elif color == 'blue' and mode == 'flashing':\n",
        "  result = '구름낀 날'\n",
        "elif color == 'red' and mode == 'steady':\n",
        "  result = '비오는 날'\n",
        "else:\n",
        "  result = '눈오는 날'\n",
        "print(\"예측된 날씨는\", result)\n"
      ],
      "metadata": {
        "colab": {
          "base_uri": "https://localhost:8080/"
        },
        "id": "MLKWkDjABJvT",
        "outputId": "d035c308-a044-47ea-ca10-78817275f3e4"
      },
      "execution_count": 23,
      "outputs": [
        {
          "output_type": "stream",
          "name": "stdout",
          "text": [
            "컬러 입력하세요(blue/red) red\n",
            "모드 입력하세요(steady/flashing) steady\n",
            "예측된 날씨는 비오는 날\n"
          ]
        }
      ]
    },
    {
      "cell_type": "code",
      "source": [
        "# 문제2\n",
        "# 위 문제를 중첩 if문을 이용하여 처리\n",
        "color = input(\"컬러 입력하세요(blue/red) \")\n",
        "mode = input(\"모드 입력하세요(steady/flashing) \")\n",
        "\n",
        "if color == 'blue':\n",
        "  if mode == 'steady':\n",
        "    print(\"화창합니다.\")\n",
        "  else:\n",
        "    print(\"구름끼었다.\")\n",
        "else:\n",
        "  if mode == 'steady':\n",
        "    print(\"비오는날\")\n",
        "  else:\n",
        "    print(\"눈오는날\")"
      ],
      "metadata": {
        "colab": {
          "base_uri": "https://localhost:8080/"
        },
        "id": "RvlTRm8PBJxJ",
        "outputId": "3d5ad66c-e3a4-4414-c681-da16d93e47e0"
      },
      "execution_count": 29,
      "outputs": [
        {
          "output_type": "stream",
          "name": "stdout",
          "text": [
            "컬러 입력하세요(blue/red) blue\n",
            "모드 입력하세요(steady/flashing) flashing\n",
            "구름끼었다.\n"
          ]
        }
      ]
    },
    {
      "cell_type": "code",
      "source": [
        "# 문제\n",
        "# 점수를 입력받아서 A, B, C, D, F 학점으로 출력\n",
        "\n",
        "jumsu = int(input(\"점수를 입력하세요 \"))\n",
        "\n",
        "if jumsu >= 90:\n",
        "  result = 'A'\n",
        "elif jumsu >= 80:\n",
        "  result = 'B'\n",
        "elif jumsu >= 70:\n",
        "  result = 'C'\n",
        "elif jumsu >= 60:\n",
        "  result = 'D'\n",
        "else:\n",
        "  result = 'F'\n",
        "print(result, \"학점 입니다.\")"
      ],
      "metadata": {
        "colab": {
          "base_uri": "https://localhost:8080/"
        },
        "id": "-jUGci9PBJzB",
        "outputId": "75e4832f-fd51-4659-b95a-62612fdff16c"
      },
      "execution_count": 28,
      "outputs": [
        {
          "output_type": "stream",
          "name": "stdout",
          "text": [
            "점수를 입력하세요 91\n",
            "A 학점 입니다.\n"
          ]
        }
      ]
    },
    {
      "cell_type": "code",
      "source": [
        "# 문제\n",
        "# 과일을 100.50원에 세금 12.5%를 붙여 팔았다. 매출액은?\n",
        "# 세금과 매출액이 얼마인지 출력\n",
        "# 소수점 2째자리까지 표현\n",
        "\n",
        "tax = 12.5 / 100\n",
        "price = 100.50\n",
        "tax_per_one = price * tax\n",
        "sales_price = price * (1 + tax)\n",
        "print(\"세금 = \", round(tax_per_one, 2), \"1개 판매 가격 = \", round(sales_price, 2))"
      ],
      "metadata": {
        "colab": {
          "base_uri": "https://localhost:8080/"
        },
        "id": "VsbAvRw7BJ0o",
        "outputId": "869e2d09-9451-4818-d051-8a2b1af98555"
      },
      "execution_count": 32,
      "outputs": [
        {
          "output_type": "stream",
          "name": "stdout",
          "text": [
            "세금 =  12.56 1개 판매 가격 =  113.06\n"
          ]
        }
      ]
    },
    {
      "cell_type": "code",
      "source": [
        "# 위의 결과에 개수를 입력받아, 1개를 팔았을 때의 세금, 판매개수에 대한 총세금액, 판매개수에 대한 총매출액을 출력\n",
        "\n",
        "amount = eval(input(\"판매한 과일 개수를 입력하세요 \"))\n",
        "total_tax = tax_per_one * amount\n",
        "total_amount = sales_price * amount\n",
        "print(amount, \"개를 팔았을때\", \"1개의 세금 = \", round(tax_per_one, 2), \"총세금액 = \", round(total_tax, 2),\n",
        "      \"총매출액 = \", round(total_amount, 2))"
      ],
      "metadata": {
        "colab": {
          "base_uri": "https://localhost:8080/"
        },
        "id": "pZdboJCmRFhh",
        "outputId": "e5ee911a-00d1-426f-837e-3045b3718e19"
      },
      "execution_count": 34,
      "outputs": [
        {
          "output_type": "stream",
          "name": "stdout",
          "text": [
            "판매한 과일 개수를 입력하세요 5\n",
            "5 개를 팔았을때 1개의 세금 =  12.56 총세금액 =  62.81 총매출액 =  565.31\n"
          ]
        }
      ]
    },
    {
      "cell_type": "code",
      "source": [
        "# 문제\n",
        "# 아파트 : 제곱미터로 표현 (평수 = 제곱미터 / 3.305)\n",
        "# 제곱미터로 입력되는 아파트 면적을 평수로 계산하여 종류 판정\n",
        "# 소형(17 이하), 중형(17 ~ 30), 대형(30 이상)\n",
        "\n",
        "m2 = int(input(\"제곱미터를 입력하세요 \"))\n",
        "ps = m2 / 3.305\n",
        "print(round(ps, 2), \"평 입니다.\")\n",
        "if ps <= 17:\n",
        "  print(\"소형 아파트\")\n",
        "elif 17 < ps <= 30:\n",
        "  print(\"중형 아파트\")\n",
        "else:\n",
        "  print(\"대형 아파트\")"
      ],
      "metadata": {
        "colab": {
          "base_uri": "https://localhost:8080/"
        },
        "id": "LgTrV3-xBJ2x",
        "outputId": "d3d37b06-5be8-46de-ccad-a98d6d49e9a1"
      },
      "execution_count": 39,
      "outputs": [
        {
          "output_type": "stream",
          "name": "stdout",
          "text": [
            "제곱미터를 입력하세요 91\n",
            "27.53 평 입니다.\n",
            "중형 아파트\n"
          ]
        }
      ]
    },
    {
      "cell_type": "code",
      "source": [
        "# 문제\n",
        "# 놀이공원 매표소 단체 입장료 계산하기\n",
        "# 조건 : 팀별 인원 구성을 입력 (초등, 청소년, 성인, 경로) 하면 입장료 소견표에 따라 계산 \n",
        "# 정산요금 : 초등(5000원), 청소년(10000원), 성인(15000원), 경로(3000원)\n",
        "# 팀별 할인 카드 확인\n",
        "#    카드없음 : 할인X,  일반카드 : 10%할인, VIP : 20%할인\n",
        "# 위의 데이터를 참조하여 총 요금을 계산하기\n",
        "\n",
        "young = int(input(\"초등학생 인원을 입력하세요 \"))\n",
        "middle = int(input(\"청소년 인원을 입력하세요 \"))\n",
        "adult = int(input(\"성인 인원을 입력하세요 \"))\n",
        "senior = int(input(\"경로 인원을 입력하세요 \"))\n",
        "\n",
        "card = int(input(\"카드 유무 // 카드없음(0), 일반카드(1), VIP(2)를 입력하세요\"))\n",
        "\n",
        "young_money = young * 5000\n",
        "middle_money = middle * 10000\n",
        "adult_money = adult * 15000\n",
        "senior_money = senior * 3000\n",
        "tot = young_money + middle_money + adult_money + senior_money\n",
        "\n",
        "result = ''\n",
        "if card == 0:\n",
        "  result = tot\n",
        "elif card == 1:\n",
        "  result = tot * 0.9\n",
        "elif card == 2:\n",
        "  result = tot * 0.8\n",
        "\n",
        "print(\"총 요금은 \", result, \" 원 입니다.\")"
      ],
      "metadata": {
        "colab": {
          "base_uri": "https://localhost:8080/"
        },
        "id": "GFzGUou9BJ4h",
        "outputId": "eb5cc699-3b83-4b99-e520-946001b89460"
      },
      "execution_count": 45,
      "outputs": [
        {
          "output_type": "stream",
          "name": "stdout",
          "text": [
            "초등학생 인원을 입력하세요 5\n",
            "청소년 인원을 입력하세요 5\n",
            "성인 인원을 입력하세요 5\n",
            "경로 인원을 입력하세요 5\n",
            "카드 유무 // 카드없음(0), 일반카드(1), VIP(2)를 입력하세요0\n",
            "총 요금은  165000  원 입니다.\n"
          ]
        }
      ]
    },
    {
      "cell_type": "code",
      "source": [
        "young_rate = 5000\n",
        "middle_rate = 10000\n",
        "adult_rate = 15000\n",
        "senior_rate = 3000\n",
        "discount_general = 0.9\n",
        "discount_vip = 0.8\n",
        "\n",
        "young = int(input(\"초등학생 인원을 입력하세요 \"))\n",
        "middle = int(input(\"청소년 인원을 입력하세요 \"))\n",
        "adult = int(input(\"성인 인원을 입력하세요 \"))\n",
        "senior = int(input(\"경로 인원을 입력하세요 \"))\n",
        "\n",
        "card = int(input(\"카드 유무 // 카드없음(0), 일반카드(1), VIP(2)를 입력하세요\"))\n",
        "\n",
        "young_money = young * young_rate\n",
        "middle_money = middle * middle_rate\n",
        "adult_money = adult * adult_rate\n",
        "senior_money = senior * senior_rate\n",
        "tot = young_money + middle_money + adult_money + senior_money\n",
        "\n",
        "select = [tot, tot*discount_general, tot*discount_vip]  # 메모리 사용량이 늘어나지만 계산 속도는 빨라짐.\n",
        "\n",
        "print(\"총 요금은 \", select, \" 원 입니다.\")"
      ],
      "metadata": {
        "colab": {
          "base_uri": "https://localhost:8080/"
        },
        "id": "6fzyJc_GBJ6Z",
        "outputId": "b66ab5c4-e52c-44f4-e2e0-c4e28401833c"
      },
      "execution_count": 47,
      "outputs": [
        {
          "output_type": "stream",
          "name": "stdout",
          "text": [
            "초등학생 인원을 입력하세요 3\n",
            "청소년 인원을 입력하세요 3\n",
            "성인 인원을 입력하세요 3\n",
            "경로 인원을 입력하세요 3\n",
            "카드 유무 // 카드없음(0), 일반카드(1), VIP(2)를 입력하세요1\n",
            "총 요금은  [99000, 89100.0, 79200.0]  원 입니다.\n"
          ]
        }
      ]
    },
    {
      "cell_type": "code",
      "source": [
        "# 문제\n",
        "# 소득세율 계산 : 소득을 입력받아 세금이 얼마인지 계산하는 프로그램 작성 (연봉만 입력받고 단순히 세율만 적용)  # 과세표준 - 공제액\n",
        "# 12,000,000원 이하\t6%\n",
        "# 12,000,000원 초과 46,000,000원 이하\t 15%\n",
        "# 46,000,000원 초과 88,000,000원 이하\t 24%\n",
        "# 88,000,000원 초과 150,000,000원 이하 35%\n",
        "\n",
        "income = int(input(\"소득을 계산하세요(최대 1억 5천만원) \"))\n",
        "\n",
        "tax1 = 6 / 100\n",
        "tax2 = 15 / 100\n",
        "tax3 = 24 / 100\n",
        "tax4 = 35 / 100\n",
        "\n",
        "result = ''\n",
        "if income <= 12000000:\n",
        "  tax = income * tax1\n",
        "elif 12000000 < income <= 46000000:\n",
        "  tax = income * tax2\n",
        "elif 46000000 < income <= 88000000:\n",
        "  tax = income * tax3\n",
        "elif 88000000 < income <= 150000000:\n",
        "  tax = income * tax4\n",
        "print(\"당신의 소득은 \", income, \"원이고, 세금은 \", tax, \"원 입니다.\")"
      ],
      "metadata": {
        "colab": {
          "base_uri": "https://localhost:8080/"
        },
        "id": "py4ZKGjqBJ8J",
        "outputId": "87f8a3f5-d774-42f2-e159-01073914fec9"
      },
      "execution_count": 55,
      "outputs": [
        {
          "output_type": "stream",
          "name": "stdout",
          "text": [
            "소득을 계산하세요(최대 1억 5천만원) 38000000\n",
            "당신의 소득은  38000000 원이고, 세금은  5700000.0 원 입니다.\n"
          ]
        }
      ]
    },
    {
      "cell_type": "code",
      "source": [
        "print('세금 계산 프로그램입니다. (연봉 1.5억 이하하만 입력받고 단순히 세율만 적용합니다.)')\n",
        "income = int(input('총 소득을 입력하시오 : '))\n",
        "tax = 0\n",
        "\n",
        "income_interval = [12000000, 46000000, 88000000, 150000000]\n",
        "income_level = [0, 12000000, 46000000, 88000000]\n",
        "basic_tax = [0, 12000000*0.06, 12000000*0.06 + 34000000*0.15, 12000000*0.06 + 34000000*0.15 + 42000000*0.24]\n",
        "tax_rate = [0.06, 0.15, 0.24, 0.35, 0.38, 0.40, 0.42, 0.45]\n",
        "\n",
        "if income < income_interval[0]:\n",
        "  tax = basic_tax[0] + (income-income_level[0]) * tax_rate[0]\n",
        "elif income < income_interval[1]:\n",
        "  tax = basic_tax[1] + (income-income_level[1]) * tax_rate[1]\n",
        "elif income < income_interval[2]:\n",
        "  tax = basic_tax[2] + (income-income_level[2]) * tax_rate[2]\n",
        "elif income < income_interval[3]:\n",
        "  tax = basic_tax[3] + (income-income_level[3]) * tax_rate[3]\n",
        "\n",
        "print('연봉', income, '에 대한 총 세금은', tax,'만원 입니다.')"
      ],
      "metadata": {
        "colab": {
          "base_uri": "https://localhost:8080/"
        },
        "id": "kbPwLvXMBJ95",
        "outputId": "ef6c949b-f6ae-476e-f0d5-10e552e99601"
      },
      "execution_count": 57,
      "outputs": [
        {
          "output_type": "stream",
          "name": "stdout",
          "text": [
            "세금 계산 프로그램입니다. (연봉 1.5억 이하하만 입력받고 단순히 세율만 적용합니다.)\n",
            "총 소득을 입력하시오 : 37000000\n",
            "연봉 37000000 에 대한 총 세금은 6269820.0 만원 입니다.\n"
          ]
        }
      ]
    },
    {
      "cell_type": "code",
      "source": [
        "income = int(input('총 소득을 입력하시오 : '))\n",
        "tax = 0.0\n",
        "income_interval = [12000000, 46000000, 88000000, 150000000, 300000000, 500000000, 1000000000]\n",
        "tax_rate = [0.06, 0.15, 0.24, 0.35, 0.38, 0.40, 0.42, 0.45]\n",
        "subtract_money = [0, 1080000, 5220000, 14900000, 19400000, 25400000, 35400000]\n",
        "if income < income_interval[0]:\n",
        "  tax = income * tax_rate[0] - subtract_money[0]\n",
        "elif income < income_interval[1]:\n",
        "  tax = income * tax_rate[1] - subtract_money[1]\n",
        "elif income < income_interval[2]:\n",
        "  tax = income * tax_rate[2] - subtract_money[2]\n",
        "elif income < income_interval[3]:\n",
        "  tax = income * tax_rate[3] - subtract_money[3]\n",
        "elif income < income_interval[4]:\n",
        "  tax = income * tax_rate[4] - subtract_money[4]\n",
        "elif income < income_interval[5]:\n",
        "  tax = income * tax_rate[5] - subtract_money[5]\n",
        "else:\n",
        "  tax = income * tax_rate[6] - subtract_money\n",
        "\n",
        "print(\"입력하신 연봉 \", income, \"에 대한 세금 = \", tax)"
      ],
      "metadata": {
        "colab": {
          "base_uri": "https://localhost:8080/"
        },
        "id": "NlgZLNRsBJ_x",
        "outputId": "8d068675-ee08-4a0d-fddd-60f59df4d363"
      },
      "execution_count": 60,
      "outputs": [
        {
          "output_type": "stream",
          "name": "stdout",
          "text": [
            "총 소득을 입력하시오 : 200000000\n",
            "입력하신 연봉  200000000 에 대한 세금 =  56600000.0\n"
          ]
        }
      ]
    },
    {
      "cell_type": "code",
      "source": [
        "elements = ['earth', 'air', 'fire', 'water']\n",
        "for i in elements:\n",
        "  print(i, end=\" \")"
      ],
      "metadata": {
        "colab": {
          "base_uri": "https://localhost:8080/"
        },
        "id": "lBBbDrE-BKBo",
        "outputId": "0b2dc49f-6287-4976-bd4b-41adeaeb7ad4"
      },
      "execution_count": 63,
      "outputs": [
        {
          "output_type": "stream",
          "name": "stdout",
          "text": [
            "earth air fire water "
          ]
        }
      ]
    },
    {
      "cell_type": "markdown",
      "source": [
        "# squencial(순차적)한 자료구조\n",
        "- list, tuple, str\n",
        "- indexing, slicing, +(결합), *(반복), in, len"
      ],
      "metadata": {
        "id": "VYq80gtdjhk2"
      }
    },
    {
      "cell_type": "code",
      "source": [
        "# 문제\n",
        "# 위 코드를 range를 이용하여 옆으로 출력\n",
        "elements = ['earth', 'air', 'fire', 'water']\n",
        "for i in range(len(elements)):\n",
        "  print(elements[i], end=\" \")"
      ],
      "metadata": {
        "colab": {
          "base_uri": "https://localhost:8080/"
        },
        "id": "QyE4fqJGBKFR",
        "outputId": "435e9cb5-6609-40ae-e174-a0a177df824d"
      },
      "execution_count": 68,
      "outputs": [
        {
          "output_type": "stream",
          "name": "stdout",
          "text": [
            "earth air fire water "
          ]
        }
      ]
    },
    {
      "cell_type": "code",
      "source": [
        "# 문제\n",
        "# 다음 데이터에서 500보다 같거나 큰 경우는 제외하고 나머지 값을 출력\n",
        "cart = [10, 20, 500, 700, 50, 60]\n",
        "for item in cart:\n",
        "  if item >= 500:\n",
        "    continue\n",
        "  print(item, end=' ')"
      ],
      "metadata": {
        "colab": {
          "base_uri": "https://localhost:8080/"
        },
        "id": "qcBRPtL1BKHJ",
        "outputId": "ccd0ba05-add4-41a1-f687-68be4307ae57"
      },
      "execution_count": 69,
      "outputs": [
        {
          "output_type": "stream",
          "name": "stdout",
          "text": [
            "10 20 50 60 "
          ]
        }
      ]
    },
    {
      "cell_type": "code",
      "source": [
        "# range() : 시작값, 종료값, 증감값=1 (default)\n",
        "print(list(range(10)))        # 10이 종료값\n",
        "print(list(range(10, 2)))     # 미출력 / 시작값, 종료값\n",
        "print(list(range(1, 10)))\n",
        "print(list(range(1, 10, 2)))  # 1부터 10까지 2씩 (홀수)\n",
        "print(list(range(10, 1, -1))) # 미출력\n",
        "print(list(range(1, 11, -1))) \n",
        "print(list(reversed(range(10)))) # 역순 출력"
      ],
      "metadata": {
        "colab": {
          "base_uri": "https://localhost:8080/"
        },
        "id": "2NK2ixq2BKJJ",
        "outputId": "3075e7b7-a4c6-4d5a-e7bd-ee7f29c5ea15"
      },
      "execution_count": 71,
      "outputs": [
        {
          "output_type": "stream",
          "name": "stdout",
          "text": [
            "[0, 1, 2, 3, 4, 5, 6, 7, 8, 9]\n",
            "[]\n",
            "[1, 2, 3, 4, 5, 6, 7, 8, 9]\n",
            "[1, 3, 5, 7, 9]\n",
            "[10, 9, 8, 7, 6, 5, 4, 3, 2]\n",
            "[]\n",
            "[9, 8, 7, 6, 5, 4, 3, 2, 1, 0]\n"
          ]
        }
      ]
    },
    {
      "cell_type": "code",
      "source": [
        "# Iterator : 반복자 - 현재 위치의 데이터를 지시.\n",
        "ra = range(10)\n",
        "ra = iter(ra)\n",
        "next(ra)"
      ],
      "metadata": {
        "colab": {
          "base_uri": "https://localhost:8080/"
        },
        "id": "fDhGTwuxBKLB",
        "outputId": "50b94305-1372-4292-9090-89864214af8c"
      },
      "execution_count": 72,
      "outputs": [
        {
          "output_type": "execute_result",
          "data": {
            "text/plain": [
              "0"
            ]
          },
          "metadata": {},
          "execution_count": 72
        }
      ]
    },
    {
      "cell_type": "code",
      "source": [
        "next(ra)\n",
        "next(ra)"
      ],
      "metadata": {
        "colab": {
          "base_uri": "https://localhost:8080/"
        },
        "id": "m6WbxfpHBKMp",
        "outputId": "6e577a20-99da-468e-ee14-1a3e52e4087e"
      },
      "execution_count": 73,
      "outputs": [
        {
          "output_type": "execute_result",
          "data": {
            "text/plain": [
              "2"
            ]
          },
          "metadata": {},
          "execution_count": 73
        }
      ]
    },
    {
      "cell_type": "code",
      "source": [
        "print(sorted([7, 1, 2, 6, 0, 3, 2]))"
      ],
      "metadata": {
        "colab": {
          "base_uri": "https://localhost:8080/"
        },
        "id": "_unCj6TDBKOy",
        "outputId": "fe857d8b-0054-444b-8b0c-8c819309cd25"
      },
      "execution_count": 75,
      "outputs": [
        {
          "output_type": "stream",
          "name": "stdout",
          "text": [
            "[0, 1, 2, 2, 3, 6, 7]\n"
          ]
        }
      ]
    },
    {
      "cell_type": "code",
      "source": [
        "# zip\n",
        "seq1 = ['a', 'b', 'c']\n",
        "seq2 = ['d', 'e']\n",
        "zipped = zip(seq1, seq2)  # 두 요소씩 짝을 지어 리스트로 묶는다.\n",
        "list(zipped)"
      ],
      "metadata": {
        "colab": {
          "base_uri": "https://localhost:8080/"
        },
        "id": "tUWrTvUhBKQq",
        "outputId": "2a017f3a-cb9b-41ca-e546-4e220e7b7e16"
      },
      "execution_count": 76,
      "outputs": [
        {
          "output_type": "execute_result",
          "data": {
            "text/plain": [
              "[('a', 'd'), ('b', 'e')]"
            ]
          },
          "metadata": {},
          "execution_count": 76
        }
      ]
    },
    {
      "cell_type": "code",
      "source": [
        "seq1 = ['foo', 'bar', 'bax']\n",
        "seq2 = ['one', 'two', 'three']\n",
        "seq3 = [False, True]\n",
        "print(list(zip(seq1, seq2, seq3)))"
      ],
      "metadata": {
        "colab": {
          "base_uri": "https://localhost:8080/"
        },
        "id": "Uv31GVD6BKSh",
        "outputId": "4b0994e4-6c58-45bf-f0c6-bb01ad6c5551"
      },
      "execution_count": 77,
      "outputs": [
        {
          "output_type": "stream",
          "name": "stdout",
          "text": [
            "[('foo', 'one', False), ('bar', 'two', True)]\n"
          ]
        }
      ]
    },
    {
      "cell_type": "code",
      "source": [
        "for i, (a,b) in enumerate(zip(seq1, seq2)):\n",
        "  print('%d, %s, %s' %(i, a, b))\n",
        "list(reversed(range(10)))"
      ],
      "metadata": {
        "colab": {
          "base_uri": "https://localhost:8080/"
        },
        "id": "v4En6bTvBKUp",
        "outputId": "9c92efe8-5036-450c-a10d-2813a63c1621"
      },
      "execution_count": 78,
      "outputs": [
        {
          "output_type": "stream",
          "name": "stdout",
          "text": [
            "0, foo, one\n",
            "1, bar, two\n",
            "2, bax, three\n"
          ]
        },
        {
          "output_type": "execute_result",
          "data": {
            "text/plain": [
              "[9, 8, 7, 6, 5, 4, 3, 2, 1, 0]"
            ]
          },
          "metadata": {},
          "execution_count": 78
        }
      ]
    },
    {
      "cell_type": "code",
      "source": [
        "# 문제\n",
        "# 1부터 10까지 더하기 (range)\n",
        "sum = 0\n",
        "for i in range(1, 11):\n",
        "  sum += i\n",
        "print(sum)"
      ],
      "metadata": {
        "colab": {
          "base_uri": "https://localhost:8080/"
        },
        "id": "Ru4micnyBKWh",
        "outputId": "7cdd9c7d-a388-4daa-f7f4-83ecfde25af9"
      },
      "execution_count": 84,
      "outputs": [
        {
          "output_type": "stream",
          "name": "stdout",
          "text": [
            "55\n"
          ]
        }
      ]
    },
    {
      "cell_type": "code",
      "source": [
        "my_list = ['bobby', 'hadz', 'com']\n",
        "\n",
        "while my_list:\n",
        "  my_list.pop(0)  # append pop(0) => FIFO(First In, First Out) : 큐(Queue)  (LIFO : 스택(Stack))\n",
        "print(my_list)"
      ],
      "metadata": {
        "colab": {
          "base_uri": "https://localhost:8080/"
        },
        "id": "WYGjnXoTBKYR",
        "outputId": "ac9ad9aa-9b4e-4c49-bbd7-4533ac150697"
      },
      "execution_count": 87,
      "outputs": [
        {
          "output_type": "stream",
          "name": "stdout",
          "text": [
            "[]\n"
          ]
        }
      ]
    },
    {
      "cell_type": "code",
      "source": [
        "# 중첩 for문 / 이중 for문\n",
        "for x in range(2, 10):\n",
        "  print()  # 한 칸 비우고 출력\n",
        "  for y in range(2, 10):\n",
        "    print(x, '*', y, '=', x*y, end='    ')"
      ],
      "metadata": {
        "colab": {
          "base_uri": "https://localhost:8080/"
        },
        "id": "IHOkuxPyBKaS",
        "outputId": "3fe85772-c735-4a6f-a0a3-6f21dd9d8676"
      },
      "execution_count": 91,
      "outputs": [
        {
          "output_type": "stream",
          "name": "stdout",
          "text": [
            "\n",
            "2 * 2 = 4    2 * 3 = 6    2 * 4 = 8    2 * 5 = 10    2 * 6 = 12    2 * 7 = 14    2 * 8 = 16    2 * 9 = 18    \n",
            "3 * 2 = 6    3 * 3 = 9    3 * 4 = 12    3 * 5 = 15    3 * 6 = 18    3 * 7 = 21    3 * 8 = 24    3 * 9 = 27    \n",
            "4 * 2 = 8    4 * 3 = 12    4 * 4 = 16    4 * 5 = 20    4 * 6 = 24    4 * 7 = 28    4 * 8 = 32    4 * 9 = 36    \n",
            "5 * 2 = 10    5 * 3 = 15    5 * 4 = 20    5 * 5 = 25    5 * 6 = 30    5 * 7 = 35    5 * 8 = 40    5 * 9 = 45    \n",
            "6 * 2 = 12    6 * 3 = 18    6 * 4 = 24    6 * 5 = 30    6 * 6 = 36    6 * 7 = 42    6 * 8 = 48    6 * 9 = 54    \n",
            "7 * 2 = 14    7 * 3 = 21    7 * 4 = 28    7 * 5 = 35    7 * 6 = 42    7 * 7 = 49    7 * 8 = 56    7 * 9 = 63    \n",
            "8 * 2 = 16    8 * 3 = 24    8 * 4 = 32    8 * 5 = 40    8 * 6 = 48    8 * 7 = 56    8 * 8 = 64    8 * 9 = 72    \n",
            "9 * 2 = 18    9 * 3 = 27    9 * 4 = 36    9 * 5 = 45    9 * 6 = 54    9 * 7 = 63    9 * 8 = 72    9 * 9 = 81    "
          ]
        }
      ]
    },
    {
      "cell_type": "code",
      "source": [
        "for x in range(1, 10):\n",
        "  for y in range(2, 10):\n",
        "    print(y, '*', x, '=', x*y, '\\t', end='   ')\n",
        "  print()"
      ],
      "metadata": {
        "colab": {
          "base_uri": "https://localhost:8080/"
        },
        "id": "ttcfG_UPBKcB",
        "outputId": "4e227161-ed20-4941-ea50-5b12f68d54b8"
      },
      "execution_count": 100,
      "outputs": [
        {
          "output_type": "stream",
          "name": "stdout",
          "text": [
            "2 * 1 = 2 \t   3 * 1 = 3 \t   4 * 1 = 4 \t   5 * 1 = 5 \t   6 * 1 = 6 \t   7 * 1 = 7 \t   8 * 1 = 8 \t   9 * 1 = 9 \t   \n",
            "2 * 2 = 4 \t   3 * 2 = 6 \t   4 * 2 = 8 \t   5 * 2 = 10 \t   6 * 2 = 12 \t   7 * 2 = 14 \t   8 * 2 = 16 \t   9 * 2 = 18 \t   \n",
            "2 * 3 = 6 \t   3 * 3 = 9 \t   4 * 3 = 12 \t   5 * 3 = 15 \t   6 * 3 = 18 \t   7 * 3 = 21 \t   8 * 3 = 24 \t   9 * 3 = 27 \t   \n",
            "2 * 4 = 8 \t   3 * 4 = 12 \t   4 * 4 = 16 \t   5 * 4 = 20 \t   6 * 4 = 24 \t   7 * 4 = 28 \t   8 * 4 = 32 \t   9 * 4 = 36 \t   \n",
            "2 * 5 = 10 \t   3 * 5 = 15 \t   4 * 5 = 20 \t   5 * 5 = 25 \t   6 * 5 = 30 \t   7 * 5 = 35 \t   8 * 5 = 40 \t   9 * 5 = 45 \t   \n",
            "2 * 6 = 12 \t   3 * 6 = 18 \t   4 * 6 = 24 \t   5 * 6 = 30 \t   6 * 6 = 36 \t   7 * 6 = 42 \t   8 * 6 = 48 \t   9 * 6 = 54 \t   \n",
            "2 * 7 = 14 \t   3 * 7 = 21 \t   4 * 7 = 28 \t   5 * 7 = 35 \t   6 * 7 = 42 \t   7 * 7 = 49 \t   8 * 7 = 56 \t   9 * 7 = 63 \t   \n",
            "2 * 8 = 16 \t   3 * 8 = 24 \t   4 * 8 = 32 \t   5 * 8 = 40 \t   6 * 8 = 48 \t   7 * 8 = 56 \t   8 * 8 = 64 \t   9 * 8 = 72 \t   \n",
            "2 * 9 = 18 \t   3 * 9 = 27 \t   4 * 9 = 36 \t   5 * 9 = 45 \t   6 * 9 = 54 \t   7 * 9 = 63 \t   8 * 9 = 72 \t   9 * 9 = 81 \t   \n"
          ]
        }
      ]
    },
    {
      "cell_type": "code",
      "source": [
        "# 문제\n",
        "# 두 수를 입력하여 숫자이면 합계를 내어 출력하고, \n",
        "# 숫자가 아니면 처음 수가 숫자가 아닌것이 있는지 아니면 뒤에 입력한 것이 숫자가 아닌 것이 있는지 확인하여 출력\n",
        "# is함수 : isdigit() => True(숫자) / False(숫자X) (str문자열에 있는 함수이다.)\n",
        "# 숫자 / 숫자 아닌 것 : 숫자 / 숫자 아닌 것 => 경우의 수 (4가지)\n",
        "\n",
        "x = input(\"첫째 수를 입력하세요 \")\n",
        "y = input(\"둘째 수를 입력하세요 \")\n",
        "\n",
        "if x.isdigit() and y.isdigit():\n",
        "  print(\"합계는\", str(eval(x) + eval(y)) + \".\")\n",
        "elif not x.isdigit():\n",
        "  if not y.isdigit():\n",
        "    print(\"둘 다 숫자가 아님\")\n",
        "  else:\n",
        "    print(\"첫째수가 숫자가 아님\")\n",
        "elif not y.digit():\n",
        "  print(\"둘째수가 숫자가 아님\")"
      ],
      "metadata": {
        "colab": {
          "base_uri": "https://localhost:8080/"
        },
        "id": "yRwjC-kfBKdq",
        "outputId": "7e09be9a-5228-43fa-edcf-ef8154fe1634"
      },
      "execution_count": 107,
      "outputs": [
        {
          "output_type": "stream",
          "name": "stdout",
          "text": [
            "첫째 수를 입력하세요 45\n",
            "둘째 수를 입력하세요 3\n",
            "합계는 48.\n"
          ]
        }
      ]
    },
    {
      "cell_type": "code",
      "source": [
        "# 문제\n",
        "# while문을 이용하여 1부터 10까지 더한 결과를 출력\n",
        "i = 0    # 증가변수\n",
        "sum = 0  # 누적변수\n",
        "while i < 10:\n",
        "  i += 1    # 1, 2, 3, 4, 5, 6, 7, 8, 9\n",
        "  sum += i\n",
        "print(sum)"
      ],
      "metadata": {
        "colab": {
          "base_uri": "https://localhost:8080/"
        },
        "id": "OzlHrEpmBKfR",
        "outputId": "b4c45859-2370-4076-e368-9f8f31ee7f6c"
      },
      "execution_count": 112,
      "outputs": [
        {
          "output_type": "stream",
          "name": "stdout",
          "text": [
            "55\n"
          ]
        }
      ]
    },
    {
      "cell_type": "code",
      "source": [
        "# 문제\n",
        "# 위 while문에서  3, 4, 5, 6, 7, 8, 9만 더하기\n",
        "i = 0\n",
        "sum = 0\n",
        "while i < 10:\n",
        "  i += 1\n",
        "  if i < 3:\n",
        "    continue\n",
        "  if i > 9:\n",
        "    break\n",
        "  else:\n",
        "    sum += i\n",
        "print(sum)"
      ],
      "metadata": {
        "colab": {
          "base_uri": "https://localhost:8080/"
        },
        "id": "aIxjGYl2BKhV",
        "outputId": "c1c6c3d4-4286-4bf6-f78d-9b1b3f472ce8"
      },
      "execution_count": 115,
      "outputs": [
        {
          "output_type": "stream",
          "name": "stdout",
          "text": [
            "42\n"
          ]
        }
      ]
    },
    {
      "cell_type": "code",
      "source": [
        "# 문제\n",
        "# 입력 형식 10k or 10M, 10G와 같은 형식으로 입력하고\n",
        "# 어떤 경우이던지 바이트로 변환하여 출력\n",
        "# 10k = 1024 * 10 바이트 \n",
        "# 10M = 1024 * 1024 * 10 바이트\n",
        "# 10G = 1024 * 1024 * 1024 * 10 바이트\n",
        "# 입력을 무한대로 하고, Q가 입력되면 중지하게 하시오.\n",
        "\n",
        "UNIT = 1024\n",
        "criterion = [\"K\", \"M\", \"G\"]\n",
        "while 1:\n",
        "  vol = input(\"용량을 입력하세요 \")\n",
        "  if vol.upper() == \"Q\":\n",
        "    break\n",
        "  num = vol[:-1]\n",
        "  scale = vol[-1]\n",
        "  calcunit = scale.upper()  # 대문자로 변환\n",
        "  if not num.isdigit() or not calcunit in criterion:\n",
        "    print(\"잘못된 입력입니다. 숫자로 입력하고 단위는 k, m, g로 입력하세요 \")\n",
        "    continue\n",
        "  volume = int(num)\n",
        "  if calcunit == \"K\":\n",
        "    volume_res = volume * UNIT\n",
        "  elif calcunit == \"M\":\n",
        "    volume_res = volume * UNIT * UNIT\n",
        "  elif calcunit == \"G\":\n",
        "    volume_res = volume * UNIT * UNIT * UNIT\n",
        "  else:\n",
        "    print(\"계산 가능한 용량 단위가 아니므로 다시 입력하세요\")\n",
        "  print(\"입력한 용량 \" + vol + \"은 \" + str(volume_res) + \" 바이트 입니다.\")"
      ],
      "metadata": {
        "colab": {
          "base_uri": "https://localhost:8080/"
        },
        "id": "KyzeubS8BKkw",
        "outputId": "56e9cdb5-bcc9-4467-cc7f-79037b406629"
      },
      "execution_count": 122,
      "outputs": [
        {
          "name": "stdout",
          "output_type": "stream",
          "text": [
            "용량을 입력하세요 10m\n",
            "입력한 용량 10m은 10485760 바이트 입니다.\n",
            "용량을 입력하세요 10k\n",
            "입력한 용량 10k은 10240 바이트 입니다.\n",
            "용량을 입력하세요 q\n"
          ]
        }
      ]
    },
    {
      "cell_type": "code",
      "source": [
        "# 숫자 맞추기 게임\n",
        "# 컴퓨터가 랜덤으로 숫자 하나를 결정 (1~100 사이의 수)\n",
        "# 유저가 입력하여 맞추는 게임\n",
        "# 입력된 숫자와, 컴퓨터가 선정한 수를 비교하여 입력된 수가 큰 수인지, 작은 수인지 확인\n",
        "# 무한루프로 작동하고, Q를 입력하면 중지하도록 한다. (맞춰도 중지)\n",
        "# 경우의 수 : 맞춘 경우, 숫자가 큰 경우, 작은 경우\n",
        "import random\n",
        "com = random.randint(1, 100)\n",
        "\n",
        "while 1:\n",
        "  user = input(\"숫자를 입력하세요 \")\n",
        "  if user.upper() == 'Q': \n",
        "    break\n",
        "  user = int(user)\n",
        "  if user == com:\n",
        "    print(\"맞췄습니다!\")\n",
        "    break\n",
        "  elif user > com:\n",
        "    print(\"작은 수를 입력하세요.\")\n",
        "  elif user < com:\n",
        "    print(\"큰 수를 입력하세요.\")"
      ],
      "metadata": {
        "colab": {
          "base_uri": "https://localhost:8080/"
        },
        "id": "Dv_jyHQJBKm0",
        "outputId": "7f532520-ba6a-4c58-df6d-173590fa0b22"
      },
      "execution_count": 129,
      "outputs": [
        {
          "name": "stdout",
          "output_type": "stream",
          "text": [
            "숫자를 입력하세요 15\n",
            "작은 수를 입력하세요.\n",
            "숫자를 입력하세요 7\n",
            "큰 수를 입력하세요.\n",
            "숫자를 입력하세요 q\n"
          ]
        }
      ]
    },
    {
      "cell_type": "code",
      "source": [
        "# 문제\n",
        "# 위 프로그램이 무한 반복하도록 하고, 6번 이상 도전 시 패배한 것으로 처리\n",
        "# 게임 종료 시 전적 (승, 패) 출력\n",
        "import random\n",
        "import sys\n",
        "tot_game = 0\n",
        "win = 0\n",
        "while True:\n",
        "  com = random.randint(1, 100)\n",
        "  tot_game += 1\n",
        "  game = 0\n",
        "  while (1):\n",
        "    user = input(\"숫자를 입력하세요 \")\n",
        "    game += 1\n",
        "    if user.upper() == 'Q':\n",
        "      print(\"게임수: \", tot_game-1, \" 이긴게임수: \", win, \" 진 게임수: \", tot_game - win - 1)\n",
        "      sys.exit(0)  # 종료\n",
        "    user = int(user)\n",
        "    if user > com:\n",
        "      print(\"작은 수를 입력하세요.\")\n",
        "    elif user < com:\n",
        "      print(\"큰 수를 입력하세요.\")\n",
        "    else:\n",
        "      win += 1\n",
        "      print(\"맞췄습니다!\")\n",
        "      break\n",
        "    if game >= 6:\n",
        "      print(\"당신이 졌습니다. 정답은 %d입니다.\" % com)\n",
        "      break"
      ],
      "metadata": {
        "colab": {
          "base_uri": "https://localhost:8080/",
          "height": 413
        },
        "id": "FwuRlcrbFSuD",
        "outputId": "a41504aa-532b-4976-b7e4-5571b8733dd7"
      },
      "execution_count": 135,
      "outputs": [
        {
          "output_type": "stream",
          "name": "stdout",
          "text": [
            "숫자를 입력하세요 50\n",
            "작은 수를 입력하세요.\n",
            "숫자를 입력하세요 25\n",
            "큰 수를 입력하세요.\n",
            "숫자를 입력하세요 37\n",
            "큰 수를 입력하세요.\n",
            "숫자를 입력하세요 45\n",
            "작은 수를 입력하세요.\n",
            "숫자를 입력하세요 41\n",
            "작은 수를 입력하세요.\n",
            "숫자를 입력하세요 39\n",
            "맞췄습니다!\n",
            "숫자를 입력하세요 q\n",
            "게임수:  1  이긴게임수:  1  진 게임수:  0\n"
          ]
        },
        {
          "output_type": "error",
          "ename": "SystemExit",
          "evalue": "ignored",
          "traceback": [
            "An exception has occurred, use %tb to see the full traceback.\n",
            "\u001b[0;31mSystemExit\u001b[0m\u001b[0;31m:\u001b[0m 0\n"
          ]
        },
        {
          "output_type": "stream",
          "name": "stderr",
          "text": [
            "/usr/local/lib/python3.9/dist-packages/IPython/core/interactiveshell.py:3561: UserWarning: To exit: use 'exit', 'quit', or Ctrl-D.\n",
            "  warn(\"To exit: use 'exit', 'quit', or Ctrl-D.\", stacklevel=1)\n"
          ]
        }
      ]
    },
    {
      "cell_type": "code",
      "source": [
        "# 문제\n",
        "# 서비스 차원에서 매 게임마다 평균 몇 변 시도했는지를 출력하는 회로를 추가\n",
        "\n",
        "import random\n",
        "import sys\n",
        "tot_game = 0\n",
        "win = 0\n",
        "tot_attempt = []\n",
        "\n",
        "while True:\n",
        "  number = random.randint(1, 100)\n",
        "  game = 0\n",
        "  tot_game += 1\n",
        "  while (1):\n",
        "    user = input(\"숫자를 입력하세요 \")\n",
        "    game += 1  # 시도횟수\n",
        "    if user.upper() == 'Q':\n",
        "      print(\"게임수: \", tot_game-1, \" 이긴게임수: \", win, \" 진 게임수: \", tot_game - win - 1)\n",
        "      game_tot = sum(tot_attempt) / tot_game-1  # 오류뜸 \n",
        "      print(\"평균시도횟수: \", game_tot)\n",
        "      sys.exit(0)  # 종료\n",
        "      break \n",
        "    user = int(user)\n",
        "    if user > number:\n",
        "      print(\"작은 수를 입력하세요\")\n",
        "    elif user < number:\n",
        "      print(\"큰 수를 입력하세요\")\n",
        "    else:\n",
        "      win += 1\n",
        "      tot_attempt.append(game)\n",
        "      print('정답입니다')\n",
        "      break\n",
        "    if game >= 6:\n",
        "      print(\"패배\")\n",
        "      tot_attempt.append(game)\n",
        "      break\n"
      ],
      "metadata": {
        "colab": {
          "base_uri": "https://localhost:8080/",
          "height": 615
        },
        "id": "Z9G31B3sFSwR",
        "outputId": "bbd8488b-8b55-4284-c3e0-db162495d2de"
      },
      "execution_count": 138,
      "outputs": [
        {
          "output_type": "stream",
          "name": "stdout",
          "text": [
            "숫자를 입력하세요 50\n",
            "작은 수를 입력하세요\n",
            "숫자를 입력하세요 25\n",
            "큰 수를 입력하세요\n",
            "숫자를 입력하세요 37\n",
            "큰 수를 입력하세요\n",
            "숫자를 입력하세요 43\n",
            "정답입니다\n",
            "숫자를 입력하세요 50\n",
            "큰 수를 입력하세요\n",
            "숫자를 입력하세요 75\n",
            "큰 수를 입력하세요\n",
            "숫자를 입력하세요 89\n",
            "큰 수를 입력하세요\n",
            "숫자를 입력하세요 93\n",
            "작은 수를 입력하세요\n",
            "숫자를 입력하세요 90\n",
            "정답입니다\n",
            "숫자를 입력하세요 q\n",
            "게임수:  2  이긴게임수:  2  진 게임수:  0\n"
          ]
        },
        {
          "output_type": "error",
          "ename": "TypeError",
          "evalue": "ignored",
          "traceback": [
            "\u001b[0;31m---------------------------------------------------------------------------\u001b[0m",
            "\u001b[0;31mTypeError\u001b[0m                                 Traceback (most recent call last)",
            "\u001b[0;32m<ipython-input-138-6860b4f4ea30>\u001b[0m in \u001b[0;36m<cell line: 11>\u001b[0;34m()\u001b[0m\n\u001b[1;32m     17\u001b[0m     \u001b[0;32mif\u001b[0m \u001b[0muser\u001b[0m\u001b[0;34m.\u001b[0m\u001b[0mupper\u001b[0m\u001b[0;34m(\u001b[0m\u001b[0;34m)\u001b[0m \u001b[0;34m==\u001b[0m \u001b[0;34m'Q'\u001b[0m\u001b[0;34m:\u001b[0m\u001b[0;34m\u001b[0m\u001b[0;34m\u001b[0m\u001b[0m\n\u001b[1;32m     18\u001b[0m       \u001b[0mprint\u001b[0m\u001b[0;34m(\u001b[0m\u001b[0;34m\"게임수: \"\u001b[0m\u001b[0;34m,\u001b[0m \u001b[0mtot_game\u001b[0m\u001b[0;34m-\u001b[0m\u001b[0;36m1\u001b[0m\u001b[0;34m,\u001b[0m \u001b[0;34m\" 이긴게임수: \"\u001b[0m\u001b[0;34m,\u001b[0m \u001b[0mwin\u001b[0m\u001b[0;34m,\u001b[0m \u001b[0;34m\" 진 게임수: \"\u001b[0m\u001b[0;34m,\u001b[0m \u001b[0mtot_game\u001b[0m \u001b[0;34m-\u001b[0m \u001b[0mwin\u001b[0m \u001b[0;34m-\u001b[0m \u001b[0;36m1\u001b[0m\u001b[0;34m)\u001b[0m\u001b[0;34m\u001b[0m\u001b[0;34m\u001b[0m\u001b[0m\n\u001b[0;32m---> 19\u001b[0;31m       \u001b[0mgame_tot\u001b[0m \u001b[0;34m=\u001b[0m \u001b[0msum\u001b[0m\u001b[0;34m(\u001b[0m\u001b[0mtot_attempt\u001b[0m\u001b[0;34m)\u001b[0m \u001b[0;34m/\u001b[0m \u001b[0mtot_game\u001b[0m\u001b[0;34m-\u001b[0m\u001b[0;36m1\u001b[0m\u001b[0;34m\u001b[0m\u001b[0;34m\u001b[0m\u001b[0m\n\u001b[0m\u001b[1;32m     20\u001b[0m       \u001b[0mprint\u001b[0m\u001b[0;34m(\u001b[0m\u001b[0;34m\"평균시도횟수: \"\u001b[0m\u001b[0;34m,\u001b[0m \u001b[0mgame_tot\u001b[0m\u001b[0;34m)\u001b[0m\u001b[0;34m\u001b[0m\u001b[0;34m\u001b[0m\u001b[0m\n\u001b[1;32m     21\u001b[0m       \u001b[0msys\u001b[0m\u001b[0;34m.\u001b[0m\u001b[0mexit\u001b[0m\u001b[0;34m(\u001b[0m\u001b[0;36m0\u001b[0m\u001b[0;34m)\u001b[0m  \u001b[0;31m# 종료\u001b[0m\u001b[0;34m\u001b[0m\u001b[0;34m\u001b[0m\u001b[0m\n",
            "\u001b[0;31mTypeError\u001b[0m: 'int' object is not callable"
          ]
        }
      ]
    },
    {
      "cell_type": "code",
      "source": [
        "[i for i in range(10)]  # 패턴 / 규칙이 있는 수를 발생 : 내장 리스트"
      ],
      "metadata": {
        "colab": {
          "base_uri": "https://localhost:8080/"
        },
        "id": "cIuOgWV6FSyU",
        "outputId": "b2ae2b37-a357-4608-be08-148d7ab4e21b"
      },
      "execution_count": 139,
      "outputs": [
        {
          "output_type": "execute_result",
          "data": {
            "text/plain": [
              "[0, 1, 2, 3, 4, 5, 6, 7, 8, 9]"
            ]
          },
          "metadata": {},
          "execution_count": 139
        }
      ]
    },
    {
      "cell_type": "code",
      "source": [
        "[i**2 for i in range(10)]  # 제곱수로도 가능"
      ],
      "metadata": {
        "colab": {
          "base_uri": "https://localhost:8080/"
        },
        "id": "tPimgrWcFS1h",
        "outputId": "cf223f79-0c94-49ec-85a8-d1efa556a3a4"
      },
      "execution_count": 142,
      "outputs": [
        {
          "output_type": "execute_result",
          "data": {
            "text/plain": [
              "[0, 1, 4, 9, 16, 25, 36, 49, 64, 81]"
            ]
          },
          "metadata": {},
          "execution_count": 142
        }
      ]
    },
    {
      "cell_type": "code",
      "source": [
        "{i : i**3 for i in range(10)}  # 세제곱"
      ],
      "metadata": {
        "colab": {
          "base_uri": "https://localhost:8080/"
        },
        "id": "TapEsYufFS25",
        "outputId": "27b349c8-2a94-4124-e2ca-d84fd01f00d7"
      },
      "execution_count": 143,
      "outputs": [
        {
          "output_type": "execute_result",
          "data": {
            "text/plain": [
              "{0: 0, 1: 1, 2: 8, 3: 27, 4: 64, 5: 125, 6: 216, 7: 343, 8: 512, 9: 729}"
            ]
          },
          "metadata": {},
          "execution_count": 143
        }
      ]
    },
    {
      "cell_type": "code",
      "source": [
        "{i**2 for i in range(10) if i%2 == 0}  # 짝수의 제곱 (내장 리스트에 조건문을 달 수도 있다.)"
      ],
      "metadata": {
        "colab": {
          "base_uri": "https://localhost:8080/"
        },
        "id": "CEJO3rdCFS5G",
        "outputId": "3cdccf72-71c3-4cb9-827d-b630e94e043b"
      },
      "execution_count": 145,
      "outputs": [
        {
          "output_type": "execute_result",
          "data": {
            "text/plain": [
              "{0, 4, 16, 36, 64}"
            ]
          },
          "metadata": {},
          "execution_count": 145
        }
      ]
    },
    {
      "cell_type": "code",
      "source": [
        "rows = range(1, 5)    # 4\n",
        "cols = range(10, 15)  # 5가지\n",
        "vectors = [(r, c) for r in rows for c in cols]  # 튜플로 만들어서 리스트로 삽입됨.\n",
        "vectors"
      ],
      "metadata": {
        "colab": {
          "base_uri": "https://localhost:8080/"
        },
        "id": "oAYaT4kMTY2h",
        "outputId": "24bd8617-5255-452f-d835-0e388a356e73"
      },
      "execution_count": 146,
      "outputs": [
        {
          "output_type": "execute_result",
          "data": {
            "text/plain": [
              "[(1, 10),\n",
              " (1, 11),\n",
              " (1, 12),\n",
              " (1, 13),\n",
              " (1, 14),\n",
              " (2, 10),\n",
              " (2, 11),\n",
              " (2, 12),\n",
              " (2, 13),\n",
              " (2, 14),\n",
              " (3, 10),\n",
              " (3, 11),\n",
              " (3, 12),\n",
              " (3, 13),\n",
              " (3, 14),\n",
              " (4, 10),\n",
              " (4, 11),\n",
              " (4, 12),\n",
              " (4, 13),\n",
              " (4, 14)]"
            ]
          },
          "metadata": {},
          "execution_count": 146
        }
      ]
    },
    {
      "cell_type": "code",
      "source": [
        "# 문제\n",
        "# rows에 있는 수와 cols에 있는 수 중에 홀수만 선택하여 조합\n",
        "vectors = [(r, c) for r in rows if r%2 for c in cols if c%2]\n",
        "vectors"
      ],
      "metadata": {
        "colab": {
          "base_uri": "https://localhost:8080/"
        },
        "id": "aSFZ2YZCFS6h",
        "outputId": "6f24cee7-ae82-40cd-c0cf-afbb16e39ea3"
      },
      "execution_count": 147,
      "outputs": [
        {
          "output_type": "execute_result",
          "data": {
            "text/plain": [
              "[(1, 11), (1, 13), (3, 11), (3, 13)]"
            ]
          },
          "metadata": {},
          "execution_count": 147
        }
      ]
    },
    {
      "cell_type": "code",
      "source": [
        "# 문제\n",
        "# 1부터 20 사이의 수 중에, 3의 배수, 5의 배수인 경우 숫자 다음에\n",
        "# '3의 배수', '5의 배수'와 같이 출력\n",
        "\n",
        "# 관계 연산자는 true, false를 리턴 (수식에서는 True=1, False=0)\n",
        "# or은, 앞이 True일 때 뒤는 계산하지 않음\n",
        "[\"3의 배수\" * (i % 3 == 0) + \"5의 배수\" * (i % 5 == 0) or i for i in range(1, 21)]"
      ],
      "metadata": {
        "colab": {
          "base_uri": "https://localhost:8080/"
        },
        "id": "BA7ayy3rFS8R",
        "outputId": "5cd4aab4-1e0a-468a-b533-cd2a24921a1d"
      },
      "execution_count": 150,
      "outputs": [
        {
          "output_type": "execute_result",
          "data": {
            "text/plain": [
              "[1,\n",
              " 2,\n",
              " '3의 배수',\n",
              " 4,\n",
              " '5의 배수',\n",
              " '3의 배수',\n",
              " 7,\n",
              " 8,\n",
              " '3의 배수',\n",
              " '5의 배수',\n",
              " 11,\n",
              " '3의 배수',\n",
              " 13,\n",
              " 14,\n",
              " '3의 배수5의 배수',\n",
              " 16,\n",
              " 17,\n",
              " '3의 배수',\n",
              " 19,\n",
              " '5의 배수']"
            ]
          },
          "metadata": {},
          "execution_count": 150
        }
      ]
    },
    {
      "cell_type": "code",
      "source": [
        "numberOfRows = int(input(\"숫자를 입력하세요: \"))\n",
        "for i in range(numberOfRows):\n",
        "  for j in range(i+1):\n",
        "    print(\"*\", end=\"\")\n",
        "  print()"
      ],
      "metadata": {
        "colab": {
          "base_uri": "https://localhost:8080/"
        },
        "id": "UopVrj4bFS9x",
        "outputId": "96fb92ea-5289-4404-cf5f-225de7cfe247"
      },
      "execution_count": 155,
      "outputs": [
        {
          "output_type": "stream",
          "name": "stdout",
          "text": [
            "숫자를 입력하세요: 10\n",
            "*\n",
            "**\n",
            "***\n",
            "****\n",
            "*****\n",
            "******\n",
            "*******\n",
            "********\n",
            "*********\n",
            "**********\n"
          ]
        }
      ]
    },
    {
      "cell_type": "code",
      "source": [
        "numberOfRows = int(input(\"숫자를 입력하세요: \"))\n",
        "for i in range(numberOfRows):\n",
        "  for k in range(numberOfRows - i):  # i가 증가할 수록 공백이 줄어듬\n",
        "    print(\" \", end=\"\")\n",
        "  for j in range(i+1):\n",
        "    print(\"*\", end=\"\")\n",
        "  print()"
      ],
      "metadata": {
        "colab": {
          "base_uri": "https://localhost:8080/"
        },
        "id": "YWjE89kiFS_h",
        "outputId": "70d4cfd7-334e-494d-cf2e-03d6b208d72f"
      },
      "execution_count": 154,
      "outputs": [
        {
          "output_type": "stream",
          "name": "stdout",
          "text": [
            "숫자를 입력하세요: 10\n",
            "          *\n",
            "         **\n",
            "        ***\n",
            "       ****\n",
            "      *****\n",
            "     ******\n",
            "    *******\n",
            "   ********\n",
            "  *********\n",
            " **********\n"
          ]
        }
      ]
    },
    {
      "cell_type": "code",
      "source": [
        "# 위의 코드를 단순화\n",
        "for i in range(1, 11):\n",
        "  print(' '*(10 - i), \"*\"*i)"
      ],
      "metadata": {
        "colab": {
          "base_uri": "https://localhost:8080/"
        },
        "id": "G5o0V4uNFTBK",
        "outputId": "981d690f-67e6-4529-af16-4b24c6418aa1"
      },
      "execution_count": 160,
      "outputs": [
        {
          "output_type": "stream",
          "name": "stdout",
          "text": [
            "          *\n",
            "         **\n",
            "        ***\n",
            "       ****\n",
            "      *****\n",
            "     ******\n",
            "    *******\n",
            "   ********\n",
            "  *********\n",
            " **********\n"
          ]
        }
      ]
    },
    {
      "cell_type": "code",
      "source": [
        "for n in range(1, 11):\n",
        "    print(' '*(10-n) + '*'*(2*n-1))"
      ],
      "metadata": {
        "colab": {
          "base_uri": "https://localhost:8080/"
        },
        "id": "1TIYDuYZFTDJ",
        "outputId": "e54e7853-0ddc-4cae-86a8-9f529ea327b1"
      },
      "execution_count": 170,
      "outputs": [
        {
          "output_type": "stream",
          "name": "stdout",
          "text": [
            "         *\n",
            "        ***\n",
            "       *****\n",
            "      *******\n",
            "     *********\n",
            "    ***********\n",
            "   *************\n",
            "  ***************\n",
            " *****************\n",
            "*******************\n"
          ]
        }
      ]
    },
    {
      "cell_type": "code",
      "source": [
        "for i in range(10):\n",
        "  for j in range(i+1):\n",
        "    print(\"*\", end=\" \")\n",
        "  print()"
      ],
      "metadata": {
        "colab": {
          "base_uri": "https://localhost:8080/"
        },
        "id": "j-rn9TVsFTFK",
        "outputId": "089c076f-b9be-4e67-8da8-74eeb41f2e3e"
      },
      "execution_count": 172,
      "outputs": [
        {
          "output_type": "stream",
          "name": "stdout",
          "text": [
            "* \n",
            "* * \n",
            "* * * \n",
            "* * * * \n",
            "* * * * * \n",
            "* * * * * * \n",
            "* * * * * * * \n",
            "* * * * * * * * \n",
            "* * * * * * * * * \n",
            "* * * * * * * * * * \n"
          ]
        }
      ]
    },
    {
      "cell_type": "code",
      "source": [
        "for i in range(1, 21):\n",
        "  if i <= 10:\n",
        "    print(\"*\" * i)\n",
        "  else:\n",
        "    print(\"*\" * (20 - i))"
      ],
      "metadata": {
        "colab": {
          "base_uri": "https://localhost:8080/"
        },
        "id": "Xhgx60l7FTHC",
        "outputId": "2f39e042-0a34-4f9b-c4ce-52f96d701714"
      },
      "execution_count": 176,
      "outputs": [
        {
          "output_type": "stream",
          "name": "stdout",
          "text": [
            "*\n",
            "**\n",
            "***\n",
            "****\n",
            "*****\n",
            "******\n",
            "*******\n",
            "********\n",
            "*********\n",
            "**********\n",
            "*********\n",
            "********\n",
            "*******\n",
            "******\n",
            "*****\n",
            "****\n",
            "***\n",
            "**\n",
            "*\n",
            "\n"
          ]
        }
      ]
    },
    {
      "cell_type": "code",
      "source": [
        "for i in range(1, 11):\n",
        "  print(\"*\" * i + \" \" * (10-i) + \" \" * (10-i) + \"*\" * i)"
      ],
      "metadata": {
        "colab": {
          "base_uri": "https://localhost:8080/"
        },
        "id": "USHwUFU2_5WC",
        "outputId": "e5451ec8-fb9b-4c14-f980-328c1658f6a5"
      },
      "execution_count": 184,
      "outputs": [
        {
          "output_type": "stream",
          "name": "stdout",
          "text": [
            "*                  *\n",
            "**                **\n",
            "***              ***\n",
            "****            ****\n",
            "*****          *****\n",
            "******        ******\n",
            "*******      *******\n",
            "********    ********\n",
            "*********  *********\n",
            "********************\n"
          ]
        }
      ]
    },
    {
      "cell_type": "code",
      "source": [
        "for i in range(1, 21):\n",
        "  if i <= 10:\n",
        "    print(\"*\" * i + \" \" * (10-i) + \" \" * (10-i) + \"*\" * i)\n",
        "  else:\n",
        "    print(\"*\" * (20-i) + \" \" * (i-10) + \" \" * (i-10) + \"*\" * (20-i))"
      ],
      "metadata": {
        "colab": {
          "base_uri": "https://localhost:8080/"
        },
        "id": "dMi4wZ2LeDkg",
        "outputId": "83623f83-b448-43b4-e5d3-b4a933c47d91"
      },
      "execution_count": 191,
      "outputs": [
        {
          "output_type": "stream",
          "name": "stdout",
          "text": [
            "*                  *\n",
            "**                **\n",
            "***              ***\n",
            "****            ****\n",
            "*****          *****\n",
            "******        ******\n",
            "*******      *******\n",
            "********    ********\n",
            "*********  *********\n",
            "********************\n",
            "*********  *********\n",
            "********    ********\n",
            "*******      *******\n",
            "******        ******\n",
            "*****          *****\n",
            "****            ****\n",
            "***              ***\n",
            "**                **\n",
            "*                  *\n",
            "                    \n"
          ]
        }
      ]
    },
    {
      "cell_type": "code",
      "source": [
        "for i in range(1, 11):\n",
        "  print(\"*\" * (11-i) + \" \" * (i-1) + \" \" * (i-1) + \"*\" * (11-i))"
      ],
      "metadata": {
        "colab": {
          "base_uri": "https://localhost:8080/"
        },
        "id": "QFATx_YreDmZ",
        "outputId": "6cd1e222-6f2f-4e37-fb82-9f159ca923d7"
      },
      "execution_count": 193,
      "outputs": [
        {
          "output_type": "stream",
          "name": "stdout",
          "text": [
            "********************\n",
            "*********  *********\n",
            "********    ********\n",
            "*******      *******\n",
            "******        ******\n",
            "*****          *****\n",
            "****            ****\n",
            "***              ***\n",
            "**                **\n",
            "*                  *\n"
          ]
        }
      ]
    }
  ]
}