{
  "nbformat": 4,
  "nbformat_minor": 0,
  "metadata": {
    "colab": {
      "provenance": []
    },
    "kernelspec": {
      "name": "python3",
      "display_name": "Python 3"
    },
    "language_info": {
      "name": "python"
    }
  },
  "cells": [
    {
      "cell_type": "markdown",
      "source": [],
      "metadata": {
        "id": "yN1a6aXHxKXE"
      }
    },
    {
      "cell_type": "code",
      "source": [
        "import math\n",
        "\n",
        "class Point:  # 클래스 변수, 멤버 변수, 함수 지역변수\n",
        "  def __init__(self, x, y):  # 멤버 변수를 함수에서만 만들 수 있다.(멤버 변수 선언 / this의 개념)\n",
        "    self.x = x\n",
        "    self.y = y\n",
        "  def __repr__(self):  # 문자열 리턴 함수 (출력)\n",
        "    return '좌표는 (%d %d) ' % (self.x, self.y)\n",
        "  def origindist(self):\n",
        "    return math.sqrt(self.x**2 + self.y**2)  # 점 하나의 원점으로부터의 거리.\n",
        "  def dist(self, other):  # 두 점 사이의 거리값을 구하는 함수\n",
        "    distance = math.sqrt((self.x - other.x) **2 + (self.y - other.y) **2)\n",
        "    return distance\n",
        "  def collision(self, other):  # 충돌 여부 확인 함수\n",
        "    return self.dist(other) < 3  # True / False를 리턴\n",
        "  def collisionUI(self, other):\n",
        "    if self.dist(other):\n",
        "      print(\"충돌하였다.\")\n",
        "    else:\n",
        "      print(\"충돌하지 않았다.\")\n",
        "\n",
        "first = Point(7, 3)\n",
        "second = Point(4, 7)\n",
        "\n",
        "print(first)\n",
        "print(second)\n",
        "print('두점 사이 거리는', first.dist(second))\n",
        "first.collisionUI(second)\n",
        "if first.collision(second):\n",
        "  print('충돌하였다.')\n",
        "else:\n",
        "  print(\"충돌하지 않았다.\")"
      ],
      "metadata": {
        "colab": {
          "base_uri": "https://localhost:8080/"
        },
        "id": "V0v7qeA6xKfD",
        "outputId": "89ceedde-78a0-4d66-9501-c8c593d4685c"
      },
      "execution_count": 4,
      "outputs": [
        {
          "output_type": "stream",
          "name": "stdout",
          "text": [
            "좌표는 (7 3) \n",
            "좌표는 (4 7) \n",
            "두점 사이 거리는 5.0\n",
            "충돌하였다.\n",
            "충돌하지 않았다.\n"
          ]
        }
      ]
    },
    {
      "cell_type": "code",
      "source": [
        "class Circle:\n",
        "  def __init__(self, center, radius):\n",
        "    self.center = center  # Point : Association 관계\n",
        "    self.radius = radius\n",
        "  def area_calc(self):\n",
        "    return math.pi * float(self.radius**2)\n",
        "  def perimeter(self):\n",
        "    return 2*math.pi*self.radius\n",
        "  def collision(self, other):\n",
        "    if self.center.dist(other.center) < self.radius + other.radius:\n",
        "      result = \"충돌\"\n",
        "    else:\n",
        "      result = \"충돌 안함\"\n",
        "    return result\n",
        "  def __repr__(self):\n",
        "    return '원의 중심은' + str(self.center) + '반지름은 ' + str(self.radius)\n",
        "\n",
        "first = Point(7, 3)\n",
        "secone = Point(4, 7)\n",
        "\n",
        "cir = Circle(first, 1)  # 중심점에 대한 데이터가 밖에 있다. (Association 관계)\n",
        "cir2 = Circle(second, 5)\n",
        "print(cir)\n",
        "print(cir2)\n",
        "cir.collision(cir2)"
      ],
      "metadata": {
        "colab": {
          "base_uri": "https://localhost:8080/",
          "height": 72
        },
        "id": "5Xfz5ClixKhK",
        "outputId": "abbf94f5-c30f-45bd-bed6-51b3731534df"
      },
      "execution_count": 6,
      "outputs": [
        {
          "output_type": "stream",
          "name": "stdout",
          "text": [
            "원의 중심은좌표는 (7 3) 반지름은 1\n",
            "원의 중심은좌표는 (4 7) 반지름은 5\n"
          ]
        },
        {
          "output_type": "execute_result",
          "data": {
            "text/plain": [
              "'충돌'"
            ],
            "application/vnd.google.colaboratory.intrinsic+json": {
              "type": "string"
            }
          },
          "metadata": {},
          "execution_count": 6
        }
      ]
    },
    {
      "cell_type": "code",
      "source": [
        "# vector # 거리값: +,-,*,/\n",
        "# vec = [1, 2, 3], vec2 = [2, 3, 4]\n",
        "# 위의 두 벡터를 더하면, [3, 5, 7]\n",
        "# +,-,*,/ 인 경우 요소끼리 연산 : 연산자 오버로딩이 필요함.\n",
        "# int형인 경우 : 10+20 = 30 / String형인 경우: 'str'+'Str' = strStr\n",
        "# Vector(10, 20) + Vector(20, 30) = Vector(30, 50)\n",
        "class Vector:  # 거리값, 방향값\n",
        "  def __init__(self, x, y):\n",
        "    self.x = x\n",
        "    self.y = y\n",
        "  def __add__(self, other):\n",
        "    return Vector(self.x + other.x, self.y + other.y)\n",
        "  def __mul__(self, other):\n",
        "    return Vector(self.x * other.x, self.y * other.y)\n",
        "  def __sub__(self, other):\n",
        "    return Vector(self.x - other.x, self.y - other.y)\n",
        "  def __truediv__(self, other):\n",
        "    return Vector(self.x / other.x, self.y / other.y)\n",
        "  def __repr__(self):\n",
        "    return('(좌표는 %d, %d)' % (self.x, self.y))\n",
        "\n",
        "f = Vector(100, 23)\n",
        "g = Vector(20, 27)\n",
        "print(f)\n",
        "print(f+g)\n",
        "print(f-g)\n",
        "print(f*g)\n",
        "print(f/g)"
      ],
      "metadata": {
        "colab": {
          "base_uri": "https://localhost:8080/"
        },
        "id": "iFuyByG13DY0",
        "outputId": "570a9070-6c47-439e-b2fc-d2a82d43440f"
      },
      "execution_count": 8,
      "outputs": [
        {
          "output_type": "stream",
          "name": "stdout",
          "text": [
            "(좌표는 100, 23)\n",
            "(좌표는 120, 50)\n",
            "(좌표는 80, -4)\n",
            "(좌표는 2000, 621)\n",
            "(좌표는 5, 0)\n"
          ]
        }
      ]
    },
    {
      "cell_type": "markdown",
      "source": [
        "# Vector 연산\n",
        "- 단일 벡터인 경우 : 크기(norm)와 방향(normalize)\n",
        "- 두개의 벡터인 경우\n",
        "  - 요소끼리 연산하는 경우 (벡터의 +,-,*,/)\n",
        "  - 두 벡터의 크기값(거리값) : dist\n",
        "  - 두 벡터의 내적 및 사이각 (dot, theta)"
      ],
      "metadata": {
        "id": "5SJbbJplBTiq"
      }
    },
    {
      "cell_type": "code",
      "source": [
        "# 3차원 벡터(x, y, z)\n",
        "class Vector:  # 거리값, 방향값\n",
        "  def __init__(self, x, y, z):\n",
        "    self.x = x\n",
        "    self.y = y\n",
        "    self.z = z\n",
        "  def __add__(self, other):\n",
        "    return Vector(self.x + other.x, self.y + other.y, self.z + other.z)\n",
        "  def __mul__(self, other):\n",
        "    return Vector(self.x * other.x, self.y * other.y, self.x * other.z)\n",
        "  def __sub__(self, other):\n",
        "    return Vector(self.x - other.x, self.y - other.y, self.z - other.y)\n",
        "  def __truediv__(self, other):\n",
        "    return Vector(self.x / other.x, self.y / other.y, self.z / other.z)\n",
        "  def __repr__(self):\n",
        "    return('(좌표는 %d, %d, %d)' % (self.x, self.y, self.z))\n",
        "  def norm(self):   # 크기값만 구할 때\n",
        "    return math.sqrt(self.x **2 + self.y **2 + self.z **2)\n",
        "  def normalize(self):  # 방향값만 구할 때\n",
        "    norm = self.norm()\n",
        "    return (self.x / norm, self.y / norm, self.z / norm)  # 크기값은 1인 값으로 변환.\n",
        "  def dist(self, other):\n",
        "    return math.sqrt((self.x - other.x)**2 + (self.y - other.y) **2 + (self.z - other.z) **2)\n",
        "  def dot(self, other):  # 내적\n",
        "    return (self.x * other.x + self.y * other.y + self.z * other.z)\n",
        "  def costheta(self, other):\n",
        "    dot = self.dot(other)\n",
        "    norm1 = self.norm()   # A\n",
        "    norm2 = other.norm()  # B\n",
        "    return dot / (norm1 * norm2)\n",
        "  def theta(self, other):\n",
        "    costheta = self.costheta(other)\n",
        "    return math.acos(costheta) * (180 / math.pi)  # 라디안을 degree로 변환.\n",
        "  # 나중에 선언한 것이 우선 (오버로딩이 안된다.)\n",
        "  def __repr__(self):\n",
        "    return 'x: ' + str(self.x) + ' y:' + str(self.y) + ' z:' + str(self.z)"
      ],
      "metadata": {
        "id": "PE_9g_oY3Dbi"
      },
      "execution_count": 21,
      "outputs": []
    },
    {
      "cell_type": "code",
      "source": [
        "f = Vector(10, 0, 0)\n",
        "g = Vector(0, 27, 0)  # 내적은 0, 각도로는 90도\n",
        "\n",
        "print(f)\n",
        "print(g)\n",
        "print(f+g)\n",
        "print('f 벡터의 크기: ', f.norm())\n",
        "print('g 벡터의 크기: ', g.norm())\n",
        "print('f의 normalize: ', f.normalize())    # 방향값\n",
        "print('g의 normalize: ', g.normalize())\n",
        "print('두 벡터의 내적: ', f.dot(g))        # 0\n",
        "print('두 벡터의 사이각은: ', f.theta(g))  # 90도\n",
        "print('두 벡터의 코사인 사이각: ', f.costheta(g))  # 0"
      ],
      "metadata": {
        "colab": {
          "base_uri": "https://localhost:8080/"
        },
        "id": "6tfg3wjQ3DgS",
        "outputId": "8535492c-6332-4d6a-96fa-5378d26a080d"
      },
      "execution_count": 25,
      "outputs": [
        {
          "output_type": "stream",
          "name": "stdout",
          "text": [
            "x: 10 y:0 z:0\n",
            "x: 0 y:27 z:0\n",
            "x: 10 y:27 z:0\n",
            "f 벡터의 크기:  10.0\n",
            "g 벡터의 크기:  27.0\n",
            "f의 normalize:  (1.0, 0.0, 0.0)\n",
            "g의 normalize:  (0.0, 1.0, 0.0)\n",
            "두 벡터의 내적:  0\n",
            "두 벡터의 사이각은:  90.0\n",
            "두 벡터의 코사인 사이각:  0.0\n"
          ]
        }
      ]
    },
    {
      "cell_type": "code",
      "source": [
        "# 리스트 : List\n",
        "d = {'one':1, 'two':2}\n",
        "print(d.items())\n",
        "print(d.keys())\n",
        "print(d.values())  # 데이터 리스트 \n",
        "d['one']"
      ],
      "metadata": {
        "colab": {
          "base_uri": "https://localhost:8080/"
        },
        "id": "GVKhUBJR3Dh6",
        "outputId": "71868578-219f-4351-b5f2-73dcf21a098e"
      },
      "execution_count": 27,
      "outputs": [
        {
          "output_type": "stream",
          "name": "stdout",
          "text": [
            "dict_items([('one', 1), ('two', 2)])\n",
            "dict_keys(['one', 'two'])\n",
            "dict_values([1, 2])\n"
          ]
        },
        {
          "output_type": "execute_result",
          "data": {
            "text/plain": [
              "1"
            ]
          },
          "metadata": {},
          "execution_count": 27
        }
      ]
    },
    {
      "cell_type": "code",
      "source": [
        "d = {'a':10, 'b':20, 'c':30}\n",
        "print(d['a'])\n",
        "print(d.get('z', -1))\n",
        "print(d.__class__)"
      ],
      "metadata": {
        "colab": {
          "base_uri": "https://localhost:8080/"
        },
        "id": "H1IpRylN3Dji",
        "outputId": "8074b2a5-180d-4f9e-ea0b-4f94c63879bb"
      },
      "execution_count": 28,
      "outputs": [
        {
          "output_type": "stream",
          "name": "stdout",
          "text": [
            "10\n",
            "-1\n",
            "<class 'dict'>\n"
          ]
        }
      ]
    },
    {
      "cell_type": "code",
      "source": [
        "name = {}  # 중괄호로 초기화하면 dict, set\n",
        "add = {}  \n",
        "add = {'서울'}  # 키 - set\n",
        "name['kim'] = '충북'   # 입력\n",
        "name['대한'] = '서울'\n",
        "name['대한'] = add     # 수정\n",
        "print(name['kim'])\n",
        "name"
      ],
      "metadata": {
        "colab": {
          "base_uri": "https://localhost:8080/"
        },
        "id": "txEglv_v3DlJ",
        "outputId": "ef8f5dd1-9477-4d7b-9bb2-8e4f06dce912"
      },
      "execution_count": 29,
      "outputs": [
        {
          "output_type": "stream",
          "name": "stdout",
          "text": [
            "충북\n"
          ]
        },
        {
          "output_type": "execute_result",
          "data": {
            "text/plain": [
              "{'kim': '충북', '대한': {'서울'}}"
            ]
          },
          "metadata": {},
          "execution_count": 29
        }
      ]
    },
    {
      "cell_type": "code",
      "source": [
        "del(name['kim'])\n",
        "name"
      ],
      "metadata": {
        "colab": {
          "base_uri": "https://localhost:8080/"
        },
        "id": "6Td0Gn7t3DnC",
        "outputId": "e0c8ff55-2cc3-4176-9818-f412ec12bae1"
      },
      "execution_count": 30,
      "outputs": [
        {
          "output_type": "execute_result",
          "data": {
            "text/plain": [
              "{'대한': {'서울'}}"
            ]
          },
          "metadata": {},
          "execution_count": 30
        }
      ]
    },
    {
      "cell_type": "code",
      "source": [
        "adbook = {'고효경':['번호:010.1234.5678', '주소:서대문구'],\n",
        "          '양다혜':['번호:010.9876.5432', '주소:양천구']}\n",
        "def create(adbook):\n",
        "  name = input(\"이름을 입력하세요: \")\n",
        "  callnum = input(\"전화번호를 입력하세요: \")\n",
        "  add = input(\"주소를 입력하세요: \")\n",
        "  tot = []\n",
        "  tot.append('번호: %s' %callnum)\n",
        "  tot.append('주소: %s' %add)\n",
        "  newperson = {name:tot}\n",
        "  adbook.update(newperson)\n",
        "  print(adbook)\n",
        "  return\n",
        "\n",
        "def read(adbook):\n",
        "  name = input(\"이름을 입력하세요: \")\n",
        "  if name in adbook:\n",
        "    print(name, adbook.get(name))\n",
        "  else:\n",
        "    print(\"찾는 이름이 없습니다.\")\n",
        "  return\n",
        "\n",
        "def update(adbook):\n",
        "  name = input(\"이름을 입력하세요: \")\n",
        "  if name in adbook:\n",
        "    a = adbook.get(name)\n",
        "    keys = input(\"번호수정[0], 주소수정[1] 입력하세요: \")\n",
        "    if keys == 0:\n",
        "      b = input(\"수정할 번호 입력: \")\n",
        "      a[0] = '번호: %s' %b\n",
        "    elif keys == 1:\n",
        "      c = input(\"수정할 주소 입력: \")\n",
        "      a[1] = '주소: %s' %c\n",
        "    else:\n",
        "      print(\"찾는 이름이 없습니다.\")\n",
        "    print(name, adbook.get(name))\n",
        "    return\n",
        "\n",
        "def delete(adbook):\n",
        "  name = input(\"이름을 입력하세요: \")\n",
        "  if name in adbook:\n",
        "    del(adbook[name])\n",
        "    print(\"삭제 완료\", adbook)\n",
        "  else:\n",
        "    print(\"없는 이름입니다.\")\n",
        "  return"
      ],
      "metadata": {
        "id": "ot7zo-Ac3Doi"
      },
      "execution_count": 33,
      "outputs": []
    },
    {
      "cell_type": "code",
      "source": [
        "menu = ['새로운 사람 입력[1], 검색[2], 정보 수정[3], 삭제[4], 종료[9]']\n",
        "while 1:\n",
        "  sel = input(menu)\n",
        "  if sel == \"1\":\n",
        "    create(adbook);\n",
        "    continue\n",
        "  elif sel == \"2\":\n",
        "    read(adbook);\n",
        "    continue\n",
        "  elif sel == \"3\":\n",
        "    update(adbook);\n",
        "    continue\n",
        "  elif sel == \"4\":\n",
        "    delete(adbook);\n",
        "    continue\n",
        "  elif sel == \"9\":\n",
        "    print(\"종료합니다..\");\n",
        "    break\n",
        "  else:\n",
        "    print(\"잘못된 입력입니다.\");\n",
        "    continue"
      ],
      "metadata": {
        "colab": {
          "base_uri": "https://localhost:8080/"
        },
        "id": "m-hzNsog3DqZ",
        "outputId": "cf5e92b7-8de7-468a-d020-8ae4909078e8"
      },
      "execution_count": 36,
      "outputs": [
        {
          "output_type": "stream",
          "name": "stdout",
          "text": [
            "['새로운 사람 입력[1], 검색[2], 정보 수정[3], 삭제[4], 종료[9]']9\n",
            "종료합니다..\n"
          ]
        }
      ]
    },
    {
      "cell_type": "code",
      "source": [
        "# 상속\n",
        "base = dir(object)\n",
        "print(base)"
      ],
      "metadata": {
        "id": "erzs81P23DsK"
      },
      "execution_count": null,
      "outputs": []
    },
    {
      "cell_type": "code",
      "source": [
        "class Parent():        # 공통 부분을 정의하고, 공유\n",
        "  def myMethod(self):\n",
        "    print(\"부모 메서드\")\n",
        "  \n",
        "class Child(Parent):\n",
        "  def myMethod(self):  # 재정의\n",
        "    print(\"자식 메서드\")\n",
        "\n",
        "ch = Child()\n",
        "ch.myMethod()\n",
        "print(dir(ch))"
      ],
      "metadata": {
        "colab": {
          "base_uri": "https://localhost:8080/"
        },
        "id": "jSRyNO8I3Dt5",
        "outputId": "3d30056f-a524-4b34-d0ad-46ac1807c8ef"
      },
      "execution_count": 38,
      "outputs": [
        {
          "output_type": "stream",
          "name": "stdout",
          "text": [
            "자식 메서드\n",
            "['__class__', '__delattr__', '__dict__', '__dir__', '__doc__', '__eq__', '__format__', '__ge__', '__getattribute__', '__gt__', '__hash__', '__init__', '__init_subclass__', '__le__', '__lt__', '__module__', '__ne__', '__new__', '__reduce__', '__reduce_ex__', '__repr__', '__setattr__', '__sizeof__', '__str__', '__subclasshook__', '__weakref__', 'myMethod']\n"
          ]
        }
      ]
    },
    {
      "cell_type": "code",
      "source": [
        "class Parent:\n",
        "  parentAttr = 100\n",
        "  def __init__(self, name):  # 부모 클래스의 생성자 \n",
        "    self.name = name\n",
        "    print(\"부모 생성자\")\n",
        "  def parentMethod(self):\n",
        "    print(\"부모 메서드\", self.name)\n",
        "  def setAttr(self, attr):\n",
        "    Parent.parentAttr = attr\n",
        "  def getAttr(self):\n",
        "    print(\"부모 속성: \", Parent.parentAttr)\n",
        "\n",
        "class Child(Parent):   # 자식의 생성자가 없으면, 상속받은 부모의 생성자를 호출한다.\n",
        "  def __init__(self):  # 자식 클래스의 생성자 : 우선하여 호출\n",
        "    # 원칙 : 부모의 생성자를 명시적으로 호출하는 것이 불가능하다.\n",
        "    Parent.__init__(self, \"선문\")  # 부모의 생성자에 호출할 수 있음\n",
        "    print(\"자식 생성자\")\n",
        "  def childMethod(self):\n",
        "    print(\"자식 메서드\")\n",
        "  def print_attribute(self):\n",
        "    self.setAttr(500)\n",
        "    print(\"자식에게 호출된 부모의 속성: \", Parent.parentAttr)\n",
        "\n",
        "c = Child()\n",
        "c.parentMethod()"
      ],
      "metadata": {
        "colab": {
          "base_uri": "https://localhost:8080/"
        },
        "id": "RZbTLjNo3Dx0",
        "outputId": "53537db2-82d4-4706-9004-8d9574b647b2"
      },
      "execution_count": 40,
      "outputs": [
        {
          "output_type": "stream",
          "name": "stdout",
          "text": [
            "부모 생성자\n",
            "자식 생성자\n",
            "부모 메서드 선문\n"
          ]
        }
      ]
    },
    {
      "cell_type": "code",
      "source": [
        "import math\n",
        "class Point:\n",
        "  def __init__(self, x, y):\n",
        "    self.x = x\n",
        "    self.y = y\n",
        "  def translate(self, dx, dy):\n",
        "    self.x += dx\n",
        "    self.y += dy\n",
        "\n",
        "class Point3D(Point):\n",
        "  def __init__(self, x, y, z):\n",
        "    Point.__init__(self, x, y)\n",
        "    self.z = z\n",
        "\n",
        "  def translate(self, dx, dy, dz):\n",
        "    Point.translate(self, dx, dy)\n",
        "    self.z += dz"
      ],
      "metadata": {
        "id": "2gNKwYwV3DzR"
      },
      "execution_count": 42,
      "outputs": []
    },
    {
      "cell_type": "code",
      "source": [
        "# 문제\n",
        "import math\n",
        "class Point:  # assication하여 구현.\n",
        "  def __init__(self, x, y):\n",
        "    self.x = x\n",
        "    self.y = y\n",
        "\n",
        "class Shape:  # 상속 : 실수하지 않고 단일 이름으로 사용하기 위해.\n",
        "  def area_calc(self):\n",
        "    print(\"면적: \")\n",
        "  def perimeter(self):\n",
        "    print(\"둘레: \")\n",
        "# 클래스를 상속받아 Triangle, Rectangle, Circle의 둘레와 면적을 구하는 함수들을 오버라이딩하여 구현 \n",
        "\n",
        "class Triangle(Shape):\n",
        "  def __init__(self, top, left, right):  # Point (세 점)\n",
        "    self.top = top\n",
        "    self.left = left\n",
        "    self.right = right\n",
        "  def perimeter(self):  # 둘레 : 피타고라스 정리\n",
        "    top_left = math.sqrt((self.top.x - self.left.x) **2 + (self.top.y - self.left.y) **2)\n",
        "    left_right = math.sqrt((self.left.x - self.right.x) **2 + (self.left.y - self.right.y) **2)\n",
        "    right_top = math.sqrt((self.right.x - self.top.x) **2 + (self.right.y - self.top.y) **2)\n",
        "    return \"삼각형의 둘레는 \" + str(top_left + left_right + right_top)\n",
        "  # 내적은 사이각을 계산하기 위해 사용\n",
        "  # 외적은 광원(빛)을 얼마나 받는지? : 외적의 크기는 두 벡터가 이루는 마름모꼴의 넓이이다.\n",
        "  # 외적은 3차원이 되어야 가능하다 (z = 0으로 놓고 구함)\n",
        "  def area_calc(self):  # 면적 : 외적을 이용하여 삼각형의 면적을 구한다. (외적 : 구 벡터의 수직하는 벡터)\n",
        "    area = 0.5 * (abs(self.top.y - self.left.y) * abs(self.right.x - self.left.y)\n",
        "                -(self.top.x - self.left.x) * abs(self.right.y - self.left.y))\n",
        "    return \"삼각형의 면적은 \" + str(area)\n",
        "\n",
        "class Rectangle(Shape):\n",
        "  def __init__(self, lefttop, rightdown):\n",
        "    self.lefttop = lefttop\n",
        "    self.rightdown = rightdown\n",
        "  def area_calc(self):\n",
        "    area = abs((self.lefttop.x - self.rightdown.x) * (self.lefttop.y - self.rightdown.y))\n",
        "    return \"사각형의 면적은 \" + str(area)\n",
        "  def perimeter(self):\n",
        "    peri = abs(self.lefttop.x - self.rightdown.x)*2 + abs(self.lefttop.y - self.rightdown.y)*2\n",
        "    return \"사각형의 둘레는 \" + str(peri)\n",
        "\n",
        "class Circle(Shape):\n",
        "  def __init__(self, center, radius):  # Point가 들어온다는 전제조건 \n",
        "    self.center = center\n",
        "    self.radius = radius\n",
        "  def area_calc(self):\n",
        "    area = math.pi * float(self.radius^2)\n",
        "    return \"원의 면적은 \" + str(area)\n",
        "  def perimeter(self):\n",
        "    peri = 2 * math.pi * float(self.radius)\n",
        "    return \"원의 둘레는 \" + str(peri)\n",
        "\n",
        "import random\n",
        "# 파이썬에서는 상속 개념을 가지지 않아도, 가능하다. (패턴을 유지)\n",
        "# 반드시 오버라이딩할 수 있도록 생성.\n",
        "# 코드의 통일성을 가하기 위해 상속을 사용하여 해결 (꼭 사용하지는 않아도 된다.)\n",
        "shape_list = []  # 이질적인 데이터 (데이터 타입을 지정하지 않음)\n",
        "\n",
        "for i in range(100):\n",
        "  rand = random.randint(0, 10)\n",
        "  if rand % 3 == 0:\n",
        "    tri = Triangle(Point(10, 20), Point(0, 0), Point(20, 0))\n",
        "    shape_list.append(tri)\n",
        "  elif rand % 3 == 1:\n",
        "    rect = Rectangle(Point(10, 20), Point(20, 30))\n",
        "    shape_list.append(rect)\n",
        "  else:\n",
        "    circle = Circle(Point(10, 20), 5)\n",
        "    shape_list.append(circle)\n",
        "for i in range(10):\n",
        "  print(shape_list[i].area_calc())\n",
        "  print(shape_list[i].perimeter())"
      ],
      "metadata": {
        "colab": {
          "base_uri": "https://localhost:8080/"
        },
        "id": "jp89VmEKR0ug",
        "outputId": "aa77ead5-d334-4136-800d-64e7f410b528"
      },
      "execution_count": 46,
      "outputs": [
        {
          "output_type": "stream",
          "name": "stdout",
          "text": [
            "사각형의 면적은 100\n",
            "사각형의 둘레는 40\n",
            "삼각형의 면적은 200.0\n",
            "삼각형의 둘레는 64.7213595499958\n",
            "사각형의 면적은 100\n",
            "사각형의 둘레는 40\n",
            "삼각형의 면적은 200.0\n",
            "삼각형의 둘레는 64.7213595499958\n",
            "원의 면적은 21.991148575128552\n",
            "원의 둘레는 31.41592653589793\n",
            "사각형의 면적은 100\n",
            "사각형의 둘레는 40\n",
            "삼각형의 면적은 200.0\n",
            "삼각형의 둘레는 64.7213595499958\n",
            "원의 면적은 21.991148575128552\n",
            "원의 둘레는 31.41592653589793\n",
            "사각형의 면적은 100\n",
            "사각형의 둘레는 40\n",
            "원의 면적은 21.991148575128552\n",
            "원의 둘레는 31.41592653589793\n"
          ]
        }
      ]
    },
    {
      "cell_type": "code",
      "source": [
        "# 대표 타입 (부모 - delegate)\n",
        "# 유지보수 - 추가를 용이하게 하기 위해 design pattern을 사용한다.\n",
        "class Evaluation:\n",
        "  def printcalsGrade(self, average):\n",
        "    pass\n",
        "  \n",
        "class Hakjum(Evaluation):\n",
        "  def printcalcGrade(self, average):\n",
        "    if average >= 90:\n",
        "      return 'A'\n",
        "    elif average >= 80:\n",
        "      return 'B'\n",
        "    elif average >= 70:\n",
        "      return \"C\"\n",
        "    elif average >= 60:\n",
        "      return \"D\"\n",
        "    else:\n",
        "      return \"F\"\n",
        "  \n",
        "class Pass_Fail(Evaluation):\n",
        "  def printcalcGrade(self, average):\n",
        "    if average >= 60:\n",
        "      return \"합격\"\n",
        "    else:\n",
        "      return \"불합격\"\n",
        "\n",
        "# 문제\n",
        "# 합격 / 불합격으로 평가받는 클래스\n",
        "# 수.우.미.양.가로 평가하는 클래스를 만들어, 선택적으로 정할 수 있게 한다.\n",
        "\n",
        "class Pass_Evaluation(Evaluation):\n",
        "  def printcalcGrade(self, grade):\n",
        "    self.grade = grade\n",
        "\n",
        "class Element_Evaluation(Evaluation):\n",
        "  def printcalcGrade(self,average):\n",
        "    if average >= 90:\n",
        "      return \"수\"\n",
        "    if average >= 90:\n",
        "      return \"우\"\n",
        "    if average >= 90:\n",
        "      return \"미\"\n",
        "    if average >= 90:\n",
        "      return \"양\"\n",
        "    else:\n",
        "      return \"가\"\n",
        "\n",
        "class Evaluation_print:  # 운용\n",
        "  def print_evaluation(self, evaluation):\n",
        "    jumsu = eval(input(\"점수 입력\"))\n",
        "    print(evaluation.printcalcGrade(jumsu))\n",
        "\n",
        "ha = Hakjum()\n",
        "pf = Pass_Fail()\n",
        "ee = Element_Evaluation()\n",
        "ev = Evaluation_print()\n",
        "ev.print_evaluation(ee)\n",
        "evaluation_method = []\n",
        "evaluation_method.append(ha)\n",
        "evaluation_method.append(pf)\n",
        "evaluation_method.append(ee)\n",
        "for evalu in evaluation_method:\n",
        "  ev.print_evaluation(evalu)"
      ],
      "metadata": {
        "colab": {
          "base_uri": "https://localhost:8080/"
        },
        "id": "aDJCpw083D3C",
        "outputId": "0409e9ae-0bae-46d6-99df-0a52305f81e6"
      },
      "execution_count": 58,
      "outputs": [
        {
          "output_type": "stream",
          "name": "stdout",
          "text": [
            "점수 입력90\n",
            "수\n",
            "점수 입력80\n",
            "B\n",
            "점수 입력70\n",
            "합격\n",
            "점수 입력60\n",
            "가\n"
          ]
        }
      ]
    },
    {
      "cell_type": "code",
      "source": [
        "# 다이아몬드형 상속\n",
        "class A:\n",
        "  def m(self):\n",
        "    print(\"A.m() 호출\")\n",
        "class B(A):\n",
        "  def m(self):\n",
        "    print(\"B.m() 호출\")\n",
        "class C(A):\n",
        "  def m(self):\n",
        "    print(\"C.m() 호출\")\n",
        "class D(B, C):  # 다이아몬드형 다중상속 # C는 에러가 발생 # 자바에서는 불가능, 단독상속만 가능\n",
        "  pass\n",
        "dinc = D()\n",
        "dinc.m()"
      ],
      "metadata": {
        "colab": {
          "base_uri": "https://localhost:8080/"
        },
        "id": "vCXRQgC_3D6q",
        "outputId": "65e33e2b-74c0-4ecc-fb63-fa7099fc6377"
      },
      "execution_count": 59,
      "outputs": [
        {
          "output_type": "stream",
          "name": "stdout",
          "text": [
            "B.m() 호출\n"
          ]
        }
      ]
    },
    {
      "cell_type": "code",
      "source": [
        "class Person:\n",
        "  def __init__(self):         # __init__ = object\n",
        "    self.__name = '대한민국'  # __name   = private 멤버 변수\n",
        "    print(\"나는 일반인\")\n",
        "  def printname(self):\n",
        "    print(self.__name)\n",
        "\n",
        "class Student(Person):\n",
        "  def __init__(self):\n",
        "    self.name = '이성공'\n",
        "    Person.__init__(self)\n",
        "    print('나는 학생')\n",
        "\n",
        "class Worker(Person):\n",
        "  def __init__(self):\n",
        "    self.name = '박기술자'\n",
        "    Person.__init__(self)\n",
        "    print('나는 기술자')\n",
        "# 파이썬은 오버로딩이 없으니, 나중에 선언된 함수나 클래스가 우선과 같다.\n",
        "class PartTimer(Student, Worker):  # 뒤에 있는것이 찍힘 : 뒤에 있는 멤버 변수가 앞에 있는 멤버 변수를 지운다 (오버로딩의 개념)\n",
        "  def __init__(self):\n",
        "    Student.__init__(self)\n",
        "    Worker.__init__(self)\n",
        "    print('Student name')\n",
        "  def print(self):\n",
        "    print('결합')"
      ],
      "metadata": {
        "id": "McaROSY53D8y"
      },
      "execution_count": 60,
      "outputs": []
    },
    {
      "cell_type": "code",
      "source": [
        "pt = PartTimer()\n",
        "print(pt.print())  # 자식 함수\n",
        "print('테스트')\n",
        "print(pt.name)         # Worker(뒤에 있는 멤버변수)의 이름\n",
        "print(pt.printname())  # 부모의 이름"
      ],
      "metadata": {
        "colab": {
          "base_uri": "https://localhost:8080/"
        },
        "id": "S-7pCvvI29s1",
        "outputId": "89f0c285-bdb2-4708-ed30-10abd306d944"
      },
      "execution_count": 65,
      "outputs": [
        {
          "output_type": "stream",
          "name": "stdout",
          "text": [
            "나는 일반인\n",
            "나는 학생\n",
            "나는 일반인\n",
            "나는 기술자\n",
            "Student name\n",
            "결합\n",
            "None\n",
            "테스트\n",
            "박기술자\n",
            "대한민국\n",
            "None\n"
          ]
        }
      ]
    },
    {
      "cell_type": "code",
      "source": [
        "# 문제\n",
        "# 주민번호를 입력받아 초기화할 수 있도록 프로그램을 작성 \n",
        "# 파이썬은 오버로딩이 불가능하기에 @ classmethod 를 사용한다.\n",
        "# 주민번호 입력형식 : 000000-0000000\n",
        "# 생년월일\n",
        "# sex 1, 2 : 2000년도 이후에 태어난 사람 / 1900년대에 태어난 사람\n",
        "# 1, 2, 3, 4 % 2 == 홀수이면 남성, 짝수이면 여성\n",
        "class Person(object):\n",
        "  my_class_var = '대전융합교육원'\n",
        "  def __init__(self, year, month, day, sex):\n",
        "    self.year = year\n",
        "    self.month = month\n",
        "    self.day = day\n",
        "    self.sex = sex\n",
        "  def __str__(self):\n",
        "    return '{}년 {}월 {}일생 {}입니다.'.format(self.year, self.month, self.day, self.sex)\n",
        "\n",
        "  @classmethod\n",
        "  def ssn_constructor(cls, ssn):  # 어노테이션이 붙으면, 첫 번째 매개변수는 클래스(class, self 아님)\n",
        "    front, back = ssn.split('-')\n",
        "    sex = back[0]\n",
        "    if sex == '1' or sex == '2':\n",
        "      year = '19' + front[:2]\n",
        "    else:\n",
        "      year = '20' + front[:2]\n",
        "    if (int(sex) % 2) == 0:\n",
        "      sex = '여성'\n",
        "    else:\n",
        "      sex = '남성'\n",
        "    month = front[2:4]\n",
        "    day = front[4:6]\n",
        "    return cls(year, month, day, sex)  # __init__을 호출\n",
        "\n",
        "# 문제 2\n",
        "# 날짜가 주말인지의 여부를 출력하는 정적 함수를 작성\n",
        "# weekday() 라는 함수를 사용하면 0(월요일) ~ 6(일요일)까지의 수를 리턴\n",
        "  @staticmethod\n",
        "  def is_work_day(day):  # self가 없음, 인스턴스 없이 바로 사용이 가능\n",
        "    if day.weekday() == 5 or day.weekday() == 6:\n",
        "      return False\n",
        "    return True\n"
      ],
      "metadata": {
        "id": "Ip4Baplf3D-k"
      },
      "execution_count": 73,
      "outputs": []
    },
    {
      "cell_type": "code",
      "source": [
        "ssn_1 = '990120-1034356'\n",
        "ssn_2 = '101224-4061569'\n",
        "person_1 = Person.ssn_constructor(ssn_1)\n",
        "print(person_1)\n",
        "person_2 = Person.ssn_constructor(ssn_2)\n",
        "print(person_2)\n",
        "import datetime\n",
        "my_date = datetime.date(int(person_1.year), int(person_1.month), int(person_1.day))\n",
        "print(Person.is_work_day(my_date))\n",
        "my_date = datetime.date(2023,4,16)\n",
        "print(Person.is_work_day(my_date))"
      ],
      "metadata": {
        "colab": {
          "base_uri": "https://localhost:8080/"
        },
        "id": "fFNjWeMC3EAi",
        "outputId": "be4504ac-2512-4f09-d5d8-1adb7b68995a"
      },
      "execution_count": 74,
      "outputs": [
        {
          "output_type": "stream",
          "name": "stdout",
          "text": [
            "1999년 01월 20일생 남성입니다.\n",
            "2010년 12월 24일생 여성입니다.\n",
            "True\n",
            "False\n"
          ]
        }
      ]
    },
    {
      "cell_type": "code",
      "source": [
        "# Clock, Calender\n",
        "class Clock:\n",
        "  def __init__(self, hours=0, minutes=0, seconds = 0):\n",
        "    self.__hours = hours\n",
        "    self.__minutes = minutes\n",
        "    self.__seconds = seconds\n",
        "  def set(self, hours, minutes, seconds = 0):\n",
        "    self.__hours = hours\n",
        "    self.__minutes = minutes\n",
        "    self.__seconds = seconds\n",
        "  def tick(self):\n",
        "    if self.__seconds == 59:\n",
        "      self.__seconds = 0\n",
        "      if self.__minutes == 59:\n",
        "        self.__minutes = 0\n",
        "        if self.__hours == 23:\n",
        "          self.__hours = 0\n",
        "        else:\n",
        "          self.__hours += 1\n",
        "      else:\n",
        "        self.__minutes += 1\n",
        "    else:\n",
        "      self.__seconds += 1\n",
        "  def display(self):\n",
        "    print('%d:%d:%d' % (self.__hours, self.__minutes, self.__seconds))\n",
        "  def __repr__(self):\n",
        "    return'%2d:%2d:%2d' % (self.__hours, self.__minutes, self.__seconds)\n",
        "  def check(self):\n",
        "    if self.__hours == 0 and self.__minutes == 0 and self.__seconds == 0:\n",
        "      return True\n",
        "    else:\n",
        "      return False\n",
        "\n",
        "x = Clock()\n",
        "print(x)\n",
        "# 수정발진자 -> 초당\n",
        "for i in range(20000):\n",
        "  x.tick()\n",
        "print(x)"
      ],
      "metadata": {
        "colab": {
          "base_uri": "https://localhost:8080/"
        },
        "id": "nJyWxWE73ECK",
        "outputId": "9260c649-7c9c-4811-8053-891faa46797d"
      },
      "execution_count": 136,
      "outputs": [
        {
          "output_type": "stream",
          "name": "stdout",
          "text": [
            " 0: 0: 0\n",
            " 5:33:20\n"
          ]
        }
      ]
    },
    {
      "cell_type": "code",
      "source": [
        "# Calendar\n",
        "class Calendar:\n",
        "  month = (31, 28, 31, 30, 31, 30, 31, 31, 30, 31, 30, 31)  # 클래스 변수\n",
        "  def __init__(self, year=1900, month=1, day=1):\n",
        "    self.__year = year\n",
        "    self.__month = month\n",
        "    self.__day = day\n",
        "  def leapyear(self, y): # 윤년\n",
        "    if y % 4:\n",
        "      return 0\n",
        "    else: \n",
        "      if y % 100:\n",
        "        return 1\n",
        "      else:\n",
        "        if y % 400:\n",
        "          return 0\n",
        "        else:\n",
        "          return 1\n",
        "  def set(self, year, month, day):\n",
        "    self.__year = year\n",
        "    self.__month = month\n",
        "    self.__day = day\n",
        "  def get(self, year, month, day):\n",
        "    return (self.__year, self.__month, self.__day)\n",
        "  def advance(self):\n",
        "    month = Calendar.month\n",
        "    max_day = month[self.__month - 1]\n",
        "    if self.__month == 2:\n",
        "      max_day += self.leapyear(self.__year)\n",
        "    if self.__day == max_day:\n",
        "      self.__day = 1\n",
        "      if (self.__month == 12):\n",
        "        self.__month = 1;\n",
        "        self.__year += 1;\n",
        "      else:\n",
        "        self.__month += 1\n",
        "    else:\n",
        "      self.__day += 1\n",
        "  def __repr__(self):\n",
        "    return str(self.__year) + '/' + str(self.__month) + '/' + str(self.__day)\n",
        "\n",
        "x = Calendar()\n",
        "for i in range(365 * 2):\n",
        "  x.advance()\n",
        "print(x)"
      ],
      "metadata": {
        "colab": {
          "base_uri": "https://localhost:8080/"
        },
        "id": "v_h4T67pG8xw",
        "outputId": "5a04247f-c0a0-4cae-e5e5-5124d0d0e957"
      },
      "execution_count": 137,
      "outputs": [
        {
          "output_type": "stream",
          "name": "stdout",
          "text": [
            "1902/1/1\n"
          ]
        }
      ]
    },
    {
      "cell_type": "code",
      "source": [
        "# 문제\n",
        "# 두 개의 클래스를 다중상속받은 CalendarClock 클래스를 선언하고\n",
        "# 두개의 클래스가 잘 작동하여 시간이 지나면 날짜도 연계하여 작동하도록 프로그램 작성\n",
        "# class CalendarClock(Clock, Calendar):\n",
        "  # 초기화\n",
        "  # 출력\n",
        "  # 두개의 클래스를 연결하여 작동하는 함수 \n",
        "\n",
        "class CalendarClock(Clock, Calendar):\n",
        "  def __init__(self, year=1900, month=1, day=1, hours=0, minutes=0, seconds=0):\n",
        "    Calendar.__init__(self, year, month, day)\n",
        "    Clock.__init__(self, hours, minutes, seconds)\n",
        "  def __repr__(self):\n",
        "    return Calendar.__repr__(self) + '.' + Clock.__repr__(self)\n",
        "  def tick_advance(self):\n",
        "    self.tick()\n",
        "    if self.check(): # 0:0:0일 때 \n",
        "      self.advance()\n",
        "\n",
        "x = CalendarClock(2020, 1, 1)\n",
        "print(x)\n",
        "for i in range(60 * 60 * 24):\n",
        "  x.tick_advance()\n",
        "print(x)"
      ],
      "metadata": {
        "colab": {
          "base_uri": "https://localhost:8080/"
        },
        "id": "we_FxslBG8zn",
        "outputId": "1c71df4f-1446-40bf-a237-b66e6f44fe5d"
      },
      "execution_count": 139,
      "outputs": [
        {
          "output_type": "stream",
          "name": "stdout",
          "text": [
            "2020/1/1. 0: 0: 0\n",
            "2020/1/2. 0: 0: 0\n"
          ]
        }
      ]
    }
  ]
}