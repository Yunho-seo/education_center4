{
  "nbformat": 4,
  "nbformat_minor": 0,
  "metadata": {
    "colab": {
      "provenance": [],
      "authorship_tag": "ABX9TyPpO1LOKMYFo1tL3eM/LddG",
      "include_colab_link": true
    },
    "kernelspec": {
      "name": "python3",
      "display_name": "Python 3"
    },
    "language_info": {
      "name": "python"
    }
  },
  "cells": [
    {
      "cell_type": "markdown",
      "metadata": {
        "id": "view-in-github",
        "colab_type": "text"
      },
      "source": [
        "<a href=\"https://colab.research.google.com/github/Yunho-seo/education_center4/blob/main/08_pymysql_stored.ipynb\" target=\"_parent\"><img src=\"https://colab.research.google.com/assets/colab-badge.svg\" alt=\"Open In Colab\"/></a>"
      ]
    },
    {
      "cell_type": "code",
      "execution_count": 1,
      "metadata": {
        "colab": {
          "base_uri": "https://localhost:8080/"
        },
        "id": "HqhpTxmrDBI0",
        "outputId": "23560176-f2f9-4337-9c67-64991031a4dc"
      },
      "outputs": [
        {
          "output_type": "stream",
          "name": "stdout",
          "text": [
            "Looking in indexes: https://pypi.org/simple, https://us-python.pkg.dev/colab-wheels/public/simple/\n",
            "Collecting pymysql\n",
            "  Downloading PyMySQL-1.0.3-py3-none-any.whl (43 kB)\n",
            "\u001b[2K     \u001b[90m━━━━━━━━━━━━━━━━━━━━━━━━━━━━━━━━━━━━━━━━\u001b[0m \u001b[32m43.7/43.7 kB\u001b[0m \u001b[31m1.6 MB/s\u001b[0m eta \u001b[36m0:00:00\u001b[0m\n",
            "\u001b[?25hInstalling collected packages: pymysql\n",
            "Successfully installed pymysql-1.0.3\n"
          ]
        }
      ],
      "source": [
        "!pip install pymysql"
      ]
    },
    {
      "cell_type": "code",
      "source": [
        "import pymysql\n",
        "con = pymysql.connect(host='34.64.86.80', port=3306, user='root', passwd='acorn1234',\n",
        "                      db='sungjuk', charset='utf8', autocommit=True)\n",
        "try:\n",
        "  with con.cursor() as cur:\n",
        "    cur.execute('select * from student where bunho in (1, 2, 3)')\n",
        "    rows = cur.fetchall()\n",
        "    for row in rows:\n",
        "      print(f'{row[0]:<4} {row[1]:>10} {row[2]:>10} {row[3]:>10} {row[4]:>10}')\n",
        "    print(f'쿼리가 영향을 미친 것은 {cur.rowcount} 개의 행')\n",
        "finally:\n",
        "  con.close()"
      ],
      "metadata": {
        "colab": {
          "base_uri": "https://localhost:8080/"
        },
        "id": "PstdCmIJDDzv",
        "outputId": "4529a41f-512f-4e37-dfae-5ba4dd000299"
      },
      "execution_count": 3,
      "outputs": [
        {
          "output_type": "stream",
          "name": "stdout",
          "text": [
            "1           김만덕         80         99         60\n",
            "2           고려인        100         99         99\n",
            "3           천공인        100         81        100\n",
            "쿼리가 영향을 미친 것은 3 개의 행\n"
          ]
        }
      ]
    },
    {
      "cell_type": "code",
      "source": [
        "import pymysql\n",
        "\n",
        "con = pymysql.connect(host='34.64.86.80', port=3306, user='root', passwd='acorn1234',\n",
        "                      db='sungjuk', charset='utf8', autocommit=True)\n",
        "\n",
        "person = ('typoon', 100, 100, 100, 'CH00000001')\n",
        "\n",
        "try:\n",
        "  with con.cursor() as cur:\n",
        "    cur.execute(\"\"\"insert into student(name, kor, mat, eng, schoolcode)\n",
        "    values (%s, %s, %s, %s, %s)\"\"\",  # 송수신은 문자열 형태\n",
        "        (person[0], person[1], person[2], person[3], person[4]))\n",
        "    con.commit()  \n",
        "    if(cur.rowcount):  # 영향을 미친 열이 있으면 True\n",
        "      print('새로운 학생이 등록되었습니다.')\n",
        "finally:\n",
        "  con.close()\n",
        "\n",
        "# 환각(할루시네이션) : 사실이 아닌 문자나 이미지를 마치 맞는 답인 것처럼 내놓은 현상."
      ],
      "metadata": {
        "colab": {
          "base_uri": "https://localhost:8080/"
        },
        "id": "YwwXPajeDD1v",
        "outputId": "ebe6ec10-3a58-4b37-c3e0-c54e3a868a1a"
      },
      "execution_count": 4,
      "outputs": [
        {
          "output_type": "stream",
          "name": "stdout",
          "text": [
            "새로운 학생이 등록되었습니다.\n"
          ]
        }
      ]
    },
    {
      "cell_type": "code",
      "source": [
        "# 문제\n",
        "# 1. 김만덕 => '오환각' 으로 이름 바꾸기\n",
        "# 2. 입력된 'typoon' 삭제하기 \n",
        "import pymysql\n",
        "\n",
        "con = pymysql.connect(host='34.64.86.80', port=3306, user='root', passwd='acorn1234',\n",
        "                      db='sungjuk', charset='utf8', autocommit=True)\n",
        "\n",
        "person = ('김만덕', '오환각')\n",
        "person_1 = ('typoon')\n",
        "try:\n",
        "  with con.cursor() as cur:\n",
        "    cur.execute(\"\"\"update student set name = %s where name = %s\"\"\", (person[1], person[0]))\n",
        "    cur.execute(\"\"\"delete from student where name = %s \"\"\", person_1)\n",
        "  con.commit()\n",
        "  if(cur.rowcount):\n",
        "    print('수정, 삭제가 완료되었습니다.')\n",
        "finally:\n",
        "  con.close()"
      ],
      "metadata": {
        "id": "xhhg1yg4DD3t"
      },
      "execution_count": 10,
      "outputs": []
    },
    {
      "cell_type": "code",
      "source": [
        "# 저장 프로시저 (stored procedure call)\n",
        "# student_select 프로시저 \n",
        "\n",
        "con = pymysql.connect(host='34.64.86.80', port=3306, user='root', passwd='acorn1234',\n",
        "                      db='sungjuk', charset='utf8', cursorclass=pymysql.cursors.DictCursor, autocommit=True)  # Dict\n",
        "\n",
        "try:\n",
        "  with con.cursor() as cur:\n",
        "    cur.callproc('student_select')\n",
        "    if(cur.rowcount):\n",
        "      print(cur.fetchall())\n",
        "    cur.callproc('student_select')\n",
        "    if(cur.rowcount):  # 데이터가 있으면\n",
        "      data = cur.fetchall()\n",
        "      for row in data:\n",
        "        # print(row[0], row[1])\n",
        "        print(row[\"bunho\"], row[\"name\"], row[\"kor\"])\n",
        "finally:\n",
        "  con.close()"
      ],
      "metadata": {
        "colab": {
          "base_uri": "https://localhost:8080/"
        },
        "id": "mRVuFfugDD6-",
        "outputId": "c381c8bf-bfd0-4164-e8e2-835ecae539b0"
      },
      "execution_count": 18,
      "outputs": [
        {
          "output_type": "stream",
          "name": "stdout",
          "text": [
            "[{'bunho': 1, 'name': '오환각', 'kor': '80', 'mat': '99', 'eng': '60', 'total': 239, 'average': 79.67, 'grade': 'C', 'schoolcode': 'CH00000001'}, {'bunho': 2, 'name': '고려인', 'kor': '100', 'mat': '99', 'eng': '99', 'total': 298, 'average': 99.33, 'grade': 'A', 'schoolcode': 'CH00000001'}, {'bunho': 3, 'name': '천공인', 'kor': '100', 'mat': '81', 'eng': '100', 'total': 281, 'average': 93.67, 'grade': 'A', 'schoolcode': 'SE00000001'}, {'bunho': 4, 'name': '천공이', 'kor': '81', 'mat': '81', 'eng': '81', 'total': 243, 'average': 81.0, 'grade': 'B', 'schoolcode': 'SE00000001'}, {'bunho': 5, 'name': '천공삼', 'kor': '91', 'mat': '100', 'eng': '100', 'total': 291, 'average': 97.0, 'grade': 'A', 'schoolcode': 'CH00000001'}, {'bunho': 6, 'name': '천공사', 'kor': '100', 'mat': '100', 'eng': '100', 'total': 300, 'average': 100.0, 'grade': 'A', 'schoolcode': 'CH00000001'}, {'bunho': 7, 'name': '종로구', 'kor': '100', 'mat': '81', 'eng': '71', 'total': 252, 'average': 84.0, 'grade': 'B', 'schoolcode': 'IC00000001'}, {'bunho': 8, 'name': '만세야', 'kor': '99', 'mat': '99', 'eng': '99', 'total': 297, 'average': 99.0, 'grade': 'A', 'schoolcode': 'CH00000001'}, {'bunho': 9, 'name': '만세야', 'kor': '80', 'mat': '80', 'eng': '80', 'total': 240, 'average': 80.0, 'grade': 'B', 'schoolcode': 'CH00000001'}]\n",
            "1 오환각 80\n",
            "2 고려인 100\n",
            "3 천공인 100\n",
            "4 천공이 81\n",
            "5 천공삼 91\n",
            "6 천공사 100\n",
            "7 종로구 100\n",
            "8 만세야 99\n",
            "9 만세야 80\n"
          ]
        }
      ]
    },
    {
      "cell_type": "code",
      "source": [
        "# student_insert 프로시저 \n",
        "\n",
        "con = pymysql.connect(host='34.64.86.80', port=3306, user='root', passwd='acorn1234',\n",
        "                      db='sungjuk', charset='utf8', cursorclass=pymysql.cursors.DictCursor, autocommit=True)\n",
        "\n",
        "data = ('미래융합교육원', 90, 80, 100, 'CH00000001', 0)\n",
        "try:\n",
        "  with con.cursor() as cur:\n",
        "    cur.callproc('student_insert', data)\n",
        "    cur.execute('select @_student_insert_5')\n",
        "    con.commit()\n",
        "    result = cur.fetchone()\n",
        "    print(result['@_student_insert_5'])  # 0이면 성공\n",
        "finally:\n",
        "  con.close()"
      ],
      "metadata": {
        "colab": {
          "base_uri": "https://localhost:8080/"
        },
        "id": "KoiVcsXLDD8u",
        "outputId": "214cfe61-eadc-416a-857b-0394e51ca390"
      },
      "execution_count": 30,
      "outputs": [
        {
          "output_type": "stream",
          "name": "stdout",
          "text": [
            "0\n"
          ]
        }
      ]
    },
    {
      "cell_type": "code",
      "source": [
        "# student_update 프로시저 \n",
        "\n",
        "conn = pymysql.connect(host='34.64.86.80', port=3306, user='root', passwd='acorn1234',\n",
        "                      db='sungjuk', charset='utf8', cursorclass=pymysql.cursors.DictCursor, autocommit=True)\n",
        "\n",
        "data = (1, '왕만덕', 100, 90, 80, 0)\n",
        "try:\n",
        "  with conn.cursor() as cur:\n",
        "    cur.callproc('student_update', data)\n",
        "    cur.execute('select @_student_update_5')\n",
        "    conn.commit()\n",
        "    result = cur.fetchone()\n",
        "    print(result['@_student_update_5'])\n",
        "    if result['@_student_update_5'] == 2:\n",
        "      print('수정할 이름이 없습니다.')\n",
        "    elif result['@_student_update_5'] == -1:\n",
        "      print('에러가 발생하였습니다.')\n",
        "    elif result['@_student_update_5'] == 0:\n",
        "      print('수정 성공하였습니다.')\n",
        "    else:\n",
        "      print('알 수 없음')\n",
        "finally:\n",
        "  conn.close()"
      ],
      "metadata": {
        "colab": {
          "base_uri": "https://localhost:8080/"
        },
        "id": "GdD8jDW2DD-m",
        "outputId": "05ae3a06-9be5-4161-8bc3-06f769359cfe"
      },
      "execution_count": 23,
      "outputs": [
        {
          "output_type": "stream",
          "name": "stdout",
          "text": [
            "0\n",
            "수정 성공하였습니다.\n"
          ]
        }
      ]
    },
    {
      "cell_type": "code",
      "source": [
        "# 문제\n",
        "# 미래융합교육원 삭제 (stored procedure call을 이용하여)\n",
        "\n",
        "conn = pymysql.connect(host='34.64.86.80', port=3306, user='root', passwd='acorn1234',\n",
        "                      db='sungjuk', charset='utf8', cursorclass=pymysql.cursors.DictCursor, autocommit=True)\n",
        "\n",
        "data = ('미래융합교육원', 0)\n",
        "try:\n",
        "  with conn.cursor() as cur:\n",
        "    cur.callproc('student_delete', data)\n",
        "    cur.execute('select @_student_delete_1')  # _1 하는 이유는 data의 result(여기서는 [1])에 접근하기 위해.\n",
        "    conn.commit()\n",
        "    result = cur.fetchone()\n",
        "    print(result['@_student_delete_1'])\n",
        "    if result['@_student_delete_1'] == 2:\n",
        "      print('삭제할 이름이 없습니다.')\n",
        "    elif result['@_student_delete_1'] == -1:\n",
        "      print('에러가 발생하였습니다.')\n",
        "    elif result['@_student_delete_1'] == 0:\n",
        "      print('삭제 성공하였습니다.')\n",
        "    else:\n",
        "      print('알 수 없음')\n",
        "finally:\n",
        "  conn.close()"
      ],
      "metadata": {
        "colab": {
          "base_uri": "https://localhost:8080/"
        },
        "id": "m0NirodLDEAd",
        "outputId": "1fe7ced6-2f4d-4005-8428-403d9790e3e9"
      },
      "execution_count": 31,
      "outputs": [
        {
          "output_type": "stream",
          "name": "stdout",
          "text": [
            "0\n",
            "삭제 성공하였습니다.\n"
          ]
        }
      ]
    },
    {
      "cell_type": "code",
      "source": [
        "conn = pymysql.connect(host='34.64.86.80', port=3306, user='root', passwd='acorn1234',\n",
        "                      db='zoo', charset='utf8', cursorclass=pymysql.cursors.DictCursor, autocommit=True)\n",
        "\n",
        "cur = conn.cursor()\n",
        "\n",
        "cur.execute(\"\"\"CREATE TABLE `pet` (\n",
        "\t`id` INT(11) NOT NULL AUTO_INCREMENT,\n",
        "\t`name` VARCHAR(20) NULL DEFAULT NULL,\n",
        "\t`owner` VARCHAR(20) NULL DEFAULT NULL,\n",
        "\t`species` VARCHAR(20) NULL DEFAULT NULL,\n",
        "\t`sex` CHAR(1) NULL DEFAULT NULL,\n",
        "\t`birth` DATE NULL DEFAULT NULL,\n",
        "\t`death` DATE NULL DEFAULT NULL,\n",
        "\tPRIMARY KEY (`id`)\n",
        ")\n",
        "COLLATE='utf8mb4_general_ci'\n",
        "ENGINE=InnoDB\n",
        ";\"\"\")"
      ],
      "metadata": {
        "colab": {
          "base_uri": "https://localhost:8080/",
          "height": 363
        },
        "id": "jxoVkA72Th7c",
        "outputId": "c5f40856-a891-4e6c-d47b-03cf7989c0bf"
      },
      "execution_count": 35,
      "outputs": [
        {
          "output_type": "error",
          "ename": "OperationalError",
          "evalue": "ignored",
          "traceback": [
            "\u001b[0;31m---------------------------------------------------------------------------\u001b[0m",
            "\u001b[0;31mOperationalError\u001b[0m                          Traceback (most recent call last)",
            "\u001b[0;32m<ipython-input-35-231021504728>\u001b[0m in \u001b[0;36m<cell line: 6>\u001b[0;34m()\u001b[0m\n\u001b[1;32m      4\u001b[0m \u001b[0mcur\u001b[0m \u001b[0;34m=\u001b[0m \u001b[0mconn\u001b[0m\u001b[0;34m.\u001b[0m\u001b[0mcursor\u001b[0m\u001b[0;34m(\u001b[0m\u001b[0;34m)\u001b[0m\u001b[0;34m\u001b[0m\u001b[0;34m\u001b[0m\u001b[0m\n\u001b[1;32m      5\u001b[0m \u001b[0;34m\u001b[0m\u001b[0m\n\u001b[0;32m----> 6\u001b[0;31m cur.execute(\"\"\"CREATE TABLE `pet` (\n\u001b[0m\u001b[1;32m      7\u001b[0m         \u001b[0;31m`\u001b[0m\u001b[0mid\u001b[0m\u001b[0;31m`\u001b[0m \u001b[0mINT\u001b[0m\u001b[0;34m(\u001b[0m\u001b[0;36m11\u001b[0m\u001b[0;34m)\u001b[0m \u001b[0mNOT\u001b[0m \u001b[0mNULL\u001b[0m \u001b[0mAUTO_INCREMENT\u001b[0m\u001b[0;34m,\u001b[0m\u001b[0;34m\u001b[0m\u001b[0;34m\u001b[0m\u001b[0m\n\u001b[1;32m      8\u001b[0m         \u001b[0;31m`\u001b[0m\u001b[0mname\u001b[0m\u001b[0;31m`\u001b[0m \u001b[0mVARCHAR\u001b[0m\u001b[0;34m(\u001b[0m\u001b[0;36m20\u001b[0m\u001b[0;34m)\u001b[0m \u001b[0mNULL\u001b[0m \u001b[0mDEFAULT\u001b[0m \u001b[0mNULL\u001b[0m\u001b[0;34m,\u001b[0m\u001b[0;34m\u001b[0m\u001b[0;34m\u001b[0m\u001b[0m\n",
            "\u001b[0;32m/usr/local/lib/python3.9/dist-packages/pymysql/cursors.py\u001b[0m in \u001b[0;36mexecute\u001b[0;34m(self, query, args)\u001b[0m\n\u001b[1;32m    156\u001b[0m         \u001b[0mquery\u001b[0m \u001b[0;34m=\u001b[0m \u001b[0mself\u001b[0m\u001b[0;34m.\u001b[0m\u001b[0mmogrify\u001b[0m\u001b[0;34m(\u001b[0m\u001b[0mquery\u001b[0m\u001b[0;34m,\u001b[0m \u001b[0margs\u001b[0m\u001b[0;34m)\u001b[0m\u001b[0;34m\u001b[0m\u001b[0;34m\u001b[0m\u001b[0m\n\u001b[1;32m    157\u001b[0m \u001b[0;34m\u001b[0m\u001b[0m\n\u001b[0;32m--> 158\u001b[0;31m         \u001b[0mresult\u001b[0m \u001b[0;34m=\u001b[0m \u001b[0mself\u001b[0m\u001b[0;34m.\u001b[0m\u001b[0m_query\u001b[0m\u001b[0;34m(\u001b[0m\u001b[0mquery\u001b[0m\u001b[0;34m)\u001b[0m\u001b[0;34m\u001b[0m\u001b[0;34m\u001b[0m\u001b[0m\n\u001b[0m\u001b[1;32m    159\u001b[0m         \u001b[0mself\u001b[0m\u001b[0;34m.\u001b[0m\u001b[0m_executed\u001b[0m \u001b[0;34m=\u001b[0m \u001b[0mquery\u001b[0m\u001b[0;34m\u001b[0m\u001b[0;34m\u001b[0m\u001b[0m\n\u001b[1;32m    160\u001b[0m         \u001b[0;32mreturn\u001b[0m \u001b[0mresult\u001b[0m\u001b[0;34m\u001b[0m\u001b[0;34m\u001b[0m\u001b[0m\n",
            "\u001b[0;32m/usr/local/lib/python3.9/dist-packages/pymysql/cursors.py\u001b[0m in \u001b[0;36m_query\u001b[0;34m(self, q)\u001b[0m\n\u001b[1;32m    323\u001b[0m         \u001b[0mconn\u001b[0m \u001b[0;34m=\u001b[0m \u001b[0mself\u001b[0m\u001b[0;34m.\u001b[0m\u001b[0m_get_db\u001b[0m\u001b[0;34m(\u001b[0m\u001b[0;34m)\u001b[0m\u001b[0;34m\u001b[0m\u001b[0;34m\u001b[0m\u001b[0m\n\u001b[1;32m    324\u001b[0m         \u001b[0mself\u001b[0m\u001b[0;34m.\u001b[0m\u001b[0m_clear_result\u001b[0m\u001b[0;34m(\u001b[0m\u001b[0;34m)\u001b[0m\u001b[0;34m\u001b[0m\u001b[0;34m\u001b[0m\u001b[0m\n\u001b[0;32m--> 325\u001b[0;31m         \u001b[0mconn\u001b[0m\u001b[0;34m.\u001b[0m\u001b[0mquery\u001b[0m\u001b[0;34m(\u001b[0m\u001b[0mq\u001b[0m\u001b[0;34m)\u001b[0m\u001b[0;34m\u001b[0m\u001b[0;34m\u001b[0m\u001b[0m\n\u001b[0m\u001b[1;32m    326\u001b[0m         \u001b[0mself\u001b[0m\u001b[0;34m.\u001b[0m\u001b[0m_do_get_result\u001b[0m\u001b[0;34m(\u001b[0m\u001b[0;34m)\u001b[0m\u001b[0;34m\u001b[0m\u001b[0;34m\u001b[0m\u001b[0m\n\u001b[1;32m    327\u001b[0m         \u001b[0;32mreturn\u001b[0m \u001b[0mself\u001b[0m\u001b[0;34m.\u001b[0m\u001b[0mrowcount\u001b[0m\u001b[0;34m\u001b[0m\u001b[0;34m\u001b[0m\u001b[0m\n",
            "\u001b[0;32m/usr/local/lib/python3.9/dist-packages/pymysql/connections.py\u001b[0m in \u001b[0;36mquery\u001b[0;34m(self, sql, unbuffered)\u001b[0m\n\u001b[1;32m    547\u001b[0m             \u001b[0msql\u001b[0m \u001b[0;34m=\u001b[0m \u001b[0msql\u001b[0m\u001b[0;34m.\u001b[0m\u001b[0mencode\u001b[0m\u001b[0;34m(\u001b[0m\u001b[0mself\u001b[0m\u001b[0;34m.\u001b[0m\u001b[0mencoding\u001b[0m\u001b[0;34m,\u001b[0m \u001b[0;34m\"surrogateescape\"\u001b[0m\u001b[0;34m)\u001b[0m\u001b[0;34m\u001b[0m\u001b[0;34m\u001b[0m\u001b[0m\n\u001b[1;32m    548\u001b[0m         \u001b[0mself\u001b[0m\u001b[0;34m.\u001b[0m\u001b[0m_execute_command\u001b[0m\u001b[0;34m(\u001b[0m\u001b[0mCOMMAND\u001b[0m\u001b[0;34m.\u001b[0m\u001b[0mCOM_QUERY\u001b[0m\u001b[0;34m,\u001b[0m \u001b[0msql\u001b[0m\u001b[0;34m)\u001b[0m\u001b[0;34m\u001b[0m\u001b[0;34m\u001b[0m\u001b[0m\n\u001b[0;32m--> 549\u001b[0;31m         \u001b[0mself\u001b[0m\u001b[0;34m.\u001b[0m\u001b[0m_affected_rows\u001b[0m \u001b[0;34m=\u001b[0m \u001b[0mself\u001b[0m\u001b[0;34m.\u001b[0m\u001b[0m_read_query_result\u001b[0m\u001b[0;34m(\u001b[0m\u001b[0munbuffered\u001b[0m\u001b[0;34m=\u001b[0m\u001b[0munbuffered\u001b[0m\u001b[0;34m)\u001b[0m\u001b[0;34m\u001b[0m\u001b[0;34m\u001b[0m\u001b[0m\n\u001b[0m\u001b[1;32m    550\u001b[0m         \u001b[0;32mreturn\u001b[0m \u001b[0mself\u001b[0m\u001b[0;34m.\u001b[0m\u001b[0m_affected_rows\u001b[0m\u001b[0;34m\u001b[0m\u001b[0;34m\u001b[0m\u001b[0m\n\u001b[1;32m    551\u001b[0m \u001b[0;34m\u001b[0m\u001b[0m\n",
            "\u001b[0;32m/usr/local/lib/python3.9/dist-packages/pymysql/connections.py\u001b[0m in \u001b[0;36m_read_query_result\u001b[0;34m(self, unbuffered)\u001b[0m\n\u001b[1;32m    777\u001b[0m         \u001b[0;32melse\u001b[0m\u001b[0;34m:\u001b[0m\u001b[0;34m\u001b[0m\u001b[0;34m\u001b[0m\u001b[0m\n\u001b[1;32m    778\u001b[0m             \u001b[0mresult\u001b[0m \u001b[0;34m=\u001b[0m \u001b[0mMySQLResult\u001b[0m\u001b[0;34m(\u001b[0m\u001b[0mself\u001b[0m\u001b[0;34m)\u001b[0m\u001b[0;34m\u001b[0m\u001b[0;34m\u001b[0m\u001b[0m\n\u001b[0;32m--> 779\u001b[0;31m             \u001b[0mresult\u001b[0m\u001b[0;34m.\u001b[0m\u001b[0mread\u001b[0m\u001b[0;34m(\u001b[0m\u001b[0;34m)\u001b[0m\u001b[0;34m\u001b[0m\u001b[0;34m\u001b[0m\u001b[0m\n\u001b[0m\u001b[1;32m    780\u001b[0m         \u001b[0mself\u001b[0m\u001b[0;34m.\u001b[0m\u001b[0m_result\u001b[0m \u001b[0;34m=\u001b[0m \u001b[0mresult\u001b[0m\u001b[0;34m\u001b[0m\u001b[0;34m\u001b[0m\u001b[0m\n\u001b[1;32m    781\u001b[0m         \u001b[0;32mif\u001b[0m \u001b[0mresult\u001b[0m\u001b[0;34m.\u001b[0m\u001b[0mserver_status\u001b[0m \u001b[0;32mis\u001b[0m \u001b[0;32mnot\u001b[0m \u001b[0;32mNone\u001b[0m\u001b[0;34m:\u001b[0m\u001b[0;34m\u001b[0m\u001b[0;34m\u001b[0m\u001b[0m\n",
            "\u001b[0;32m/usr/local/lib/python3.9/dist-packages/pymysql/connections.py\u001b[0m in \u001b[0;36mread\u001b[0;34m(self)\u001b[0m\n\u001b[1;32m   1155\u001b[0m     \u001b[0;32mdef\u001b[0m \u001b[0mread\u001b[0m\u001b[0;34m(\u001b[0m\u001b[0mself\u001b[0m\u001b[0;34m)\u001b[0m\u001b[0;34m:\u001b[0m\u001b[0;34m\u001b[0m\u001b[0;34m\u001b[0m\u001b[0m\n\u001b[1;32m   1156\u001b[0m         \u001b[0;32mtry\u001b[0m\u001b[0;34m:\u001b[0m\u001b[0;34m\u001b[0m\u001b[0;34m\u001b[0m\u001b[0m\n\u001b[0;32m-> 1157\u001b[0;31m             \u001b[0mfirst_packet\u001b[0m \u001b[0;34m=\u001b[0m \u001b[0mself\u001b[0m\u001b[0;34m.\u001b[0m\u001b[0mconnection\u001b[0m\u001b[0;34m.\u001b[0m\u001b[0m_read_packet\u001b[0m\u001b[0;34m(\u001b[0m\u001b[0;34m)\u001b[0m\u001b[0;34m\u001b[0m\u001b[0;34m\u001b[0m\u001b[0m\n\u001b[0m\u001b[1;32m   1158\u001b[0m \u001b[0;34m\u001b[0m\u001b[0m\n\u001b[1;32m   1159\u001b[0m             \u001b[0;32mif\u001b[0m \u001b[0mfirst_packet\u001b[0m\u001b[0;34m.\u001b[0m\u001b[0mis_ok_packet\u001b[0m\u001b[0;34m(\u001b[0m\u001b[0;34m)\u001b[0m\u001b[0;34m:\u001b[0m\u001b[0;34m\u001b[0m\u001b[0;34m\u001b[0m\u001b[0m\n",
            "\u001b[0;32m/usr/local/lib/python3.9/dist-packages/pymysql/connections.py\u001b[0m in \u001b[0;36m_read_packet\u001b[0;34m(self, packet_type)\u001b[0m\n\u001b[1;32m    727\u001b[0m             \u001b[0;32mif\u001b[0m \u001b[0mself\u001b[0m\u001b[0;34m.\u001b[0m\u001b[0m_result\u001b[0m \u001b[0;32mis\u001b[0m \u001b[0;32mnot\u001b[0m \u001b[0;32mNone\u001b[0m \u001b[0;32mand\u001b[0m \u001b[0mself\u001b[0m\u001b[0;34m.\u001b[0m\u001b[0m_result\u001b[0m\u001b[0;34m.\u001b[0m\u001b[0munbuffered_active\u001b[0m \u001b[0;32mis\u001b[0m \u001b[0;32mTrue\u001b[0m\u001b[0;34m:\u001b[0m\u001b[0;34m\u001b[0m\u001b[0;34m\u001b[0m\u001b[0m\n\u001b[1;32m    728\u001b[0m                 \u001b[0mself\u001b[0m\u001b[0;34m.\u001b[0m\u001b[0m_result\u001b[0m\u001b[0;34m.\u001b[0m\u001b[0munbuffered_active\u001b[0m \u001b[0;34m=\u001b[0m \u001b[0;32mFalse\u001b[0m\u001b[0;34m\u001b[0m\u001b[0;34m\u001b[0m\u001b[0m\n\u001b[0;32m--> 729\u001b[0;31m             \u001b[0mpacket\u001b[0m\u001b[0;34m.\u001b[0m\u001b[0mraise_for_error\u001b[0m\u001b[0;34m(\u001b[0m\u001b[0;34m)\u001b[0m\u001b[0;34m\u001b[0m\u001b[0;34m\u001b[0m\u001b[0m\n\u001b[0m\u001b[1;32m    730\u001b[0m         \u001b[0;32mreturn\u001b[0m \u001b[0mpacket\u001b[0m\u001b[0;34m\u001b[0m\u001b[0;34m\u001b[0m\u001b[0m\n\u001b[1;32m    731\u001b[0m \u001b[0;34m\u001b[0m\u001b[0m\n",
            "\u001b[0;32m/usr/local/lib/python3.9/dist-packages/pymysql/protocol.py\u001b[0m in \u001b[0;36mraise_for_error\u001b[0;34m(self)\u001b[0m\n\u001b[1;32m    219\u001b[0m         \u001b[0;32mif\u001b[0m \u001b[0mDEBUG\u001b[0m\u001b[0;34m:\u001b[0m\u001b[0;34m\u001b[0m\u001b[0;34m\u001b[0m\u001b[0m\n\u001b[1;32m    220\u001b[0m             \u001b[0mprint\u001b[0m\u001b[0;34m(\u001b[0m\u001b[0;34m\"errno =\"\u001b[0m\u001b[0;34m,\u001b[0m \u001b[0merrno\u001b[0m\u001b[0;34m)\u001b[0m\u001b[0;34m\u001b[0m\u001b[0;34m\u001b[0m\u001b[0m\n\u001b[0;32m--> 221\u001b[0;31m         \u001b[0merr\u001b[0m\u001b[0;34m.\u001b[0m\u001b[0mraise_mysql_exception\u001b[0m\u001b[0;34m(\u001b[0m\u001b[0mself\u001b[0m\u001b[0;34m.\u001b[0m\u001b[0m_data\u001b[0m\u001b[0;34m)\u001b[0m\u001b[0;34m\u001b[0m\u001b[0;34m\u001b[0m\u001b[0m\n\u001b[0m\u001b[1;32m    222\u001b[0m \u001b[0;34m\u001b[0m\u001b[0m\n\u001b[1;32m    223\u001b[0m     \u001b[0;32mdef\u001b[0m \u001b[0mdump\u001b[0m\u001b[0;34m(\u001b[0m\u001b[0mself\u001b[0m\u001b[0;34m)\u001b[0m\u001b[0;34m:\u001b[0m\u001b[0;34m\u001b[0m\u001b[0;34m\u001b[0m\u001b[0m\n",
            "\u001b[0;32m/usr/local/lib/python3.9/dist-packages/pymysql/err.py\u001b[0m in \u001b[0;36mraise_mysql_exception\u001b[0;34m(data)\u001b[0m\n\u001b[1;32m    141\u001b[0m     \u001b[0;32mif\u001b[0m \u001b[0merrorclass\u001b[0m \u001b[0;32mis\u001b[0m \u001b[0;32mNone\u001b[0m\u001b[0;34m:\u001b[0m\u001b[0;34m\u001b[0m\u001b[0;34m\u001b[0m\u001b[0m\n\u001b[1;32m    142\u001b[0m         \u001b[0merrorclass\u001b[0m \u001b[0;34m=\u001b[0m \u001b[0mInternalError\u001b[0m \u001b[0;32mif\u001b[0m \u001b[0merrno\u001b[0m \u001b[0;34m<\u001b[0m \u001b[0;36m1000\u001b[0m \u001b[0;32melse\u001b[0m \u001b[0mOperationalError\u001b[0m\u001b[0;34m\u001b[0m\u001b[0;34m\u001b[0m\u001b[0m\n\u001b[0;32m--> 143\u001b[0;31m     \u001b[0;32mraise\u001b[0m \u001b[0merrorclass\u001b[0m\u001b[0;34m(\u001b[0m\u001b[0merrno\u001b[0m\u001b[0;34m,\u001b[0m \u001b[0merrval\u001b[0m\u001b[0;34m)\u001b[0m\u001b[0;34m\u001b[0m\u001b[0;34m\u001b[0m\u001b[0m\n\u001b[0m",
            "\u001b[0;31mOperationalError\u001b[0m: (1050, \"Table 'pet' already exists\")"
          ]
        }
      ]
    },
    {
      "cell_type": "code",
      "source": [
        "print(cur.description)\n",
        "conn.close()"
      ],
      "metadata": {
        "colab": {
          "base_uri": "https://localhost:8080/"
        },
        "id": "J6PkPitfTh9b",
        "outputId": "b5c76eb4-14cc-4ed1-9391-94a3a1bfac21"
      },
      "execution_count": 36,
      "outputs": [
        {
          "output_type": "stream",
          "name": "stdout",
          "text": [
            "None\n"
          ]
        }
      ]
    },
    {
      "cell_type": "code",
      "source": [
        "conn = pymysql.connect(host='34.64.86.80', port=3306, user='root', passwd='acorn1234',\n",
        "                      db='zoo', charset='utf8', cursorclass=pymysql.cursors.DictCursor, autocommit=True)\n",
        "cur = conn.cursor()\n",
        "\n",
        "sql = \"\"\"INSERT INTO pet (name, owner, species, sex, birth, death)\n",
        "        VALUES(%s,%s,%s,%s,%s,%s)\"\"\"\n",
        "# cur.execute(sql, (('인천시','민주','cat','f','2001-02-04', None))\n",
        "# cur.execute(sql, (('대구시','자유','cat','f','2010-03-17', None))\n",
        "# cur.execute(sql, (('대전시','민주','dog','f','2010-05-13', None))\n",
        "# cur.execute(sql, (('광주시','민주','dog','m','2015-08-27', None))\n",
        "# cur.execute(sql, ((('부산시','자유','dog','m','2017-08-31','2018-04-29'))\n",
        "# conn.commit()\n",
        "\n",
        "petlist = [('인천시','민주','cat','f','2001-02-04', None),\n",
        "              ('대구시','자유','cat','f','2010-03-17', None),\n",
        "              ('대전시','민주','dog','f','2010-05-13', None),\n",
        "              ('광주시','민주','dog','m','2015-08-27', None),\n",
        "              ('부산시','자유','dog','m','2017-08-31','2018-04-29')]\n",
        "cur.executemany(sql, petlist)\n",
        "conn.commit()\n",
        "print(cur.description)\n",
        "print(cur.rowcount)\n",
        "\n",
        "conn.close()"
      ],
      "metadata": {
        "colab": {
          "base_uri": "https://localhost:8080/"
        },
        "id": "Xpqq-vm0TiBD",
        "outputId": "122f5440-a3c2-49cb-c2c6-1d6d11d0d333"
      },
      "execution_count": 41,
      "outputs": [
        {
          "output_type": "stream",
          "name": "stdout",
          "text": [
            "None\n",
            "5\n"
          ]
        }
      ]
    },
    {
      "cell_type": "code",
      "source": [
        "conn = pymysql.connect(host='34.64.86.80', port=3306, user='root', passwd='acorn1234',\n",
        "                      db='zoo', charset='utf8', cursorclass=pymysql.cursors.DictCursor, autocommit=True)\n",
        "\n",
        "cursor = conn.cursor()\n",
        "cursor.execute('select * from pet')\n",
        "print(cursor.rowcount)\n",
        "cursor.fetchone()\n",
        "cursor.fetchone()\n",
        "cursor.fetchone()\n",
        "cursor.scroll(0, mode='absolute')  # 0번으로 커서를 스크롤 # relative\n",
        "recs = cursor.fetchmany(2)\n",
        "for rec in recs:\n",
        "  print(rec)\n",
        "recs = cursor.fetchall()  # 커서가 마지막을 가리키고 있기 때문에, 결과가 없다.\n",
        "for rec in recs:\n",
        "  print('데이터가 있으면 찍힌다.')\n",
        "  print(rec)\n",
        "cursor.close()\n",
        "conn.close()"
      ],
      "metadata": {
        "colab": {
          "base_uri": "https://localhost:8080/"
        },
        "id": "0nBn2Y4HTiC7",
        "outputId": "dd80d022-a5dc-485f-d40c-9c46ed9c7b93"
      },
      "execution_count": 46,
      "outputs": [
        {
          "output_type": "stream",
          "name": "stdout",
          "text": [
            "5\n",
            "{'id': 1, 'name': '인천시', 'owner': '민주', 'species': 'cat', 'sex': 'f', 'birth': datetime.date(2001, 2, 4), 'death': None}\n",
            "{'id': 2, 'name': '대구시', 'owner': '자유', 'species': 'cat', 'sex': 'f', 'birth': datetime.date(2010, 3, 17), 'death': None}\n",
            "데이터가 있으면 찍힌다.\n",
            "{'id': 3, 'name': '대전시', 'owner': '민주', 'species': 'dog', 'sex': 'f', 'birth': datetime.date(2010, 5, 13), 'death': None}\n",
            "데이터가 있으면 찍힌다.\n",
            "{'id': 4, 'name': '광주시', 'owner': '민주', 'species': 'dog', 'sex': 'm', 'birth': datetime.date(2015, 8, 27), 'death': None}\n",
            "데이터가 있으면 찍힌다.\n",
            "{'id': 5, 'name': '부산시', 'owner': '자유', 'species': 'dog', 'sex': 'm', 'birth': datetime.date(2017, 8, 31), 'death': datetime.date(2018, 4, 29)}\n"
          ]
        }
      ]
    },
    {
      "cell_type": "code",
      "source": [
        "# 문제\n",
        "# 1. 모든 pet을 가져오는 프로시저를 만들고 callproc로 데이터 출력\n",
        "# 2. 다음은 쿼리문으로 직접 실행\n",
        "#  2.1) 생일이 2015-01-01 이후인 pet 출력\n",
        "#  2.2) species = 'cat'이고 여성만 출력\n",
        "#  2.3) 이름과 생일을, 생일로 정렬하여 출력\n",
        "#  2.4) 사망일이 Null인 데이터 출력\n",
        "#  2.5) 이름이 대구시인 데이터를 부산시로 변경"
      ],
      "metadata": {
        "id": "HoCO05YCTiE0"
      },
      "execution_count": null,
      "outputs": []
    },
    {
      "cell_type": "code",
      "source": [
        "conn = pymysql.connect(host='34.64.86.80', port=3306, user='root', passwd='acorn1234',\n",
        "                      db='zoo', charset='utf8', cursorclass=pymysql.cursors.DictCursor, autocommit=True)\n",
        "\n",
        "try:\n",
        "  cursor = conn.cursor()\n",
        "  cursor.callproc('pet_all')\n",
        "  cur = cursor.fetchall()  # 저장 프로시저에서 select하는 것은, 모두 결합되어 리턴된다.\n",
        "  for row in cur:\n",
        "    print(\"ID = %s, name = %s\" % (row['id'], row['name']))\n",
        "  cursor.nextset()\n",
        "  for row in cur:\n",
        "    print(\"ID = %s, name = %s\" % (row['id'], row['name']))\n",
        "finally:\n",
        "  cursor.close()\n",
        "  conn.close()"
      ],
      "metadata": {
        "colab": {
          "base_uri": "https://localhost:8080/"
        },
        "id": "EedawaeV6ron",
        "outputId": "eb147cd8-4c8d-49ae-f1d2-ab3516327a98"
      },
      "execution_count": 52,
      "outputs": [
        {
          "output_type": "stream",
          "name": "stdout",
          "text": [
            "ID = 1, name = 인천시\n",
            "ID = 2, name = 대구시\n",
            "ID = 3, name = 대전시\n",
            "ID = 4, name = 광주시\n",
            "ID = 5, name = 부산시\n",
            "ID = 1, name = 인천시\n",
            "ID = 2, name = 대구시\n",
            "ID = 3, name = 대전시\n",
            "ID = 4, name = 광주시\n",
            "ID = 5, name = 부산시\n"
          ]
        }
      ]
    },
    {
      "cell_type": "code",
      "source": [
        "conn = pymysql.connect(host='34.64.86.80', port=3306, user='root', passwd='acorn1234',\n",
        "                      db='zoo', charset='utf8', cursorclass=pymysql.cursors.DictCursor, autocommit=True)\n",
        "\n",
        "try:\n",
        "  cursor = conn.cursor()\n",
        "  # cursor.execute(\"select * from pet where birth > '2015-01-01'\")\n",
        "  # cursor.execute(\"select * from pet where species = 'cat' and sex = 'f'\")\n",
        "  # cursor.execute(\"select name, birth from pet order by 'birth'\")\n",
        "  # cursor.execute(\"select name, birth from pet where death is NULL \")\n",
        "  rows = cursor.fetchall()\n",
        "  print(type(rows))\n",
        "  for pets in list(rows):      # [{}, {}, {}]\n",
        "    pet = list(pets.values())  # keys + values의 결합\n",
        "    print(\"ID = %d, Name = %s, 주인 = %s\" % (pet[0], pet[1], pet[2]))\n",
        "finally:\n",
        "  cursor.close()\n",
        "  conn.close()"
      ],
      "metadata": {
        "colab": {
          "base_uri": "https://localhost:8080/",
          "height": 266
        },
        "id": "yKuQUFscTiGz",
        "outputId": "e4a2051f-e9ca-4ef9-8fa2-580bbb8c9a87"
      },
      "execution_count": 56,
      "outputs": [
        {
          "output_type": "stream",
          "name": "stdout",
          "text": [
            "<class 'list'>\n"
          ]
        },
        {
          "output_type": "error",
          "ename": "IndexError",
          "evalue": "ignored",
          "traceback": [
            "\u001b[0;31m---------------------------------------------------------------------------\u001b[0m",
            "\u001b[0;31mIndexError\u001b[0m                                Traceback (most recent call last)",
            "\u001b[0;32m<ipython-input-56-b7a42431ca21>\u001b[0m in \u001b[0;36m<cell line: 4>\u001b[0;34m()\u001b[0m\n\u001b[1;32m     12\u001b[0m   \u001b[0;32mfor\u001b[0m \u001b[0mpets\u001b[0m \u001b[0;32min\u001b[0m \u001b[0mlist\u001b[0m\u001b[0;34m(\u001b[0m\u001b[0mrows\u001b[0m\u001b[0;34m)\u001b[0m\u001b[0;34m:\u001b[0m      \u001b[0;31m# [{}, {}, {}]\u001b[0m\u001b[0;34m\u001b[0m\u001b[0;34m\u001b[0m\u001b[0m\n\u001b[1;32m     13\u001b[0m     \u001b[0mpet\u001b[0m \u001b[0;34m=\u001b[0m \u001b[0mlist\u001b[0m\u001b[0;34m(\u001b[0m\u001b[0mpets\u001b[0m\u001b[0;34m.\u001b[0m\u001b[0mvalues\u001b[0m\u001b[0;34m(\u001b[0m\u001b[0;34m)\u001b[0m\u001b[0;34m)\u001b[0m  \u001b[0;31m# keys + values의 결합\u001b[0m\u001b[0;34m\u001b[0m\u001b[0;34m\u001b[0m\u001b[0m\n\u001b[0;32m---> 14\u001b[0;31m     \u001b[0mprint\u001b[0m\u001b[0;34m(\u001b[0m\u001b[0;34m\"ID = %d, Name = %s, 주인 = %s\"\u001b[0m \u001b[0;34m%\u001b[0m \u001b[0;34m(\u001b[0m\u001b[0mpet\u001b[0m\u001b[0;34m[\u001b[0m\u001b[0;36m0\u001b[0m\u001b[0;34m]\u001b[0m\u001b[0;34m,\u001b[0m \u001b[0mpet\u001b[0m\u001b[0;34m[\u001b[0m\u001b[0;36m1\u001b[0m\u001b[0;34m]\u001b[0m\u001b[0;34m,\u001b[0m \u001b[0mpet\u001b[0m\u001b[0;34m[\u001b[0m\u001b[0;36m2\u001b[0m\u001b[0;34m]\u001b[0m\u001b[0;34m)\u001b[0m\u001b[0;34m)\u001b[0m\u001b[0;34m\u001b[0m\u001b[0;34m\u001b[0m\u001b[0m\n\u001b[0m\u001b[1;32m     15\u001b[0m \u001b[0;32mfinally\u001b[0m\u001b[0;34m:\u001b[0m\u001b[0;34m\u001b[0m\u001b[0;34m\u001b[0m\u001b[0m\n\u001b[1;32m     16\u001b[0m   \u001b[0mcursor\u001b[0m\u001b[0;34m.\u001b[0m\u001b[0mclose\u001b[0m\u001b[0;34m(\u001b[0m\u001b[0;34m)\u001b[0m\u001b[0;34m\u001b[0m\u001b[0;34m\u001b[0m\u001b[0m\n",
            "\u001b[0;31mIndexError\u001b[0m: list index out of range"
          ]
        }
      ]
    },
    {
      "cell_type": "code",
      "source": [
        "conn = pymysql.connect(host='34.64.86.80', port=3306, user='root', passwd='acorn1234',\n",
        "                      db='zoo', charset='utf8', cursorclass=pymysql.cursors.DictCursor, autocommit=True)\n",
        "\n",
        "try:\n",
        "  cursor = conn.cursor()\n",
        "  sql = 'update pet set name = %s where name = %s'\n",
        "  cursor.execute(sql, ('대구시', '부산시'))\n",
        "  conn.commit()\n",
        "  print('실행완료')\n",
        "  print(cursor.rowcount)\n",
        "  cursor.description\n",
        "finally:\n",
        "  cursor.close()\n",
        "  conn.close()"
      ],
      "metadata": {
        "colab": {
          "base_uri": "https://localhost:8080/"
        },
        "id": "TAAZJPZqTiIu",
        "outputId": "f43e6be2-fc2f-4951-db89-8c1de26815ed"
      },
      "execution_count": 61,
      "outputs": [
        {
          "output_type": "stream",
          "name": "stdout",
          "text": [
            "실행완료\n",
            "2\n"
          ]
        }
      ]
    },
    {
      "cell_type": "code",
      "source": [
        "# class에 데이터를 입력한다.\n",
        "# 트리거를 이용하여 합계, 평균, 학점을 자동으로 입력하도록 저장 프로시저를 작성\n",
        "# 이후, 클래스를 설계\n",
        "# 1명분의 데이터를 저장(name, kor, mat, eng, total, average, grade)\n",
        "# 입력 함수, 계산(합계, 평균) 함수, 학점 계산 함수, 출력 함수(__repr__)\n",
        "\n",
        "# 리스트에 입력 (데이터베이스와 리스트에 있는 내용이 일치해야 한다)\n",
        "# - maria db 연결 (select, insert, update, delete DB)\n",
        "# - CRUD를 실행시켜서, class list와 일치되게 관리\n",
        "# - list CRUD == DB CRUD와 연결한다. (프로그램이 종료되어도 DB에는 데이터가 남아있어야 함)\n",
        "# Management class\n",
        "# - 메뉴에 따라 CRUD가 직접 실행\n",
        "\n",
        "# 메뉴 (함수, class)"
      ],
      "metadata": {
        "id": "HMNpRrgT8w4V"
      },
      "execution_count": null,
      "outputs": []
    },
    {
      "cell_type": "code",
      "source": [
        "import pymysql\n",
        "class Student:\n",
        "  def __init__(self):\n",
        "    self.bunho = 0;\n",
        "    self.name = ''\n",
        "    self.kor = 0;\n",
        "    self.mat = 0;\n",
        "    self.eng = 0;\n",
        "    self.total = 0;\n",
        "    self.average = 0;\n",
        "    self.grade = ''\n",
        "  \n",
        "  def inputData(self):\n",
        "    print('학생 데이터를 입력하시오')\n",
        "    self.name = input('이름을 입력하시오 : ')\n",
        "    self.kor = eval(input('국어점수를 입력하시오 : '))\n",
        "    self.mat = eval(input('수학점수를 입력하시오 : '))\n",
        "    self.eng = eval(input('영어점수를 입력하시오 : '))\n",
        "    self.calc_total_average()\n",
        "  \n",
        "  def calc_total_average(self):\n",
        "    self.total = self.kor + self.mat + self.eng\n",
        "    self.average = round(self.total/3, 2)\n",
        "    # self.calcSemGrade()\n",
        "  \n",
        "  def calcSemGrade(self):\n",
        "    if self.average >=90: return 'A'\n",
        "    elif self.average >=80: return 'B'\n",
        "    elif self.average >=70: return 'C'\n",
        "    elif self.average >=60: return 'D'\n",
        "    else: return 'F'\n",
        "  \n",
        "  def __repr__(self):\n",
        "    return \"%5s %7s %8s %8s %8s %8s %9s %3s\" % (self.bunho, self.name, self.kor, self.mat, self.eng, self.total, self.average, self.grade)\n",
        "\n"
      ],
      "metadata": {
        "id": "PvwY3Kc4TiKj"
      },
      "execution_count": 127,
      "outputs": []
    },
    {
      "cell_type": "code",
      "source": [
        "class maria:\n",
        "  schoolname = '대전미래융합교육원'\n",
        "  def __init__(self):\n",
        "    self.conn = pymysql.connect(host='34.64.86.80', port=3306, user='root', passwd='acorn1234',\n",
        "                      db='zoo', charset='utf8', #cursorclass=pymysql.cursors.DictCursor, \n",
        "                      autocommit=True)\n",
        "    \n",
        "    cor = self.conn.cursor()\n",
        "    cor.execute(\"show tables\")\n",
        "    tables = cor.fetchall()\n",
        "    c=[]\n",
        "    for i in tables:\n",
        "      if i == ('sungjuk',):\n",
        "        c.append(i)\n",
        "    # if len(c) !=0:\n",
        "    #   sungjuk_table = \"select * from sungjuk\"\n",
        "    #   cor.execute(sungjuk_table)\n",
        "    #   print(\"테이블이 있습니다. \")\n",
        "    # else:\n",
        "    #   cor.execute(\"\"\" CREATE TABLE `sungjuk` (\n",
        "    #                   `bunho` INT(11) NOT NULL AUTO_INCREMENT,\n",
        "    #                   `name` VARCHAR(20) NULL DEFAULT NULL COLLATE 'utf8mb4_general_ci',\n",
        "    #                   `kor` INT(11) NULL DEFAULT NULL,\n",
        "    #                   `mat` INT(11) NULL DEFAULT NULL,\n",
        "    #                   `eng` INT(11) NULL DEFAULT NULL,\n",
        "    #                   `total` INT(11) NULL DEFAULT NULL,\n",
        "    #                   `average` FLOAT NULL DEFAULT NULL,\n",
        "    #                   `grade` CHAR(1) NULL DEFAULT NULL COLLATE 'utf8mb4_general_ci',\n",
        "    #                   PRIMARY KEY (`bunho`) USING BTREE\n",
        "    #                 )\n",
        "    #                 COLLATE='utf8mb4_general_ci'\n",
        "    #                 ENGINE=InnoDB\n",
        "    #                 ; \"\"\")\n",
        "                          \n",
        "  def __del__(self):\n",
        "    self.conn.close()\n",
        "    \n",
        "  def selectdb(self):\n",
        "    cur=self.conn.cursor()\n",
        "    cur.callproc(\"sungjuk_select\")\n",
        "    if cur.rowcount :\n",
        "      std = list(cur.fetchall())\n",
        "    else:\n",
        "      std = 0\n",
        "    cur.close()\n",
        "    return std\n",
        "\n",
        "  def insertdb(self, name, kor, mat, eng, result):\n",
        "    cur = self.conn.cursor()\n",
        "    arg = (name, kor, mat, eng, result)\n",
        "    cur.callproc(\"sungjuk_insert\", arg)\n",
        "    cur.close()\n",
        "\n",
        "  def updatedb(self, in_name, up_name, result):\n",
        "    cur = self.conn.cursor()\n",
        "    arg = (in_name, up_name, result)\n",
        "    cur.callproc(\"sungjuk_update\", arg)\n",
        "    cur.close();\n",
        "\n",
        "  def deletedb(self, in_name, result):\n",
        "    cur = self.conn.cursor()\n",
        "    arg = (in_name, result)\n",
        "    cur.callproc(\"sungjuk_delete\", arg)\n",
        "    cur.close()"
      ],
      "metadata": {
        "id": "tVf3unZDTiMz"
      },
      "execution_count": 128,
      "outputs": []
    },
    {
      "cell_type": "code",
      "source": [
        "from math import *\n",
        "class Management:\n",
        "  def __init__(self):\n",
        "    self.maria = maria();\n",
        "    \n",
        "  def M_select(self):\n",
        "    data = self.maria.selectdb()\n",
        "    st = []\n",
        "    if(data):\n",
        "      for student in data:\n",
        "        stp = Student()\n",
        "        stp.bunho = student[0]\n",
        "        stp.name = student[1]\n",
        "        stp.kor = student[2]\n",
        "        stp.mat = student[3]\n",
        "        stp.eng = student[4]\n",
        "        # 내가 자체적 추가\n",
        "        stp.total = student[5]\n",
        "        stp.average = student[6]\n",
        "        stp.grade = student[7]\n",
        "        st.append(stp)\n",
        "      print(self.maria.schoolname + \" 성적 계산표 \")\n",
        "      print( \"%5s %5s %6s %6s %6s %7s %7s %s\" % ('번호', '이름', '국어', '수학', '영어', '합계', '평균', '학점') )\n",
        "      for stud in st:\n",
        "        print(stud)\n",
        "    else:\n",
        "      print(\"데이터가 없습니다.\")\n",
        "\n",
        "  def M_insert(self):\n",
        "    stu = Student()\n",
        "    stu.inputData()\n",
        "    self.maria.insertdb(stu.name, stu.kor, stu.mat, stu.eng, 0)\n",
        "\n",
        "  def M_update(self):\n",
        "    name = input(\"검색할 이름을 입력하시오 : \")\n",
        "    replace_name = input(\"수정할 이름을 입력하시오 : \")\n",
        "    result = self.maria.updatedb(name, replace_name, 0)\n",
        "\n",
        "  def M_delete(self):\n",
        "    name = input(\"삭제할 이름을 입력하시오 : \")\n",
        "    self.maria.deletedb(name, 0)"
      ],
      "metadata": {
        "id": "FTugjA-ePYoz"
      },
      "execution_count": 129,
      "outputs": []
    },
    {
      "cell_type": "code",
      "source": [
        "import sys\n",
        "class Menu():\n",
        "  def __init__(self):\n",
        "    self.manage = Management()\n",
        "  \n",
        "  def work(self):\n",
        "    menu = ['전체검색(1)', '입력(2)', '수정(3)', '삭제(4)', '종료(9)']\n",
        "    while(1):\n",
        "      sel = input(menu)\n",
        "      if sel == '1':\n",
        "        self.manage.M_select()\n",
        "        continue\n",
        "      elif sel == '2':\n",
        "        self.manage.M_insert()\n",
        "      elif sel == '3':\n",
        "        self.manage.M_update()\n",
        "      elif sel == '4':\n",
        "        self.manage.M_delete()\n",
        "      elif sel == '9':\n",
        "        break;\n",
        "        # sys.exit()\n",
        "      else:\n",
        "        print('잘못된 입력입니다. 다시 입력하세요')\n",
        "        continue\n",
        "\n",
        "menu = Menu()\n",
        "menu.work()"
      ],
      "metadata": {
        "colab": {
          "base_uri": "https://localhost:8080/"
        },
        "id": "N6nSQth5TiOy",
        "outputId": "23250cc5-5e6a-4436-d2b3-acafc8f19b3f"
      },
      "execution_count": 130,
      "outputs": [
        {
          "name": "stdout",
          "output_type": "stream",
          "text": [
            "['전체검색(1)', '입력(2)', '수정(3)', '삭제(4)', '종료(9)']2\n",
            "학생 데이터를 입력하시오\n",
            "이름을 입력하시오 : 이병열열\n",
            "국어점수를 입력하시오 : 100\n",
            "수학점수를 입력하시오 : 90\n",
            "영어점수를 입력하시오 : 100\n",
            "['전체검색(1)', '입력(2)', '수정(3)', '삭제(4)', '종료(9)']1\n",
            "대전미래융합교육원 성적 계산표 \n",
            "   번호    이름     국어     수학     영어      합계      평균 학점\n",
            "    6    서윤호호      100      100       80      280     93.33   A\n",
            "    7     서윤호       90       90       90      270      90.0   A\n",
            "    8     이병열      100      100      100      300     100.0   A\n",
            "    9    이병열열      100       90      100      290     96.67   A\n",
            "['전체검색(1)', '입력(2)', '수정(3)', '삭제(4)', '종료(9)']9\n"
          ]
        }
      ]
    },
    {
      "cell_type": "code",
      "source": [],
      "metadata": {
        "id": "fOxGQWf5TiQq"
      },
      "execution_count": null,
      "outputs": []
    }
  ]
}